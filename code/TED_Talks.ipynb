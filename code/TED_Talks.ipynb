{
 "cells": [
  {
   "cell_type": "markdown",
   "metadata": {
    "pycharm": {
     "name": "#%% md\n"
    }
   },
   "source": [
    "# Exploring Pandas' features throught the TED Talks dataset\n",
    "\n",
    "In this tutorial, we will use the [TED Talks dataset](https://www.kaggle.com/rounakbanik/ted-talks), available from Kaggle Datasets under the [CC BY-NC-SA 4.0 license](https://creativecommons.org/licenses/by-nc-sa/4.0/).\n",
    "\n",
    "This tutorial is partially based on the [Data Science Best Practices with pandas](https://github.com/justmarkham/pycon-2019-tutorial) tutorial presented by Kevin Markham at PyCon2019 on May 2, 2019."
   ]
  },
  {
   "cell_type": "markdown",
   "metadata": {
    "pycharm": {
     "name": "#%% md\n"
    }
   },
   "source": [
    "## Import the required libraries"
   ]
  },
  {
   "cell_type": "code",
   "execution_count": 137,
   "metadata": {
    "pycharm": {
     "name": "#%%\n"
    },
    "ExecuteTime": {
     "end_time": "2024-02-21T09:15:07.281448900Z",
     "start_time": "2024-02-21T09:15:07.274102800Z"
    }
   },
   "outputs": [],
   "source": [
    "import numpy as np\n",
    "import pandas as pd\n",
    "from pathlib import Path \n",
    "import matplotlib.pyplot as plt \n",
    "from ast import literal_eval\n",
    "from collections import defaultdict"
   ]
  },
  {
   "cell_type": "markdown",
   "metadata": {
    "pycharm": {
     "name": "#%% md\n"
    }
   },
   "source": [
    "Sometimes you need to know the pandas version you are using, for example, when you need to consult the pandas documentation. You get the pandas version with:"
   ]
  },
  {
   "cell_type": "code",
   "execution_count": 138,
   "metadata": {
    "pycharm": {
     "name": "#%%\n"
    },
    "ExecuteTime": {
     "end_time": "2024-02-21T09:15:09.240119300Z",
     "start_time": "2024-02-21T09:15:09.207709400Z"
    }
   },
   "outputs": [
    {
     "data": {
      "text/plain": "'2.1.4'"
     },
     "execution_count": 138,
     "metadata": {},
     "output_type": "execute_result"
    }
   ],
   "source": [
    "pd.__version__ "
   ]
  },
  {
   "cell_type": "markdown",
   "metadata": {
    "pycharm": {
     "name": "#%% md\n"
    }
   },
   "source": [
    "## Load and examine the TED talks dataset"
   ]
  },
  {
   "cell_type": "code",
   "execution_count": 139,
   "metadata": {
    "pycharm": {
     "name": "#%%\n"
    },
    "ExecuteTime": {
     "end_time": "2024-02-21T09:15:14.531133100Z",
     "start_time": "2024-02-21T09:15:14.424140900Z"
    }
   },
   "outputs": [],
   "source": [
    "ted = pd.read_csv(Path.cwd()/'../data/ted.csv')"
   ]
  },
  {
   "cell_type": "code",
   "execution_count": 140,
   "metadata": {
    "pycharm": {
     "name": "#%%\n"
    },
    "ExecuteTime": {
     "end_time": "2024-02-21T09:15:15.489287700Z",
     "start_time": "2024-02-21T09:15:15.419819600Z"
    }
   },
   "outputs": [
    {
     "data": {
      "text/plain": "   comments                                        description  duration  \\\n0      4553  Sir Ken Robinson makes an entertaining and pro...      1164   \n1       265  With the same humor and humanity he exuded in ...       977   \n2       124  New York Times columnist David Pogue takes aim...      1286   \n3       200  In an emotionally charged talk, MacArthur-winn...      1116   \n4       593  You've never seen data presented like this. Wi...      1190   \n5       672  Tony Robbins discusses the \"invisible forces\" ...      1305   \n6       919  When two young Mormon missionaries knock on Ju...       992   \n7        46  Architect Joshua Prince-Ramus takes the audien...      1198   \n8       852  Philosopher Dan Dennett calls for religion -- ...      1485   \n9       900  Pastor Rick Warren, author of \"The Purpose-Dri...      1262   \n\n     event   film_date  languages         main_speaker  \\\n0  TED2006  1140825600         60         Ken Robinson   \n1  TED2006  1140825600         43              Al Gore   \n2  TED2006  1140739200         26          David Pogue   \n3  TED2006  1140912000         35        Majora Carter   \n4  TED2006  1140566400         48         Hans Rosling   \n5  TED2006  1138838400         36         Tony Robbins   \n6  TED2006  1140739200         31        Julia Sweeney   \n7  TED2006  1140652800         19  Joshua Prince-Ramus   \n8  TED2006  1138838400         32          Dan Dennett   \n9  TED2006  1140825600         31          Rick Warren   \n\n                                                name  num_speaker  \\\n0          Ken Robinson: Do schools kill creativity?            1   \n1               Al Gore: Averting the climate crisis            1   \n2                      David Pogue: Simplicity sells            1   \n3                 Majora Carter: Greening the ghetto            1   \n4      Hans Rosling: The best stats you've ever seen            1   \n5                 Tony Robbins: Why we do what we do            1   \n6                   Julia Sweeney: Letting go of God            1   \n7  Joshua Prince-Ramus: Behind the design of Seat...            1   \n8  Dan Dennett: Let's teach religion -- all relig...            1   \n9                     Rick Warren: A life of purpose            1   \n\n   published_date                                            ratings  \\\n0      1151367060  [{'id': 7, 'name': 'Funny', 'count': 19645}, {...   \n1      1151367060  [{'id': 7, 'name': 'Funny', 'count': 544}, {'i...   \n2      1151367060  [{'id': 7, 'name': 'Funny', 'count': 964}, {'i...   \n3      1151367060  [{'id': 3, 'name': 'Courageous', 'count': 760}...   \n4      1151440680  [{'id': 9, 'name': 'Ingenious', 'count': 3202}...   \n5      1151440680  [{'id': 7, 'name': 'Funny', 'count': 1102}, {'...   \n6      1152490260  [{'id': 3, 'name': 'Courageous', 'count': 477}...   \n7      1152490260  [{'id': 9, 'name': 'Ingenious', 'count': 195},...   \n8      1153181460  [{'id': 3, 'name': 'Courageous', 'count': 562}...   \n9      1153181460  [{'id': 21, 'name': 'Unconvincing', 'count': 8...   \n\n                                       related_talks  \\\n0  [{'id': 865, 'hero': 'https://pe.tedcdn.com/im...   \n1  [{'id': 243, 'hero': 'https://pe.tedcdn.com/im...   \n2  [{'id': 1725, 'hero': 'https://pe.tedcdn.com/i...   \n3  [{'id': 1041, 'hero': 'https://pe.tedcdn.com/i...   \n4  [{'id': 2056, 'hero': 'https://pe.tedcdn.com/i...   \n5  [{'id': 229, 'hero': 'https://pe.tedcdn.com/im...   \n6  [{'id': 22, 'hero': 'https://pe.tedcdn.com/ima...   \n7  [{'id': 750, 'hero': 'https://pe.tedcdn.com/im...   \n8  [{'id': 71, 'hero': 'https://pe.tedcdn.com/ima...   \n9  [{'id': 94, 'hero': 'https://pe.tedcdn.com/ima...   \n\n                            speaker_occupation  \\\n0                              Author/educator   \n1                             Climate advocate   \n2                         Technology columnist   \n3           Activist for environmental justice   \n4         Global health expert; data visionary   \n5  Life coach; expert in leadership psychology   \n6                  Actor, comedian, playwright   \n7                                    Architect   \n8             Philosopher, cognitive scientist   \n9                               Pastor, author   \n\n                                                tags  \\\n0  ['children', 'creativity', 'culture', 'dance',...   \n1  ['alternative energy', 'cars', 'climate change...   \n2  ['computers', 'entertainment', 'interface desi...   \n3  ['MacArthur grant', 'activism', 'business', 'c...   \n4  ['Africa', 'Asia', 'Google', 'demo', 'economic...   \n5  ['business', 'culture', 'entertainment', 'goal...   \n6  ['Christianity', 'God', 'atheism', 'comedy', '...   \n7  ['architecture', 'collaboration', 'culture', '...   \n8  ['God', 'TED Brain Trust', 'atheism', 'brain',...   \n9  ['Christianity', 'God', 'culture', 'happiness'...   \n\n                                               title  \\\n0                        Do schools kill creativity?   \n1                        Averting the climate crisis   \n2                                   Simplicity sells   \n3                                Greening the ghetto   \n4                    The best stats you've ever seen   \n5                               Why we do what we do   \n6                                  Letting go of God   \n7             Behind the design of Seattle's library   \n8  Let's teach religion -- all religion -- in sch...   \n9                                  A life of purpose   \n\n                                                 url     views  \n0  https://www.ted.com/talks/ken_robinson_says_sc...  47227110  \n1  https://www.ted.com/talks/al_gore_on_averting_...   3200520  \n2  https://www.ted.com/talks/david_pogue_says_sim...   1636292  \n3  https://www.ted.com/talks/majora_carter_s_tale...   1697550  \n4  https://www.ted.com/talks/hans_rosling_shows_t...  12005869  \n5  https://www.ted.com/talks/tony_robbins_asks_wh...  20685401  \n6  https://www.ted.com/talks/julia_sweeney_on_let...   3769987  \n7  https://www.ted.com/talks/joshua_prince_ramus_...    967741  \n8  https://www.ted.com/talks/dan_dennett_s_respon...   2567958  \n9  https://www.ted.com/talks/rick_warren_on_a_lif...   3095993  ",
      "text/html": "<div>\n<style scoped>\n    .dataframe tbody tr th:only-of-type {\n        vertical-align: middle;\n    }\n\n    .dataframe tbody tr th {\n        vertical-align: top;\n    }\n\n    .dataframe thead th {\n        text-align: right;\n    }\n</style>\n<table border=\"1\" class=\"dataframe\">\n  <thead>\n    <tr style=\"text-align: right;\">\n      <th></th>\n      <th>comments</th>\n      <th>description</th>\n      <th>duration</th>\n      <th>event</th>\n      <th>film_date</th>\n      <th>languages</th>\n      <th>main_speaker</th>\n      <th>name</th>\n      <th>num_speaker</th>\n      <th>published_date</th>\n      <th>ratings</th>\n      <th>related_talks</th>\n      <th>speaker_occupation</th>\n      <th>tags</th>\n      <th>title</th>\n      <th>url</th>\n      <th>views</th>\n    </tr>\n  </thead>\n  <tbody>\n    <tr>\n      <th>0</th>\n      <td>4553</td>\n      <td>Sir Ken Robinson makes an entertaining and pro...</td>\n      <td>1164</td>\n      <td>TED2006</td>\n      <td>1140825600</td>\n      <td>60</td>\n      <td>Ken Robinson</td>\n      <td>Ken Robinson: Do schools kill creativity?</td>\n      <td>1</td>\n      <td>1151367060</td>\n      <td>[{'id': 7, 'name': 'Funny', 'count': 19645}, {...</td>\n      <td>[{'id': 865, 'hero': 'https://pe.tedcdn.com/im...</td>\n      <td>Author/educator</td>\n      <td>['children', 'creativity', 'culture', 'dance',...</td>\n      <td>Do schools kill creativity?</td>\n      <td>https://www.ted.com/talks/ken_robinson_says_sc...</td>\n      <td>47227110</td>\n    </tr>\n    <tr>\n      <th>1</th>\n      <td>265</td>\n      <td>With the same humor and humanity he exuded in ...</td>\n      <td>977</td>\n      <td>TED2006</td>\n      <td>1140825600</td>\n      <td>43</td>\n      <td>Al Gore</td>\n      <td>Al Gore: Averting the climate crisis</td>\n      <td>1</td>\n      <td>1151367060</td>\n      <td>[{'id': 7, 'name': 'Funny', 'count': 544}, {'i...</td>\n      <td>[{'id': 243, 'hero': 'https://pe.tedcdn.com/im...</td>\n      <td>Climate advocate</td>\n      <td>['alternative energy', 'cars', 'climate change...</td>\n      <td>Averting the climate crisis</td>\n      <td>https://www.ted.com/talks/al_gore_on_averting_...</td>\n      <td>3200520</td>\n    </tr>\n    <tr>\n      <th>2</th>\n      <td>124</td>\n      <td>New York Times columnist David Pogue takes aim...</td>\n      <td>1286</td>\n      <td>TED2006</td>\n      <td>1140739200</td>\n      <td>26</td>\n      <td>David Pogue</td>\n      <td>David Pogue: Simplicity sells</td>\n      <td>1</td>\n      <td>1151367060</td>\n      <td>[{'id': 7, 'name': 'Funny', 'count': 964}, {'i...</td>\n      <td>[{'id': 1725, 'hero': 'https://pe.tedcdn.com/i...</td>\n      <td>Technology columnist</td>\n      <td>['computers', 'entertainment', 'interface desi...</td>\n      <td>Simplicity sells</td>\n      <td>https://www.ted.com/talks/david_pogue_says_sim...</td>\n      <td>1636292</td>\n    </tr>\n    <tr>\n      <th>3</th>\n      <td>200</td>\n      <td>In an emotionally charged talk, MacArthur-winn...</td>\n      <td>1116</td>\n      <td>TED2006</td>\n      <td>1140912000</td>\n      <td>35</td>\n      <td>Majora Carter</td>\n      <td>Majora Carter: Greening the ghetto</td>\n      <td>1</td>\n      <td>1151367060</td>\n      <td>[{'id': 3, 'name': 'Courageous', 'count': 760}...</td>\n      <td>[{'id': 1041, 'hero': 'https://pe.tedcdn.com/i...</td>\n      <td>Activist for environmental justice</td>\n      <td>['MacArthur grant', 'activism', 'business', 'c...</td>\n      <td>Greening the ghetto</td>\n      <td>https://www.ted.com/talks/majora_carter_s_tale...</td>\n      <td>1697550</td>\n    </tr>\n    <tr>\n      <th>4</th>\n      <td>593</td>\n      <td>You've never seen data presented like this. Wi...</td>\n      <td>1190</td>\n      <td>TED2006</td>\n      <td>1140566400</td>\n      <td>48</td>\n      <td>Hans Rosling</td>\n      <td>Hans Rosling: The best stats you've ever seen</td>\n      <td>1</td>\n      <td>1151440680</td>\n      <td>[{'id': 9, 'name': 'Ingenious', 'count': 3202}...</td>\n      <td>[{'id': 2056, 'hero': 'https://pe.tedcdn.com/i...</td>\n      <td>Global health expert; data visionary</td>\n      <td>['Africa', 'Asia', 'Google', 'demo', 'economic...</td>\n      <td>The best stats you've ever seen</td>\n      <td>https://www.ted.com/talks/hans_rosling_shows_t...</td>\n      <td>12005869</td>\n    </tr>\n    <tr>\n      <th>5</th>\n      <td>672</td>\n      <td>Tony Robbins discusses the \"invisible forces\" ...</td>\n      <td>1305</td>\n      <td>TED2006</td>\n      <td>1138838400</td>\n      <td>36</td>\n      <td>Tony Robbins</td>\n      <td>Tony Robbins: Why we do what we do</td>\n      <td>1</td>\n      <td>1151440680</td>\n      <td>[{'id': 7, 'name': 'Funny', 'count': 1102}, {'...</td>\n      <td>[{'id': 229, 'hero': 'https://pe.tedcdn.com/im...</td>\n      <td>Life coach; expert in leadership psychology</td>\n      <td>['business', 'culture', 'entertainment', 'goal...</td>\n      <td>Why we do what we do</td>\n      <td>https://www.ted.com/talks/tony_robbins_asks_wh...</td>\n      <td>20685401</td>\n    </tr>\n    <tr>\n      <th>6</th>\n      <td>919</td>\n      <td>When two young Mormon missionaries knock on Ju...</td>\n      <td>992</td>\n      <td>TED2006</td>\n      <td>1140739200</td>\n      <td>31</td>\n      <td>Julia Sweeney</td>\n      <td>Julia Sweeney: Letting go of God</td>\n      <td>1</td>\n      <td>1152490260</td>\n      <td>[{'id': 3, 'name': 'Courageous', 'count': 477}...</td>\n      <td>[{'id': 22, 'hero': 'https://pe.tedcdn.com/ima...</td>\n      <td>Actor, comedian, playwright</td>\n      <td>['Christianity', 'God', 'atheism', 'comedy', '...</td>\n      <td>Letting go of God</td>\n      <td>https://www.ted.com/talks/julia_sweeney_on_let...</td>\n      <td>3769987</td>\n    </tr>\n    <tr>\n      <th>7</th>\n      <td>46</td>\n      <td>Architect Joshua Prince-Ramus takes the audien...</td>\n      <td>1198</td>\n      <td>TED2006</td>\n      <td>1140652800</td>\n      <td>19</td>\n      <td>Joshua Prince-Ramus</td>\n      <td>Joshua Prince-Ramus: Behind the design of Seat...</td>\n      <td>1</td>\n      <td>1152490260</td>\n      <td>[{'id': 9, 'name': 'Ingenious', 'count': 195},...</td>\n      <td>[{'id': 750, 'hero': 'https://pe.tedcdn.com/im...</td>\n      <td>Architect</td>\n      <td>['architecture', 'collaboration', 'culture', '...</td>\n      <td>Behind the design of Seattle's library</td>\n      <td>https://www.ted.com/talks/joshua_prince_ramus_...</td>\n      <td>967741</td>\n    </tr>\n    <tr>\n      <th>8</th>\n      <td>852</td>\n      <td>Philosopher Dan Dennett calls for religion -- ...</td>\n      <td>1485</td>\n      <td>TED2006</td>\n      <td>1138838400</td>\n      <td>32</td>\n      <td>Dan Dennett</td>\n      <td>Dan Dennett: Let's teach religion -- all relig...</td>\n      <td>1</td>\n      <td>1153181460</td>\n      <td>[{'id': 3, 'name': 'Courageous', 'count': 562}...</td>\n      <td>[{'id': 71, 'hero': 'https://pe.tedcdn.com/ima...</td>\n      <td>Philosopher, cognitive scientist</td>\n      <td>['God', 'TED Brain Trust', 'atheism', 'brain',...</td>\n      <td>Let's teach religion -- all religion -- in sch...</td>\n      <td>https://www.ted.com/talks/dan_dennett_s_respon...</td>\n      <td>2567958</td>\n    </tr>\n    <tr>\n      <th>9</th>\n      <td>900</td>\n      <td>Pastor Rick Warren, author of \"The Purpose-Dri...</td>\n      <td>1262</td>\n      <td>TED2006</td>\n      <td>1140825600</td>\n      <td>31</td>\n      <td>Rick Warren</td>\n      <td>Rick Warren: A life of purpose</td>\n      <td>1</td>\n      <td>1153181460</td>\n      <td>[{'id': 21, 'name': 'Unconvincing', 'count': 8...</td>\n      <td>[{'id': 94, 'hero': 'https://pe.tedcdn.com/ima...</td>\n      <td>Pastor, author</td>\n      <td>['Christianity', 'God', 'culture', 'happiness'...</td>\n      <td>A life of purpose</td>\n      <td>https://www.ted.com/talks/rick_warren_on_a_lif...</td>\n      <td>3095993</td>\n    </tr>\n  </tbody>\n</table>\n</div>"
     },
     "execution_count": 140,
     "metadata": {},
     "output_type": "execute_result"
    }
   ],
   "source": [
    "ted.head(10)"
   ]
  },
  {
   "cell_type": "markdown",
   "metadata": {
    "pycharm": {
     "name": "#%% md\n"
    }
   },
   "source": [
    "### Check for the presence of missing values"
   ]
  },
  {
   "cell_type": "code",
   "execution_count": 141,
   "metadata": {
    "pycharm": {
     "name": "#%%\n"
    },
    "ExecuteTime": {
     "end_time": "2024-02-21T09:15:23.858886100Z",
     "start_time": "2024-02-21T09:15:23.852069700Z"
    }
   },
   "outputs": [
    {
     "data": {
      "text/plain": "comments              0\ndescription           0\nduration              0\nevent                 0\nfilm_date             0\nlanguages             0\nmain_speaker          0\nname                  0\nnum_speaker           0\npublished_date        0\nratings               0\nrelated_talks         0\nspeaker_occupation    6\ntags                  0\ntitle                 0\nurl                   0\nviews                 0\ndtype: int64"
     },
     "execution_count": 141,
     "metadata": {},
     "output_type": "execute_result"
    }
   ],
   "source": [
    "ted.isna().sum() # speaker_occupation je kolona koja ima missing values"
   ]
  },
  {
   "cell_type": "markdown",
   "metadata": {
    "pycharm": {
     "name": "#%% md\n"
    }
   },
   "source": [
    "Let's identify who are the speakers with missing occupation and if we can identify their occupation from other records (in case they gave more than one talk)"
   ]
  },
  {
   "cell_type": "markdown",
   "source": [
    "Svaki talk ima svog speakera. Jedan red = jedan talk. Postoji 6 missing values u koloni main_occupation, pa možemo\n",
    "da proverimo da li za neki drugi ted talk postoji isti speaker, a da na tom mestu piže main_occupation."
   ],
   "metadata": {
    "collapsed": false
   }
  },
  {
   "cell_type": "code",
   "execution_count": 142,
   "outputs": [],
   "source": [
    "speakers_na_occupation = ted.loc[ted.speaker_occupation.isna()].main_speaker.to_list()"
   ],
   "metadata": {
    "collapsed": false,
    "ExecuteTime": {
     "end_time": "2024-02-21T09:15:28.957154Z",
     "start_time": "2024-02-21T09:15:28.941483500Z"
    }
   }
  },
  {
   "cell_type": "markdown",
   "source": [
    "Sada ćemo proveriti da li za imena u listi postoji speaker_occupation za neki drugi talk."
   ],
   "metadata": {
    "collapsed": false
   }
  },
  {
   "cell_type": "code",
   "execution_count": 143,
   "outputs": [],
   "source": [
    "def get_no_occupation_speakers(ted,speakers_list):\n",
    "    for name,occupation in zip(ted.main_speaker, ted.speaker_occupation):\n",
    "        if name in speakers_list:\n",
    "            print(name,'-->',occupation)"
   ],
   "metadata": {
    "collapsed": false,
    "pycharm": {
     "name": "#%%\n"
    },
    "ExecuteTime": {
     "end_time": "2024-02-21T09:15:30.268840Z",
     "start_time": "2024-02-21T09:15:30.221443600Z"
    }
   }
  },
  {
   "cell_type": "code",
   "execution_count": 144,
   "outputs": [
    {
     "name": "stdout",
     "output_type": "stream",
     "text": [
      "Sonaar Luthra --> nan\n",
      "Rick Falkvinge --> nan\n",
      "Gary Kovacs --> nan\n",
      "Ryan Holladay --> nan\n",
      "Brian Dettmer --> nan\n",
      "Boniface Mwangi --> nan\n"
     ]
    }
   ],
   "source": [
    "get_no_occupation_speakers(ted,speakers_na_occupation)"
   ],
   "metadata": {
    "collapsed": false,
    "ExecuteTime": {
     "end_time": "2024-02-21T09:15:31.785266400Z",
     "start_time": "2024-02-21T09:15:31.736883900Z"
    }
   }
  },
  {
   "cell_type": "markdown",
   "source": [
    "Ne postoje drugi talkovi koje izvode speakeri koji nemaju zanimanje kako bismo utvrdili na neki drugi način occupation."
   ],
   "metadata": {
    "collapsed": false
   }
  },
  {
   "cell_type": "code",
   "execution_count": 145,
   "outputs": [],
   "source": [
    "ted['speaker_occupation'] = ted['speaker_occupation'].apply(lambda occupation:'Unknown' if occupation is np.NaN else occupation)"
   ],
   "metadata": {
    "collapsed": false,
    "ExecuteTime": {
     "end_time": "2024-02-21T09:15:33.850954500Z",
     "start_time": "2024-02-21T09:15:33.834011500Z"
    }
   }
  },
  {
   "cell_type": "code",
   "execution_count": 146,
   "outputs": [
    {
     "data": {
      "text/plain": "0"
     },
     "execution_count": 146,
     "metadata": {},
     "output_type": "execute_result"
    }
   ],
   "source": [
    "ted['speaker_occupation'].isna().sum() # sada ne postoji talk za koji je speaker occupation nan  "
   ],
   "metadata": {
    "collapsed": false,
    "ExecuteTime": {
     "end_time": "2024-02-21T09:15:35.709866400Z",
     "start_time": "2024-02-21T09:15:35.682850900Z"
    }
   }
  },
  {
   "cell_type": "markdown",
   "metadata": {
    "pycharm": {
     "name": "#%% md\n"
    }
   },
   "source": [
    "### Transform filming date and publication date into datetime columns"
   ]
  },
  {
   "cell_type": "markdown",
   "metadata": {
    "pycharm": {
     "name": "#%% md\n"
    }
   },
   "source": [
    "Examine a sample of film_date and published_date values"
   ]
  },
  {
   "cell_type": "code",
   "execution_count": 147,
   "outputs": [
    {
     "data": {
      "text/plain": "numpy.int64"
     },
     "execution_count": 147,
     "metadata": {},
     "output_type": "execute_result"
    }
   ],
   "source": [
    "type(ted['film_date'][0]) #numpy.int64"
   ],
   "metadata": {
    "collapsed": false,
    "ExecuteTime": {
     "end_time": "2024-02-21T09:15:37.848227500Z",
     "start_time": "2024-02-21T09:15:37.814991500Z"
    }
   }
  },
  {
   "cell_type": "code",
   "execution_count": 148,
   "metadata": {
    "pycharm": {
     "name": "#%%\n"
    },
    "ExecuteTime": {
     "end_time": "2024-02-21T09:15:39.399122100Z",
     "start_time": "2024-02-21T09:15:39.339100200Z"
    }
   },
   "outputs": [
    {
     "data": {
      "text/plain": "numpy.int64"
     },
     "execution_count": 148,
     "metadata": {},
     "output_type": "execute_result"
    }
   ],
   "source": [
    "type(ted['published_date'][0]) #numpy.int64"
   ]
  },
  {
   "cell_type": "markdown",
   "source": [
    "Oba datuma data su u obliku Unix epoch time-a, a to je broj sekundi koji je protekao od 1. januara 1970. "
   ],
   "metadata": {
    "collapsed": false
   }
  },
  {
   "cell_type": "markdown",
   "metadata": {
    "pycharm": {
     "name": "#%% md\n"
    }
   },
   "source": [
    "For more about epoch time, see: [https://www.epochconverter.com/](https://www.epochconverter.com/)"
   ]
  },
  {
   "cell_type": "code",
   "execution_count": 149,
   "metadata": {
    "pycharm": {
     "name": "#%%\n"
    },
    "ExecuteTime": {
     "end_time": "2024-02-21T09:15:41.115235700Z",
     "start_time": "2024-02-21T09:15:41.078559500Z"
    }
   },
   "outputs": [],
   "source": [
    "ted['film_date'] = pd.to_datetime(ted['film_date'],unit='s',origin='unix')"
   ]
  },
  {
   "cell_type": "code",
   "execution_count": 150,
   "metadata": {
    "pycharm": {
     "name": "#%%\n"
    },
    "ExecuteTime": {
     "end_time": "2024-02-21T09:15:42.011233300Z",
     "start_time": "2024-02-21T09:15:41.949710Z"
    }
   },
   "outputs": [],
   "source": [
    "ted['published_date'] = pd.to_datetime(ted['published_date'],origin='unix',unit='s')"
   ]
  },
  {
   "cell_type": "markdown",
   "source": [
    "# origin = 'unix' --> origin specificira tačku od koje se broji datum, a vrednost unix podrazumeva da se on broji od 1.1.1970.\n",
    "# unit = 's' --> unit specificira jedinice u kojima je obračunata vrednost kolone, a s specificira kao vrednost da su u pitanju sekunde "
   ],
   "metadata": {
    "collapsed": false
   }
  },
  {
   "cell_type": "markdown",
   "metadata": {
    "pycharm": {
     "name": "#%% md\n"
    }
   },
   "source": [
    "### How to change columns' names? \n",
    "\n",
    "The most flexible method for renaming columns is the `rename()` method. One should pass it a dictionary in which the keys are the old column names, while the values are the new names, and specify the axis to be 'columns'."
   ]
  },
  {
   "cell_type": "markdown",
   "metadata": {
    "pycharm": {
     "name": "#%% md\n"
    }
   },
   "source": [
    "For example, rename columns 'comments' and 'views' to 'comment_count' and 'view_count', respectively"
   ]
  },
  {
   "cell_type": "code",
   "execution_count": 151,
   "metadata": {
    "pycharm": {
     "name": "#%%\n"
    },
    "ExecuteTime": {
     "end_time": "2024-02-21T09:15:47.465734800Z",
     "start_time": "2024-02-21T09:15:47.447206500Z"
    }
   },
   "outputs": [],
   "source": [
    "rename_dict = {'comments':'comment_count', 'views':'view_count'}\n",
    "ted.rename(rename_dict,axis='columns', inplace=True)"
   ]
  },
  {
   "cell_type": "code",
   "execution_count": 152,
   "metadata": {
    "pycharm": {
     "name": "#%%\n"
    },
    "ExecuteTime": {
     "end_time": "2024-02-21T09:15:48.278775400Z",
     "start_time": "2024-02-21T09:15:48.242291300Z"
    }
   },
   "outputs": [
    {
     "data": {
      "text/plain": "Index(['comment_count', 'description', 'duration', 'event', 'film_date',\n       'languages', 'main_speaker', 'name', 'num_speaker', 'published_date',\n       'ratings', 'related_talks', 'speaker_occupation', 'tags', 'title',\n       'url', 'view_count'],\n      dtype='object')"
     },
     "execution_count": 152,
     "metadata": {},
     "output_type": "execute_result"
    }
   ],
   "source": [
    "ted.columns"
   ]
  },
  {
   "cell_type": "markdown",
   "metadata": {
    "pycharm": {
     "name": "#%% md\n"
    }
   },
   "source": [
    "## Task 1: Compute and plot the number of talks that took place each year"
   ]
  },
  {
   "cell_type": "markdown",
   "metadata": {
    "pycharm": {
     "name": "#%% md\n"
    }
   },
   "source": [
    "Prvo ćemo ekstrakovati polje godine iz datuma, zatim grupisati ted po godinama i izračunati koliko ima naslova po svakoj godini. "
   ]
  },
  {
   "cell_type": "code",
   "execution_count": 153,
   "metadata": {
    "pycharm": {
     "name": "#%%\n"
    },
    "ExecuteTime": {
     "end_time": "2024-02-21T09:15:52.413189600Z",
     "start_time": "2024-02-21T09:15:52.228298300Z"
    }
   },
   "outputs": [
    {
     "data": {
      "text/plain": "<Figure size 600x300 with 1 Axes>",
      "image/png": "[encoded data removed]"
     },
     "metadata": {},
     "output_type": "display_data"
    }
   ],
   "source": [
    "year_talk_count = ted.groupby(ted['film_date'].dt.year)['title'].count()\n",
    "x = year_talk_count.index\n",
    "y = year_talk_count.values\n",
    "fg, ax = plt.subplots(figsize=(6,3))\n",
    "ax.plot(x, y, marker='*')\n",
    "ax.grid(visible=True,alpha=0.5)\n",
    "ax.tick_params(axis='x',labelsize=9,labelrotation=60)\n",
    "ax.set_xlabel('Year')\n",
    "ax.set_ylabel('Number of talks')\n",
    "ax.set_title('Corelation between years and number of TED talks')\n",
    "plt.show()"
   ]
  },
  {
   "cell_type": "markdown",
   "metadata": {
    "pycharm": {
     "name": "#%% md\n"
    }
   },
   "source": [
    "## Task 2: Which TED events attracted the most attention?\n",
    "\n",
    "Consider the number of views as a proxy of an event's attractiveness. Neka je stepen atraktivnost Ted eventa dat preko broja pregleda. Za svaki event izračunaćemo ukupne preglede, prosečne preglede (zato što neki TED eventovi mogu imati samo jedan talk, a ne više njih) i broj talkova po eventu. Rezultate ćemo sortirati preko prosečnih pregleda. Ubacićemo kolonu broj eventova zato što je moguće da postoje neki eventovi koji imaju vrlo mali broj ted talkova, a gde je taj jedan talk veoma popularan, a ostatak talkova nije popularan. "
   ]
  },
  {
   "cell_type": "code",
   "execution_count": 154,
   "metadata": {
    "pycharm": {
     "name": "#%%\n"
    },
    "ExecuteTime": {
     "end_time": "2024-02-21T09:15:58.666767500Z",
     "start_time": "2024-02-21T09:15:58.647224900Z"
    }
   },
   "outputs": [],
   "source": [
    "event_atractiveness = ted.groupby('event')['view_count'].agg(['mean','sum','count']).sort_values(by='mean',ascending=False)"
   ]
  },
  {
   "cell_type": "code",
   "execution_count": 155,
   "outputs": [
    {
     "data": {
      "text/plain": "                         Mean view per talk  Total views  Number of talks\nevent                                                                    \nTEDxPuget Sound                  34309432.0     34309432                1\nTEDxHouston                      16140250.5     32280501                2\nTEDxBloomington                   9484259.5     18968519                2\nTEDxCreativeCoast                 8444981.0      8444981                1\nTEDxNorrkoping                    6569493.0      6569493                1\nTEDxUW                            5917201.0      5917201                1\nTEDxLinnaeusUniversity            4984884.0      4984884                1\nTEDxGoldenGatePark 2012           4811180.0      4811180                1\nTEDxCHUV                          4682458.0      4682458                1\nStanford University               4658636.5      9317273                2",
      "text/html": "<div>\n<style scoped>\n    .dataframe tbody tr th:only-of-type {\n        vertical-align: middle;\n    }\n\n    .dataframe tbody tr th {\n        vertical-align: top;\n    }\n\n    .dataframe thead th {\n        text-align: right;\n    }\n</style>\n<table border=\"1\" class=\"dataframe\">\n  <thead>\n    <tr style=\"text-align: right;\">\n      <th></th>\n      <th>Mean view per talk</th>\n      <th>Total views</th>\n      <th>Number of talks</th>\n    </tr>\n    <tr>\n      <th>event</th>\n      <th></th>\n      <th></th>\n      <th></th>\n    </tr>\n  </thead>\n  <tbody>\n    <tr>\n      <th>TEDxPuget Sound</th>\n      <td>34309432.0</td>\n      <td>34309432</td>\n      <td>1</td>\n    </tr>\n    <tr>\n      <th>TEDxHouston</th>\n      <td>16140250.5</td>\n      <td>32280501</td>\n      <td>2</td>\n    </tr>\n    <tr>\n      <th>TEDxBloomington</th>\n      <td>9484259.5</td>\n      <td>18968519</td>\n      <td>2</td>\n    </tr>\n    <tr>\n      <th>TEDxCreativeCoast</th>\n      <td>8444981.0</td>\n      <td>8444981</td>\n      <td>1</td>\n    </tr>\n    <tr>\n      <th>TEDxNorrkoping</th>\n      <td>6569493.0</td>\n      <td>6569493</td>\n      <td>1</td>\n    </tr>\n    <tr>\n      <th>TEDxUW</th>\n      <td>5917201.0</td>\n      <td>5917201</td>\n      <td>1</td>\n    </tr>\n    <tr>\n      <th>TEDxLinnaeusUniversity</th>\n      <td>4984884.0</td>\n      <td>4984884</td>\n      <td>1</td>\n    </tr>\n    <tr>\n      <th>TEDxGoldenGatePark 2012</th>\n      <td>4811180.0</td>\n      <td>4811180</td>\n      <td>1</td>\n    </tr>\n    <tr>\n      <th>TEDxCHUV</th>\n      <td>4682458.0</td>\n      <td>4682458</td>\n      <td>1</td>\n    </tr>\n    <tr>\n      <th>Stanford University</th>\n      <td>4658636.5</td>\n      <td>9317273</td>\n      <td>2</td>\n    </tr>\n  </tbody>\n</table>\n</div>"
     },
     "execution_count": 155,
     "metadata": {},
     "output_type": "execute_result"
    }
   ],
   "source": [
    "event_atractiveness.columns=['Mean view per talk', 'Total views','Number of talks']\n",
    "event_atractiveness.head(10)"
   ],
   "metadata": {
    "collapsed": false,
    "ExecuteTime": {
     "end_time": "2024-02-21T09:16:00.307379700Z",
     "start_time": "2024-02-21T09:16:00.282500300Z"
    }
   }
  },
  {
   "cell_type": "markdown",
   "source": [
    "Vidimo da 10 najpopularnijih TED eventova, gledano po prosečnim pregledima po talku, ima maksimalno dva TED talka. Sada ćemo proveriti statistiku za broj talkova i prosečne preglede za svaki event. "
   ],
   "metadata": {
    "collapsed": false
   }
  },
  {
   "cell_type": "code",
   "execution_count": 156,
   "metadata": {
    "pycharm": {
     "name": "#%%\n"
    },
    "ExecuteTime": {
     "end_time": "2024-02-21T09:16:03.260111100Z",
     "start_time": "2024-02-21T09:16:03.211901Z"
    }
   },
   "outputs": [
    {
     "data": {
      "text/plain": "                             Mean view per talk  Total views  Number of talks\nevent                                                                        \nTED Talks Education                4.375104e+06     35000830                8\nTEDGlobal>Geneva                   3.385408e+06     37239487               11\nTED2006                            3.274345e+06    147345533               45\nTEDxManhattanBeach                 3.251704e+06      9755112                3\nTEDSalon NY2013                    2.861639e+06     31478034               11\n...                                         ...          ...              ...\nTEDxYYC                            3.699607e+05      1109882                3\nBusiness Innovation Factory        3.040860e+05       912258                3\nTEDxPhoenix                        2.846855e+05      1138742                4\nTEDSalon 2009 Compassion           2.818163e+05       845449                3\nChautauqua Institution             2.608687e+05       782606                3\n\n[142 rows x 3 columns]",
      "text/html": "<div>\n<style scoped>\n    .dataframe tbody tr th:only-of-type {\n        vertical-align: middle;\n    }\n\n    .dataframe tbody tr th {\n        vertical-align: top;\n    }\n\n    .dataframe thead th {\n        text-align: right;\n    }\n</style>\n<table border=\"1\" class=\"dataframe\">\n  <thead>\n    <tr style=\"text-align: right;\">\n      <th></th>\n      <th>Mean view per talk</th>\n      <th>Total views</th>\n      <th>Number of talks</th>\n    </tr>\n    <tr>\n      <th>event</th>\n      <th></th>\n      <th></th>\n      <th></th>\n    </tr>\n  </thead>\n  <tbody>\n    <tr>\n      <th>TED Talks Education</th>\n      <td>4.375104e+06</td>\n      <td>35000830</td>\n      <td>8</td>\n    </tr>\n    <tr>\n      <th>TEDGlobal&gt;Geneva</th>\n      <td>3.385408e+06</td>\n      <td>37239487</td>\n      <td>11</td>\n    </tr>\n    <tr>\n      <th>TED2006</th>\n      <td>3.274345e+06</td>\n      <td>147345533</td>\n      <td>45</td>\n    </tr>\n    <tr>\n      <th>TEDxManhattanBeach</th>\n      <td>3.251704e+06</td>\n      <td>9755112</td>\n      <td>3</td>\n    </tr>\n    <tr>\n      <th>TEDSalon NY2013</th>\n      <td>2.861639e+06</td>\n      <td>31478034</td>\n      <td>11</td>\n    </tr>\n    <tr>\n      <th>...</th>\n      <td>...</td>\n      <td>...</td>\n      <td>...</td>\n    </tr>\n    <tr>\n      <th>TEDxYYC</th>\n      <td>3.699607e+05</td>\n      <td>1109882</td>\n      <td>3</td>\n    </tr>\n    <tr>\n      <th>Business Innovation Factory</th>\n      <td>3.040860e+05</td>\n      <td>912258</td>\n      <td>3</td>\n    </tr>\n    <tr>\n      <th>TEDxPhoenix</th>\n      <td>2.846855e+05</td>\n      <td>1138742</td>\n      <td>4</td>\n    </tr>\n    <tr>\n      <th>TEDSalon 2009 Compassion</th>\n      <td>2.818163e+05</td>\n      <td>845449</td>\n      <td>3</td>\n    </tr>\n    <tr>\n      <th>Chautauqua Institution</th>\n      <td>2.608687e+05</td>\n      <td>782606</td>\n      <td>3</td>\n    </tr>\n  </tbody>\n</table>\n<p>142 rows × 3 columns</p>\n</div>"
     },
     "execution_count": 156,
     "metadata": {},
     "output_type": "execute_result"
    }
   ],
   "source": [
    "event_atractiveness.loc[event_atractiveness['Number of talks']>2]"
   ]
  },
  {
   "cell_type": "markdown",
   "metadata": {
    "pycharm": {
     "name": "#%% md\n"
    }
   },
   "source": [
    "Proveriti eventove koji imaju broj talkova koji je iznad prosečnog broja talkova. Za to nam je potrebna medijana."
   ]
  },
  {
   "cell_type": "code",
   "execution_count": 157,
   "outputs": [],
   "source": [
    "median_talks = event_atractiveness.describe().loc['50%','Number of talks']"
   ],
   "metadata": {
    "collapsed": false,
    "ExecuteTime": {
     "end_time": "2024-02-21T09:16:05.699745Z",
     "start_time": "2024-02-21T09:16:05.695438800Z"
    }
   }
  },
  {
   "cell_type": "markdown",
   "source": [
    "50% eventova ima više od dva talka."
   ],
   "metadata": {
    "collapsed": false
   }
  },
  {
   "cell_type": "code",
   "execution_count": 158,
   "outputs": [
    {
     "data": {
      "text/plain": "                     Mean view per talk  Total views  Number of talks\nevent                                                                \nTED Talks Education        4.375104e+06     35000830                8\nTEDGlobal>Geneva           3.385408e+06     37239487               11\nTED2006                    3.274345e+06    147345533               45\nTEDxManhattanBeach         3.251704e+06      9755112                3\nTEDSalon NY2013            2.861639e+06     31478034               11\nTED2004                    2.693644e+06     83502957               31\nTEDGlobal 2013             2.584163e+06    170554736               66\nTEDGlobalLondon            2.540275e+06     20322197                8\nTEDWomen 2013              2.504863e+06     22543766                9\nTEDxMidwest                2.479920e+06      7439761                3",
      "text/html": "<div>\n<style scoped>\n    .dataframe tbody tr th:only-of-type {\n        vertical-align: middle;\n    }\n\n    .dataframe tbody tr th {\n        vertical-align: top;\n    }\n\n    .dataframe thead th {\n        text-align: right;\n    }\n</style>\n<table border=\"1\" class=\"dataframe\">\n  <thead>\n    <tr style=\"text-align: right;\">\n      <th></th>\n      <th>Mean view per talk</th>\n      <th>Total views</th>\n      <th>Number of talks</th>\n    </tr>\n    <tr>\n      <th>event</th>\n      <th></th>\n      <th></th>\n      <th></th>\n    </tr>\n  </thead>\n  <tbody>\n    <tr>\n      <th>TED Talks Education</th>\n      <td>4.375104e+06</td>\n      <td>35000830</td>\n      <td>8</td>\n    </tr>\n    <tr>\n      <th>TEDGlobal&gt;Geneva</th>\n      <td>3.385408e+06</td>\n      <td>37239487</td>\n      <td>11</td>\n    </tr>\n    <tr>\n      <th>TED2006</th>\n      <td>3.274345e+06</td>\n      <td>147345533</td>\n      <td>45</td>\n    </tr>\n    <tr>\n      <th>TEDxManhattanBeach</th>\n      <td>3.251704e+06</td>\n      <td>9755112</td>\n      <td>3</td>\n    </tr>\n    <tr>\n      <th>TEDSalon NY2013</th>\n      <td>2.861639e+06</td>\n      <td>31478034</td>\n      <td>11</td>\n    </tr>\n    <tr>\n      <th>TED2004</th>\n      <td>2.693644e+06</td>\n      <td>83502957</td>\n      <td>31</td>\n    </tr>\n    <tr>\n      <th>TEDGlobal 2013</th>\n      <td>2.584163e+06</td>\n      <td>170554736</td>\n      <td>66</td>\n    </tr>\n    <tr>\n      <th>TEDGlobalLondon</th>\n      <td>2.540275e+06</td>\n      <td>20322197</td>\n      <td>8</td>\n    </tr>\n    <tr>\n      <th>TEDWomen 2013</th>\n      <td>2.504863e+06</td>\n      <td>22543766</td>\n      <td>9</td>\n    </tr>\n    <tr>\n      <th>TEDxMidwest</th>\n      <td>2.479920e+06</td>\n      <td>7439761</td>\n      <td>3</td>\n    </tr>\n  </tbody>\n</table>\n</div>"
     },
     "execution_count": 158,
     "metadata": {},
     "output_type": "execute_result"
    }
   ],
   "source": [
    "top_10_atractive_events = event_atractiveness.loc[event_atractiveness['Number of talks']>median_talks].sort_values(by='Mean view per talk', ascending=False).head(10)\n",
    "top_10_atractive_events"
   ],
   "metadata": {
    "collapsed": false,
    "ExecuteTime": {
     "end_time": "2024-02-21T09:16:13.689037Z",
     "start_time": "2024-02-21T09:16:13.673313800Z"
    }
   }
  },
  {
   "cell_type": "code",
   "execution_count": 159,
   "outputs": [
    {
     "data": {
      "text/plain": "<Figure size 1000x500 with 1 Axes>",
      "image/png": "[encoded data removed]"
     },
     "metadata": {},
     "output_type": "display_data"
    }
   ],
   "source": [
    "x = top_10_atractive_events.index\n",
    "y = top_10_atractive_events['Mean view per talk'].values\n",
    "fg, ax = plt.subplots(figsize=(10,5))\n",
    "ax.plot(x,y,marker='^')\n",
    "ax.set_xlabel('Events')\n",
    "ax.set_ylabel('Mean views')\n",
    "ax.set_title('Corelation between events and mean views')\n",
    "ax.tick_params(axis='x', labelrotation=60, labelsize=9)"
   ],
   "metadata": {
    "collapsed": false,
    "ExecuteTime": {
     "end_time": "2024-02-21T09:16:19.151381900Z",
     "start_time": "2024-02-21T09:16:18.817658400Z"
    }
   }
  },
  {
   "cell_type": "markdown",
   "metadata": {
    "pycharm": {
     "name": "#%% md\n"
    }
   },
   "source": [
    "## Task 3: Explore talks based on their ratings"
   ]
  },
  {
   "cell_type": "markdown",
   "metadata": {
    "pycharm": {
     "name": "#%% md\n"
    }
   },
   "source": [
    "Prvo ćemo pogledati ratings kolonu ted dataFrame-a."
   ]
  },
  {
   "cell_type": "code",
   "execution_count": 160,
   "outputs": [
    {
     "data": {
      "text/plain": "\"[{'id': 7, 'name': 'Funny', 'count': 19645}, {'id': 1, 'name': 'Beautiful', 'count': 4573}, {'id': 9, 'name': 'Ingenious', 'count': 6073}, {'id': 3, 'name': 'Courageous', 'count': 3253}, {'id': 11, 'name': 'Longwinded', 'count': 387}, {'id': 2, 'name': 'Confusing', 'count': 242}, {'id': 8, 'name': 'Informative', 'count': 7346}, {'id': 22, 'name': 'Fascinating', 'count': 10581}, {'id': 21, 'name': 'Unconvincing', 'count': 300}, {'id': 24, 'name': 'Persuasive', 'count': 10704}, {'id': 23, 'name': 'Jaw-dropping', 'count': 4439}, {'id': 25, 'name': 'OK', 'count': 1174}, {'id': 26, 'name': 'Obnoxious', 'count': 209}, {'id': 10, 'name': 'Inspiring', 'count': 24924}]\""
     },
     "execution_count": 160,
     "metadata": {},
     "output_type": "execute_result"
    }
   ],
   "source": [
    "type(ted['ratings'][0]) # vidimo da je tip podatka string.\n",
    "ted['ratings'][0] # vidimo da ovo nije lista json vrednosti, nego string. Potrebno je pretvoriti ovaj string u listu json vrednosti. "
   ],
   "metadata": {
    "collapsed": false,
    "ExecuteTime": {
     "end_time": "2024-02-21T09:16:24.678915400Z",
     "start_time": "2024-02-21T09:16:24.609804900Z"
    }
   }
  },
  {
   "cell_type": "markdown",
   "source": [
    "Za pretvaranje stringa u listu json vrednosti koristi se literal eval funkcija iz ast paketa. AST = abstract syntax tree. \n",
    "# literal_eval() - transformiše string u literal, listu, tuple ili bilo koji container object "
   ],
   "metadata": {
    "collapsed": false
   }
  },
  {
   "cell_type": "code",
   "execution_count": 161,
   "metadata": {
    "pycharm": {
     "name": "#%%\n"
    },
    "ExecuteTime": {
     "end_time": "2024-02-21T09:16:29.726935700Z",
     "start_time": "2024-02-21T09:16:29.148039Z"
    }
   },
   "outputs": [],
   "source": [
    "ted['ratings']=ted['ratings'].apply(literal_eval)"
   ]
  },
  {
   "cell_type": "code",
   "execution_count": 162,
   "metadata": {
    "pycharm": {
     "name": "#%%\n"
    },
    "ExecuteTime": {
     "end_time": "2024-02-21T09:16:30.514909200Z",
     "start_time": "2024-02-21T09:16:30.440709800Z"
    }
   },
   "outputs": [
    {
     "data": {
      "text/plain": "list"
     },
     "execution_count": 162,
     "metadata": {},
     "output_type": "execute_result"
    }
   ],
   "source": [
    "type(ted['ratings'][0])"
   ]
  },
  {
   "cell_type": "markdown",
   "metadata": {
    "pycharm": {
     "name": "#%% md\n"
    }
   },
   "source": [
    "### Task 3.1: For each talk, find the 3 most frequent ratings\n",
    "\n",
    "Za svaki talk proći kroz listu dictionary - ja i izdvojiti 3 najfrekventnije ocene. \n",
    "- Prvo ćemo testirati kako da dobijemo top3 ocene za listu rejtinga za prvi TED talk."
   ]
  },
  {
   "cell_type": "code",
   "execution_count": 163,
   "outputs": [
    {
     "data": {
      "text/plain": "[{'id': 10, 'name': 'Inspiring', 'count': 24924},\n {'id': 7, 'name': 'Funny', 'count': 19645},\n {'id': 24, 'name': 'Persuasive', 'count': 10704}]"
     },
     "execution_count": 163,
     "metadata": {},
     "output_type": "execute_result"
    }
   ],
   "source": [
    "sorted(ted['ratings'][0], key=lambda rating:rating['count'], reverse=True)[0:3]"
   ],
   "metadata": {
    "collapsed": false,
    "ExecuteTime": {
     "end_time": "2024-02-21T09:16:34.415629800Z",
     "start_time": "2024-02-21T09:16:34.390710900Z"
    }
   }
  },
  {
   "cell_type": "code",
   "execution_count": 164,
   "outputs": [],
   "source": [
    "def get_top_3_ratings(list_of_ratings):\n",
    "    return ', '.join([rating['name'] for rating in sorted(list_of_ratings, key=lambda rating:rating['count'], reverse=True)[0:3]])"
   ],
   "metadata": {
    "collapsed": false,
    "ExecuteTime": {
     "end_time": "2024-02-21T09:16:36.040138900Z",
     "start_time": "2024-02-21T09:16:36.024002Z"
    }
   }
  },
  {
   "cell_type": "code",
   "execution_count": 165,
   "metadata": {
    "pycharm": {
     "name": "#%%\n"
    },
    "ExecuteTime": {
     "end_time": "2024-02-21T09:16:41.168825100Z",
     "start_time": "2024-02-21T09:16:41.111157500Z"
    }
   },
   "outputs": [],
   "source": [
    "top_3_list = []\n",
    "for rating in ted['ratings']:\n",
    "    top_3_list.append(get_top_3_ratings(rating))"
   ]
  },
  {
   "cell_type": "code",
   "execution_count": 166,
   "metadata": {
    "pycharm": {
     "name": "#%%\n"
    },
    "ExecuteTime": {
     "end_time": "2024-02-21T09:16:42.399014600Z",
     "start_time": "2024-02-21T09:16:42.355923500Z"
    }
   },
   "outputs": [],
   "source": [
    "top_3_series = pd.Series(top_3_list, name='Top3_Ratings')"
   ]
  },
  {
   "cell_type": "code",
   "execution_count": 167,
   "outputs": [],
   "source": [
    "ted = pd.concat([ted,top_3_series], axis='columns')"
   ],
   "metadata": {
    "collapsed": false,
    "ExecuteTime": {
     "end_time": "2024-02-21T09:16:44.957701800Z",
     "start_time": "2024-02-21T09:16:44.937985800Z"
    }
   }
  },
  {
   "cell_type": "code",
   "execution_count": 168,
   "outputs": [
    {
     "data": {
      "text/plain": "      comment_count                                        description  \\\n0              4553  Sir Ken Robinson makes an entertaining and pro...   \n1               265  With the same humor and humanity he exuded in ...   \n2               124  New York Times columnist David Pogue takes aim...   \n3               200  In an emotionally charged talk, MacArthur-winn...   \n4               593  You've never seen data presented like this. Wi...   \n...             ...                                                ...   \n2545             17  Between 2008 and 2016, the United States depor...   \n2546              6  How can you study Mars without a spaceship? He...   \n2547             10  Science fiction visions of the future show us ...   \n2548             32  In an unmissable talk about race and politics ...   \n2549              8  With more than half of the world population li...   \n\n      duration         event  film_date  languages         main_speaker  \\\n0         1164       TED2006 2006-02-25         60         Ken Robinson   \n1          977       TED2006 2006-02-25         43              Al Gore   \n2         1286       TED2006 2006-02-24         26          David Pogue   \n3         1116       TED2006 2006-02-26         35        Majora Carter   \n4         1190       TED2006 2006-02-22         48         Hans Rosling   \n...        ...           ...        ...        ...                  ...   \n2545       476       TED2017 2017-06-06          4     Duarte Geraldino   \n2546       290       TED2017 2017-04-24          3  Armando Azua-Bustos   \n2547       651       TED2017 2017-04-24          1       Radhika Nagpal   \n2548      1100  TEDxMileHigh 2017-07-08          1     Theo E.J. Wilson   \n2549       519       TED2017 2017-04-24          1    Karoliina Korppoo   \n\n                                                   name  num_speaker  \\\n0             Ken Robinson: Do schools kill creativity?            1   \n1                  Al Gore: Averting the climate crisis            1   \n2                         David Pogue: Simplicity sells            1   \n3                    Majora Carter: Greening the ghetto            1   \n4         Hans Rosling: The best stats you've ever seen            1   \n...                                                 ...          ...   \n2545  Duarte Geraldino: What we're missing in the de...            1   \n2546  Armando Azua-Bustos: The most Martian place on...            1   \n2547  Radhika Nagpal: What intelligent machines can ...            1   \n2548  Theo E.J. Wilson: A black man goes undercover ...            1   \n2549  Karoliina Korppoo: How a video game might help...            1   \n\n          published_date                                            ratings  \\\n0    2006-06-27 00:11:00  [{'id': 7, 'name': 'Funny', 'count': 19645}, {...   \n1    2006-06-27 00:11:00  [{'id': 7, 'name': 'Funny', 'count': 544}, {'i...   \n2    2006-06-27 00:11:00  [{'id': 7, 'name': 'Funny', 'count': 964}, {'i...   \n3    2006-06-27 00:11:00  [{'id': 3, 'name': 'Courageous', 'count': 760}...   \n4    2006-06-27 20:38:00  [{'id': 9, 'name': 'Ingenious', 'count': 3202}...   \n...                  ...                                                ...   \n2545 2017-09-19 20:00:16  [{'id': 3, 'name': 'Courageous', 'count': 24},...   \n2546 2017-09-20 15:02:17  [{'id': 22, 'name': 'Fascinating', 'count': 32...   \n2547 2017-09-21 15:01:35  [{'id': 1, 'name': 'Beautiful', 'count': 14}, ...   \n2548 2017-09-21 20:00:42  [{'id': 11, 'name': 'Longwinded', 'count': 3},...   \n2549 2017-09-22 15:00:22  [{'id': 21, 'name': 'Unconvincing', 'count': 2...   \n\n                                          related_talks  \\\n0     [{'id': 865, 'hero': 'https://pe.tedcdn.com/im...   \n1     [{'id': 243, 'hero': 'https://pe.tedcdn.com/im...   \n2     [{'id': 1725, 'hero': 'https://pe.tedcdn.com/i...   \n3     [{'id': 1041, 'hero': 'https://pe.tedcdn.com/i...   \n4     [{'id': 2056, 'hero': 'https://pe.tedcdn.com/i...   \n...                                                 ...   \n2545  [{'id': 2596, 'hero': 'https://pe.tedcdn.com/i...   \n2546  [{'id': 2491, 'hero': 'https://pe.tedcdn.com/i...   \n2547  [{'id': 2346, 'hero': 'https://pe.tedcdn.com/i...   \n2548  [{'id': 2512, 'hero': 'https://pe.tedcdn.com/i...   \n2549  [{'id': 2682, 'hero': 'https://pe.tedcdn.com/i...   \n\n                        speaker_occupation  \\\n0                          Author/educator   \n1                         Climate advocate   \n2                     Technology columnist   \n3       Activist for environmental justice   \n4     Global health expert; data visionary   \n...                                    ...   \n2545                            Journalist   \n2546                        Astrobiologist   \n2547                     Robotics engineer   \n2548                   Public intellectual   \n2549                         Game designer   \n\n                                                   tags  \\\n0     ['children', 'creativity', 'culture', 'dance',...   \n1     ['alternative energy', 'cars', 'climate change...   \n2     ['computers', 'entertainment', 'interface desi...   \n3     ['MacArthur grant', 'activism', 'business', 'c...   \n4     ['Africa', 'Asia', 'Google', 'demo', 'economic...   \n...                                                 ...   \n2545  ['TED Residency', 'United States', 'community'...   \n2546  ['Mars', 'South America', 'TED Fellows', 'astr...   \n2547  ['AI', 'ants', 'fish', 'future', 'innovation',...   \n2548  ['Internet', 'TEDx', 'United States', 'communi...   \n2549  ['cities', 'design', 'future', 'infrastructure...   \n\n                                                  title  \\\n0                           Do schools kill creativity?   \n1                           Averting the climate crisis   \n2                                      Simplicity sells   \n3                                   Greening the ghetto   \n4                       The best stats you've ever seen   \n...                                                 ...   \n2545  What we're missing in the debate about immigra...   \n2546                    The most Martian place on Earth   \n2547  What intelligent machines can learn from a sch...   \n2548       A black man goes undercover in the alt-right   \n2549  How a video game might help us build better ci...   \n\n                                                    url  view_count  \\\n0     https://www.ted.com/talks/ken_robinson_says_sc...    47227110   \n1     https://www.ted.com/talks/al_gore_on_averting_...     3200520   \n2     https://www.ted.com/talks/david_pogue_says_sim...     1636292   \n3     https://www.ted.com/talks/majora_carter_s_tale...     1697550   \n4     https://www.ted.com/talks/hans_rosling_shows_t...    12005869   \n...                                                 ...         ...   \n2545  https://www.ted.com/talks/duarte_geraldino_wha...      450430   \n2546  https://www.ted.com/talks/armando_azua_bustos_...      417470   \n2547  https://www.ted.com/talks/radhika_nagpal_what_...      375647   \n2548  https://www.ted.com/talks/theo_e_j_wilson_a_bl...      419309   \n2549  https://www.ted.com/talks/karoliina_korppoo_ho...      391721   \n\n                                Top3_Ratings  \n0               Inspiring, Funny, Persuasive  \n1              Funny, Informative, Inspiring  \n2              Funny, Informative, Inspiring  \n3          Inspiring, Courageous, Persuasive  \n4     Informative, Fascinating, Jaw-dropping  \n...                                      ...  \n2545      Informative, Inspiring, Courageous  \n2546     Informative, Fascinating, Inspiring  \n2547     Informative, Inspiring, Fascinating  \n2548      Inspiring, Courageous, Informative  \n2549    Inspiring, Informative, Unconvincing  \n\n[2550 rows x 18 columns]",
      "text/html": "<div>\n<style scoped>\n    .dataframe tbody tr th:only-of-type {\n        vertical-align: middle;\n    }\n\n    .dataframe tbody tr th {\n        vertical-align: top;\n    }\n\n    .dataframe thead th {\n        text-align: right;\n    }\n</style>\n<table border=\"1\" class=\"dataframe\">\n  <thead>\n    <tr style=\"text-align: right;\">\n      <th></th>\n      <th>comment_count</th>\n      <th>description</th>\n      <th>duration</th>\n      <th>event</th>\n      <th>film_date</th>\n      <th>languages</th>\n      <th>main_speaker</th>\n      <th>name</th>\n      <th>num_speaker</th>\n      <th>published_date</th>\n      <th>ratings</th>\n      <th>related_talks</th>\n      <th>speaker_occupation</th>\n      <th>tags</th>\n      <th>title</th>\n      <th>url</th>\n      <th>view_count</th>\n      <th>Top3_Ratings</th>\n    </tr>\n  </thead>\n  <tbody>\n    <tr>\n      <th>0</th>\n      <td>4553</td>\n      <td>Sir Ken Robinson makes an entertaining and pro...</td>\n      <td>1164</td>\n      <td>TED2006</td>\n      <td>2006-02-25</td>\n      <td>60</td>\n      <td>Ken Robinson</td>\n      <td>Ken Robinson: Do schools kill creativity?</td>\n      <td>1</td>\n      <td>2006-06-27 00:11:00</td>\n      <td>[{'id': 7, 'name': 'Funny', 'count': 19645}, {...</td>\n      <td>[{'id': 865, 'hero': 'https://pe.tedcdn.com/im...</td>\n      <td>Author/educator</td>\n      <td>['children', 'creativity', 'culture', 'dance',...</td>\n      <td>Do schools kill creativity?</td>\n      <td>https://www.ted.com/talks/ken_robinson_says_sc...</td>\n      <td>47227110</td>\n      <td>Inspiring, Funny, Persuasive</td>\n    </tr>\n    <tr>\n      <th>1</th>\n      <td>265</td>\n      <td>With the same humor and humanity he exuded in ...</td>\n      <td>977</td>\n      <td>TED2006</td>\n      <td>2006-02-25</td>\n      <td>43</td>\n      <td>Al Gore</td>\n      <td>Al Gore: Averting the climate crisis</td>\n      <td>1</td>\n      <td>2006-06-27 00:11:00</td>\n      <td>[{'id': 7, 'name': 'Funny', 'count': 544}, {'i...</td>\n      <td>[{'id': 243, 'hero': 'https://pe.tedcdn.com/im...</td>\n      <td>Climate advocate</td>\n      <td>['alternative energy', 'cars', 'climate change...</td>\n      <td>Averting the climate crisis</td>\n      <td>https://www.ted.com/talks/al_gore_on_averting_...</td>\n      <td>3200520</td>\n      <td>Funny, Informative, Inspiring</td>\n    </tr>\n    <tr>\n      <th>2</th>\n      <td>124</td>\n      <td>New York Times columnist David Pogue takes aim...</td>\n      <td>1286</td>\n      <td>TED2006</td>\n      <td>2006-02-24</td>\n      <td>26</td>\n      <td>David Pogue</td>\n      <td>David Pogue: Simplicity sells</td>\n      <td>1</td>\n      <td>2006-06-27 00:11:00</td>\n      <td>[{'id': 7, 'name': 'Funny', 'count': 964}, {'i...</td>\n      <td>[{'id': 1725, 'hero': 'https://pe.tedcdn.com/i...</td>\n      <td>Technology columnist</td>\n      <td>['computers', 'entertainment', 'interface desi...</td>\n      <td>Simplicity sells</td>\n      <td>https://www.ted.com/talks/david_pogue_says_sim...</td>\n      <td>1636292</td>\n      <td>Funny, Informative, Inspiring</td>\n    </tr>\n    <tr>\n      <th>3</th>\n      <td>200</td>\n      <td>In an emotionally charged talk, MacArthur-winn...</td>\n      <td>1116</td>\n      <td>TED2006</td>\n      <td>2006-02-26</td>\n      <td>35</td>\n      <td>Majora Carter</td>\n      <td>Majora Carter: Greening the ghetto</td>\n      <td>1</td>\n      <td>2006-06-27 00:11:00</td>\n      <td>[{'id': 3, 'name': 'Courageous', 'count': 760}...</td>\n      <td>[{'id': 1041, 'hero': 'https://pe.tedcdn.com/i...</td>\n      <td>Activist for environmental justice</td>\n      <td>['MacArthur grant', 'activism', 'business', 'c...</td>\n      <td>Greening the ghetto</td>\n      <td>https://www.ted.com/talks/majora_carter_s_tale...</td>\n      <td>1697550</td>\n      <td>Inspiring, Courageous, Persuasive</td>\n    </tr>\n    <tr>\n      <th>4</th>\n      <td>593</td>\n      <td>You've never seen data presented like this. Wi...</td>\n      <td>1190</td>\n      <td>TED2006</td>\n      <td>2006-02-22</td>\n      <td>48</td>\n      <td>Hans Rosling</td>\n      <td>Hans Rosling: The best stats you've ever seen</td>\n      <td>1</td>\n      <td>2006-06-27 20:38:00</td>\n      <td>[{'id': 9, 'name': 'Ingenious', 'count': 3202}...</td>\n      <td>[{'id': 2056, 'hero': 'https://pe.tedcdn.com/i...</td>\n      <td>Global health expert; data visionary</td>\n      <td>['Africa', 'Asia', 'Google', 'demo', 'economic...</td>\n      <td>The best stats you've ever seen</td>\n      <td>https://www.ted.com/talks/hans_rosling_shows_t...</td>\n      <td>12005869</td>\n      <td>Informative, Fascinating, Jaw-dropping</td>\n    </tr>\n    <tr>\n      <th>...</th>\n      <td>...</td>\n      <td>...</td>\n      <td>...</td>\n      <td>...</td>\n      <td>...</td>\n      <td>...</td>\n      <td>...</td>\n      <td>...</td>\n      <td>...</td>\n      <td>...</td>\n      <td>...</td>\n      <td>...</td>\n      <td>...</td>\n      <td>...</td>\n      <td>...</td>\n      <td>...</td>\n      <td>...</td>\n      <td>...</td>\n    </tr>\n    <tr>\n      <th>2545</th>\n      <td>17</td>\n      <td>Between 2008 and 2016, the United States depor...</td>\n      <td>476</td>\n      <td>TED2017</td>\n      <td>2017-06-06</td>\n      <td>4</td>\n      <td>Duarte Geraldino</td>\n      <td>Duarte Geraldino: What we're missing in the de...</td>\n      <td>1</td>\n      <td>2017-09-19 20:00:16</td>\n      <td>[{'id': 3, 'name': 'Courageous', 'count': 24},...</td>\n      <td>[{'id': 2596, 'hero': 'https://pe.tedcdn.com/i...</td>\n      <td>Journalist</td>\n      <td>['TED Residency', 'United States', 'community'...</td>\n      <td>What we're missing in the debate about immigra...</td>\n      <td>https://www.ted.com/talks/duarte_geraldino_wha...</td>\n      <td>450430</td>\n      <td>Informative, Inspiring, Courageous</td>\n    </tr>\n    <tr>\n      <th>2546</th>\n      <td>6</td>\n      <td>How can you study Mars without a spaceship? He...</td>\n      <td>290</td>\n      <td>TED2017</td>\n      <td>2017-04-24</td>\n      <td>3</td>\n      <td>Armando Azua-Bustos</td>\n      <td>Armando Azua-Bustos: The most Martian place on...</td>\n      <td>1</td>\n      <td>2017-09-20 15:02:17</td>\n      <td>[{'id': 22, 'name': 'Fascinating', 'count': 32...</td>\n      <td>[{'id': 2491, 'hero': 'https://pe.tedcdn.com/i...</td>\n      <td>Astrobiologist</td>\n      <td>['Mars', 'South America', 'TED Fellows', 'astr...</td>\n      <td>The most Martian place on Earth</td>\n      <td>https://www.ted.com/talks/armando_azua_bustos_...</td>\n      <td>417470</td>\n      <td>Informative, Fascinating, Inspiring</td>\n    </tr>\n    <tr>\n      <th>2547</th>\n      <td>10</td>\n      <td>Science fiction visions of the future show us ...</td>\n      <td>651</td>\n      <td>TED2017</td>\n      <td>2017-04-24</td>\n      <td>1</td>\n      <td>Radhika Nagpal</td>\n      <td>Radhika Nagpal: What intelligent machines can ...</td>\n      <td>1</td>\n      <td>2017-09-21 15:01:35</td>\n      <td>[{'id': 1, 'name': 'Beautiful', 'count': 14}, ...</td>\n      <td>[{'id': 2346, 'hero': 'https://pe.tedcdn.com/i...</td>\n      <td>Robotics engineer</td>\n      <td>['AI', 'ants', 'fish', 'future', 'innovation',...</td>\n      <td>What intelligent machines can learn from a sch...</td>\n      <td>https://www.ted.com/talks/radhika_nagpal_what_...</td>\n      <td>375647</td>\n      <td>Informative, Inspiring, Fascinating</td>\n    </tr>\n    <tr>\n      <th>2548</th>\n      <td>32</td>\n      <td>In an unmissable talk about race and politics ...</td>\n      <td>1100</td>\n      <td>TEDxMileHigh</td>\n      <td>2017-07-08</td>\n      <td>1</td>\n      <td>Theo E.J. Wilson</td>\n      <td>Theo E.J. Wilson: A black man goes undercover ...</td>\n      <td>1</td>\n      <td>2017-09-21 20:00:42</td>\n      <td>[{'id': 11, 'name': 'Longwinded', 'count': 3},...</td>\n      <td>[{'id': 2512, 'hero': 'https://pe.tedcdn.com/i...</td>\n      <td>Public intellectual</td>\n      <td>['Internet', 'TEDx', 'United States', 'communi...</td>\n      <td>A black man goes undercover in the alt-right</td>\n      <td>https://www.ted.com/talks/theo_e_j_wilson_a_bl...</td>\n      <td>419309</td>\n      <td>Inspiring, Courageous, Informative</td>\n    </tr>\n    <tr>\n      <th>2549</th>\n      <td>8</td>\n      <td>With more than half of the world population li...</td>\n      <td>519</td>\n      <td>TED2017</td>\n      <td>2017-04-24</td>\n      <td>1</td>\n      <td>Karoliina Korppoo</td>\n      <td>Karoliina Korppoo: How a video game might help...</td>\n      <td>1</td>\n      <td>2017-09-22 15:00:22</td>\n      <td>[{'id': 21, 'name': 'Unconvincing', 'count': 2...</td>\n      <td>[{'id': 2682, 'hero': 'https://pe.tedcdn.com/i...</td>\n      <td>Game designer</td>\n      <td>['cities', 'design', 'future', 'infrastructure...</td>\n      <td>How a video game might help us build better ci...</td>\n      <td>https://www.ted.com/talks/karoliina_korppoo_ho...</td>\n      <td>391721</td>\n      <td>Inspiring, Informative, Unconvincing</td>\n    </tr>\n  </tbody>\n</table>\n<p>2550 rows × 18 columns</p>\n</div>"
     },
     "execution_count": 168,
     "metadata": {},
     "output_type": "execute_result"
    }
   ],
   "source": [
    "ted"
   ],
   "metadata": {
    "collapsed": false,
    "ExecuteTime": {
     "end_time": "2024-02-21T09:16:46.707594Z",
     "start_time": "2024-02-21T09:16:46.623057700Z"
    }
   }
  },
  {
   "cell_type": "markdown",
   "metadata": {
    "pycharm": {
     "name": "#%% md\n"
    }
   },
   "source": [
    "Ispisati iz kolone top 3 rejtinge talkova koji potpadaju u top 10 najgledanijih."
   ]
  },
  {
   "cell_type": "code",
   "execution_count": 169,
   "metadata": {
    "pycharm": {
     "name": "#%%\n"
    },
    "ExecuteTime": {
     "end_time": "2024-02-21T09:16:52.596833500Z",
     "start_time": "2024-02-21T09:16:52.588925Z"
    }
   },
   "outputs": [
    {
     "data": {
      "text/plain": "0               Inspiring, Funny, Persuasive\n1346     Inspiring, Fascinating, Informative\n677       Inspiring, Persuasive, Fascinating\n837         Inspiring, Courageous, Beautiful\n452          Funny, Informative, Fascinating\n1776      Informative, Inspiring, Persuasive\n201     Inspiring, Fascinating, Jaw-dropping\n5         Inspiring, Persuasive, Fascinating\n2114           Funny, Ingenious, Fascinating\n1416      Courageous, Inspiring, Informative\nName: Top3_Ratings, dtype: object"
     },
     "execution_count": 169,
     "metadata": {},
     "output_type": "execute_result"
    }
   ],
   "source": [
    "ted.sort_values(by='view_count',ascending=False).head(10)['Top3_Ratings']"
   ]
  },
  {
   "cell_type": "markdown",
   "metadata": {
    "pycharm": {
     "name": "#%% md\n"
    }
   },
   "source": [
    "### Task 3.2 Which TED events had the most 'Jaw-dropping' talks?"
   ]
  },
  {
   "cell_type": "markdown",
   "source": [
    "1. Način rešavanja jeste da proverimo da li je Jaw-dropping u top 3 najfrekventnije ocene i ukoliko jeste setujemo\n",
    "vrednost polja kolone isJawDropping na True, a u suprotnom na False. Onda izračunamo sumu True vrednosti za svaki\n",
    "event."
   ],
   "metadata": {
    "collapsed": false
   }
  },
  {
   "cell_type": "code",
   "execution_count": 170,
   "outputs": [],
   "source": [
    "def is_jaw_dropping_talk(top3_ratings):\n",
    "    top3_array = top3_ratings.split(', ')\n",
    "    for rating in top3_array:\n",
    "        if rating == 'Jaw-dropping':\n",
    "            return True\n",
    "    return False"
   ],
   "metadata": {
    "collapsed": false,
    "ExecuteTime": {
     "end_time": "2024-02-21T09:16:56.786530400Z",
     "start_time": "2024-02-21T09:16:56.780203400Z"
    }
   }
  },
  {
   "cell_type": "code",
   "execution_count": 171,
   "outputs": [],
   "source": [
    "jaw_dropping_series = ted['Top3_Ratings'].apply(is_jaw_dropping_talk)\n",
    "jaw_dropping_series.name = 'Is_Jaw_Dropping'"
   ],
   "metadata": {
    "collapsed": false,
    "ExecuteTime": {
     "end_time": "2024-02-21T09:17:12.880966600Z",
     "start_time": "2024-02-21T09:17:12.781478700Z"
    }
   }
  },
  {
   "cell_type": "code",
   "execution_count": 172,
   "outputs": [],
   "source": [
    "ted = pd.concat([ted,jaw_dropping_series],axis='columns')"
   ],
   "metadata": {
    "collapsed": false,
    "ExecuteTime": {
     "end_time": "2024-02-21T09:17:15.410433700Z",
     "start_time": "2024-02-21T09:17:15.349320Z"
    }
   }
  },
  {
   "cell_type": "code",
   "execution_count": 173,
   "outputs": [
    {
     "data": {
      "text/plain": "      comment_count                                        description  \\\n0              4553  Sir Ken Robinson makes an entertaining and pro...   \n1               265  With the same humor and humanity he exuded in ...   \n2               124  New York Times columnist David Pogue takes aim...   \n3               200  In an emotionally charged talk, MacArthur-winn...   \n4               593  You've never seen data presented like this. Wi...   \n...             ...                                                ...   \n2545             17  Between 2008 and 2016, the United States depor...   \n2546              6  How can you study Mars without a spaceship? He...   \n2547             10  Science fiction visions of the future show us ...   \n2548             32  In an unmissable talk about race and politics ...   \n2549              8  With more than half of the world population li...   \n\n      duration         event  film_date  languages         main_speaker  \\\n0         1164       TED2006 2006-02-25         60         Ken Robinson   \n1          977       TED2006 2006-02-25         43              Al Gore   \n2         1286       TED2006 2006-02-24         26          David Pogue   \n3         1116       TED2006 2006-02-26         35        Majora Carter   \n4         1190       TED2006 2006-02-22         48         Hans Rosling   \n...        ...           ...        ...        ...                  ...   \n2545       476       TED2017 2017-06-06          4     Duarte Geraldino   \n2546       290       TED2017 2017-04-24          3  Armando Azua-Bustos   \n2547       651       TED2017 2017-04-24          1       Radhika Nagpal   \n2548      1100  TEDxMileHigh 2017-07-08          1     Theo E.J. Wilson   \n2549       519       TED2017 2017-04-24          1    Karoliina Korppoo   \n\n                                                   name  num_speaker  \\\n0             Ken Robinson: Do schools kill creativity?            1   \n1                  Al Gore: Averting the climate crisis            1   \n2                         David Pogue: Simplicity sells            1   \n3                    Majora Carter: Greening the ghetto            1   \n4         Hans Rosling: The best stats you've ever seen            1   \n...                                                 ...          ...   \n2545  Duarte Geraldino: What we're missing in the de...            1   \n2546  Armando Azua-Bustos: The most Martian place on...            1   \n2547  Radhika Nagpal: What intelligent machines can ...            1   \n2548  Theo E.J. Wilson: A black man goes undercover ...            1   \n2549  Karoliina Korppoo: How a video game might help...            1   \n\n          published_date                                            ratings  \\\n0    2006-06-27 00:11:00  [{'id': 7, 'name': 'Funny', 'count': 19645}, {...   \n1    2006-06-27 00:11:00  [{'id': 7, 'name': 'Funny', 'count': 544}, {'i...   \n2    2006-06-27 00:11:00  [{'id': 7, 'name': 'Funny', 'count': 964}, {'i...   \n3    2006-06-27 00:11:00  [{'id': 3, 'name': 'Courageous', 'count': 760}...   \n4    2006-06-27 20:38:00  [{'id': 9, 'name': 'Ingenious', 'count': 3202}...   \n...                  ...                                                ...   \n2545 2017-09-19 20:00:16  [{'id': 3, 'name': 'Courageous', 'count': 24},...   \n2546 2017-09-20 15:02:17  [{'id': 22, 'name': 'Fascinating', 'count': 32...   \n2547 2017-09-21 15:01:35  [{'id': 1, 'name': 'Beautiful', 'count': 14}, ...   \n2548 2017-09-21 20:00:42  [{'id': 11, 'name': 'Longwinded', 'count': 3},...   \n2549 2017-09-22 15:00:22  [{'id': 21, 'name': 'Unconvincing', 'count': 2...   \n\n                                          related_talks  \\\n0     [{'id': 865, 'hero': 'https://pe.tedcdn.com/im...   \n1     [{'id': 243, 'hero': 'https://pe.tedcdn.com/im...   \n2     [{'id': 1725, 'hero': 'https://pe.tedcdn.com/i...   \n3     [{'id': 1041, 'hero': 'https://pe.tedcdn.com/i...   \n4     [{'id': 2056, 'hero': 'https://pe.tedcdn.com/i...   \n...                                                 ...   \n2545  [{'id': 2596, 'hero': 'https://pe.tedcdn.com/i...   \n2546  [{'id': 2491, 'hero': 'https://pe.tedcdn.com/i...   \n2547  [{'id': 2346, 'hero': 'https://pe.tedcdn.com/i...   \n2548  [{'id': 2512, 'hero': 'https://pe.tedcdn.com/i...   \n2549  [{'id': 2682, 'hero': 'https://pe.tedcdn.com/i...   \n\n                        speaker_occupation  \\\n0                          Author/educator   \n1                         Climate advocate   \n2                     Technology columnist   \n3       Activist for environmental justice   \n4     Global health expert; data visionary   \n...                                    ...   \n2545                            Journalist   \n2546                        Astrobiologist   \n2547                     Robotics engineer   \n2548                   Public intellectual   \n2549                         Game designer   \n\n                                                   tags  \\\n0     ['children', 'creativity', 'culture', 'dance',...   \n1     ['alternative energy', 'cars', 'climate change...   \n2     ['computers', 'entertainment', 'interface desi...   \n3     ['MacArthur grant', 'activism', 'business', 'c...   \n4     ['Africa', 'Asia', 'Google', 'demo', 'economic...   \n...                                                 ...   \n2545  ['TED Residency', 'United States', 'community'...   \n2546  ['Mars', 'South America', 'TED Fellows', 'astr...   \n2547  ['AI', 'ants', 'fish', 'future', 'innovation',...   \n2548  ['Internet', 'TEDx', 'United States', 'communi...   \n2549  ['cities', 'design', 'future', 'infrastructure...   \n\n                                                  title  \\\n0                           Do schools kill creativity?   \n1                           Averting the climate crisis   \n2                                      Simplicity sells   \n3                                   Greening the ghetto   \n4                       The best stats you've ever seen   \n...                                                 ...   \n2545  What we're missing in the debate about immigra...   \n2546                    The most Martian place on Earth   \n2547  What intelligent machines can learn from a sch...   \n2548       A black man goes undercover in the alt-right   \n2549  How a video game might help us build better ci...   \n\n                                                    url  view_count  \\\n0     https://www.ted.com/talks/ken_robinson_says_sc...    47227110   \n1     https://www.ted.com/talks/al_gore_on_averting_...     3200520   \n2     https://www.ted.com/talks/david_pogue_says_sim...     1636292   \n3     https://www.ted.com/talks/majora_carter_s_tale...     1697550   \n4     https://www.ted.com/talks/hans_rosling_shows_t...    12005869   \n...                                                 ...         ...   \n2545  https://www.ted.com/talks/duarte_geraldino_wha...      450430   \n2546  https://www.ted.com/talks/armando_azua_bustos_...      417470   \n2547  https://www.ted.com/talks/radhika_nagpal_what_...      375647   \n2548  https://www.ted.com/talks/theo_e_j_wilson_a_bl...      419309   \n2549  https://www.ted.com/talks/karoliina_korppoo_ho...      391721   \n\n                                Top3_Ratings  Is_Jaw_Dropping  \n0               Inspiring, Funny, Persuasive            False  \n1              Funny, Informative, Inspiring            False  \n2              Funny, Informative, Inspiring            False  \n3          Inspiring, Courageous, Persuasive            False  \n4     Informative, Fascinating, Jaw-dropping             True  \n...                                      ...              ...  \n2545      Informative, Inspiring, Courageous            False  \n2546     Informative, Fascinating, Inspiring            False  \n2547     Informative, Inspiring, Fascinating            False  \n2548      Inspiring, Courageous, Informative            False  \n2549    Inspiring, Informative, Unconvincing            False  \n\n[2550 rows x 19 columns]",
      "text/html": "<div>\n<style scoped>\n    .dataframe tbody tr th:only-of-type {\n        vertical-align: middle;\n    }\n\n    .dataframe tbody tr th {\n        vertical-align: top;\n    }\n\n    .dataframe thead th {\n        text-align: right;\n    }\n</style>\n<table border=\"1\" class=\"dataframe\">\n  <thead>\n    <tr style=\"text-align: right;\">\n      <th></th>\n      <th>comment_count</th>\n      <th>description</th>\n      <th>duration</th>\n      <th>event</th>\n      <th>film_date</th>\n      <th>languages</th>\n      <th>main_speaker</th>\n      <th>name</th>\n      <th>num_speaker</th>\n      <th>published_date</th>\n      <th>ratings</th>\n      <th>related_talks</th>\n      <th>speaker_occupation</th>\n      <th>tags</th>\n      <th>title</th>\n      <th>url</th>\n      <th>view_count</th>\n      <th>Top3_Ratings</th>\n      <th>Is_Jaw_Dropping</th>\n    </tr>\n  </thead>\n  <tbody>\n    <tr>\n      <th>0</th>\n      <td>4553</td>\n      <td>Sir Ken Robinson makes an entertaining and pro...</td>\n      <td>1164</td>\n      <td>TED2006</td>\n      <td>2006-02-25</td>\n      <td>60</td>\n      <td>Ken Robinson</td>\n      <td>Ken Robinson: Do schools kill creativity?</td>\n      <td>1</td>\n      <td>2006-06-27 00:11:00</td>\n      <td>[{'id': 7, 'name': 'Funny', 'count': 19645}, {...</td>\n      <td>[{'id': 865, 'hero': 'https://pe.tedcdn.com/im...</td>\n      <td>Author/educator</td>\n      <td>['children', 'creativity', 'culture', 'dance',...</td>\n      <td>Do schools kill creativity?</td>\n      <td>https://www.ted.com/talks/ken_robinson_says_sc...</td>\n      <td>47227110</td>\n      <td>Inspiring, Funny, Persuasive</td>\n      <td>False</td>\n    </tr>\n    <tr>\n      <th>1</th>\n      <td>265</td>\n      <td>With the same humor and humanity he exuded in ...</td>\n      <td>977</td>\n      <td>TED2006</td>\n      <td>2006-02-25</td>\n      <td>43</td>\n      <td>Al Gore</td>\n      <td>Al Gore: Averting the climate crisis</td>\n      <td>1</td>\n      <td>2006-06-27 00:11:00</td>\n      <td>[{'id': 7, 'name': 'Funny', 'count': 544}, {'i...</td>\n      <td>[{'id': 243, 'hero': 'https://pe.tedcdn.com/im...</td>\n      <td>Climate advocate</td>\n      <td>['alternative energy', 'cars', 'climate change...</td>\n      <td>Averting the climate crisis</td>\n      <td>https://www.ted.com/talks/al_gore_on_averting_...</td>\n      <td>3200520</td>\n      <td>Funny, Informative, Inspiring</td>\n      <td>False</td>\n    </tr>\n    <tr>\n      <th>2</th>\n      <td>124</td>\n      <td>New York Times columnist David Pogue takes aim...</td>\n      <td>1286</td>\n      <td>TED2006</td>\n      <td>2006-02-24</td>\n      <td>26</td>\n      <td>David Pogue</td>\n      <td>David Pogue: Simplicity sells</td>\n      <td>1</td>\n      <td>2006-06-27 00:11:00</td>\n      <td>[{'id': 7, 'name': 'Funny', 'count': 964}, {'i...</td>\n      <td>[{'id': 1725, 'hero': 'https://pe.tedcdn.com/i...</td>\n      <td>Technology columnist</td>\n      <td>['computers', 'entertainment', 'interface desi...</td>\n      <td>Simplicity sells</td>\n      <td>https://www.ted.com/talks/david_pogue_says_sim...</td>\n      <td>1636292</td>\n      <td>Funny, Informative, Inspiring</td>\n      <td>False</td>\n    </tr>\n    <tr>\n      <th>3</th>\n      <td>200</td>\n      <td>In an emotionally charged talk, MacArthur-winn...</td>\n      <td>1116</td>\n      <td>TED2006</td>\n      <td>2006-02-26</td>\n      <td>35</td>\n      <td>Majora Carter</td>\n      <td>Majora Carter: Greening the ghetto</td>\n      <td>1</td>\n      <td>2006-06-27 00:11:00</td>\n      <td>[{'id': 3, 'name': 'Courageous', 'count': 760}...</td>\n      <td>[{'id': 1041, 'hero': 'https://pe.tedcdn.com/i...</td>\n      <td>Activist for environmental justice</td>\n      <td>['MacArthur grant', 'activism', 'business', 'c...</td>\n      <td>Greening the ghetto</td>\n      <td>https://www.ted.com/talks/majora_carter_s_tale...</td>\n      <td>1697550</td>\n      <td>Inspiring, Courageous, Persuasive</td>\n      <td>False</td>\n    </tr>\n    <tr>\n      <th>4</th>\n      <td>593</td>\n      <td>You've never seen data presented like this. Wi...</td>\n      <td>1190</td>\n      <td>TED2006</td>\n      <td>2006-02-22</td>\n      <td>48</td>\n      <td>Hans Rosling</td>\n      <td>Hans Rosling: The best stats you've ever seen</td>\n      <td>1</td>\n      <td>2006-06-27 20:38:00</td>\n      <td>[{'id': 9, 'name': 'Ingenious', 'count': 3202}...</td>\n      <td>[{'id': 2056, 'hero': 'https://pe.tedcdn.com/i...</td>\n      <td>Global health expert; data visionary</td>\n      <td>['Africa', 'Asia', 'Google', 'demo', 'economic...</td>\n      <td>The best stats you've ever seen</td>\n      <td>https://www.ted.com/talks/hans_rosling_shows_t...</td>\n      <td>12005869</td>\n      <td>Informative, Fascinating, Jaw-dropping</td>\n      <td>True</td>\n    </tr>\n    <tr>\n      <th>...</th>\n      <td>...</td>\n      <td>...</td>\n      <td>...</td>\n      <td>...</td>\n      <td>...</td>\n      <td>...</td>\n      <td>...</td>\n      <td>...</td>\n      <td>...</td>\n      <td>...</td>\n      <td>...</td>\n      <td>...</td>\n      <td>...</td>\n      <td>...</td>\n      <td>...</td>\n      <td>...</td>\n      <td>...</td>\n      <td>...</td>\n      <td>...</td>\n    </tr>\n    <tr>\n      <th>2545</th>\n      <td>17</td>\n      <td>Between 2008 and 2016, the United States depor...</td>\n      <td>476</td>\n      <td>TED2017</td>\n      <td>2017-06-06</td>\n      <td>4</td>\n      <td>Duarte Geraldino</td>\n      <td>Duarte Geraldino: What we're missing in the de...</td>\n      <td>1</td>\n      <td>2017-09-19 20:00:16</td>\n      <td>[{'id': 3, 'name': 'Courageous', 'count': 24},...</td>\n      <td>[{'id': 2596, 'hero': 'https://pe.tedcdn.com/i...</td>\n      <td>Journalist</td>\n      <td>['TED Residency', 'United States', 'community'...</td>\n      <td>What we're missing in the debate about immigra...</td>\n      <td>https://www.ted.com/talks/duarte_geraldino_wha...</td>\n      <td>450430</td>\n      <td>Informative, Inspiring, Courageous</td>\n      <td>False</td>\n    </tr>\n    <tr>\n      <th>2546</th>\n      <td>6</td>\n      <td>How can you study Mars without a spaceship? He...</td>\n      <td>290</td>\n      <td>TED2017</td>\n      <td>2017-04-24</td>\n      <td>3</td>\n      <td>Armando Azua-Bustos</td>\n      <td>Armando Azua-Bustos: The most Martian place on...</td>\n      <td>1</td>\n      <td>2017-09-20 15:02:17</td>\n      <td>[{'id': 22, 'name': 'Fascinating', 'count': 32...</td>\n      <td>[{'id': 2491, 'hero': 'https://pe.tedcdn.com/i...</td>\n      <td>Astrobiologist</td>\n      <td>['Mars', 'South America', 'TED Fellows', 'astr...</td>\n      <td>The most Martian place on Earth</td>\n      <td>https://www.ted.com/talks/armando_azua_bustos_...</td>\n      <td>417470</td>\n      <td>Informative, Fascinating, Inspiring</td>\n      <td>False</td>\n    </tr>\n    <tr>\n      <th>2547</th>\n      <td>10</td>\n      <td>Science fiction visions of the future show us ...</td>\n      <td>651</td>\n      <td>TED2017</td>\n      <td>2017-04-24</td>\n      <td>1</td>\n      <td>Radhika Nagpal</td>\n      <td>Radhika Nagpal: What intelligent machines can ...</td>\n      <td>1</td>\n      <td>2017-09-21 15:01:35</td>\n      <td>[{'id': 1, 'name': 'Beautiful', 'count': 14}, ...</td>\n      <td>[{'id': 2346, 'hero': 'https://pe.tedcdn.com/i...</td>\n      <td>Robotics engineer</td>\n      <td>['AI', 'ants', 'fish', 'future', 'innovation',...</td>\n      <td>What intelligent machines can learn from a sch...</td>\n      <td>https://www.ted.com/talks/radhika_nagpal_what_...</td>\n      <td>375647</td>\n      <td>Informative, Inspiring, Fascinating</td>\n      <td>False</td>\n    </tr>\n    <tr>\n      <th>2548</th>\n      <td>32</td>\n      <td>In an unmissable talk about race and politics ...</td>\n      <td>1100</td>\n      <td>TEDxMileHigh</td>\n      <td>2017-07-08</td>\n      <td>1</td>\n      <td>Theo E.J. Wilson</td>\n      <td>Theo E.J. Wilson: A black man goes undercover ...</td>\n      <td>1</td>\n      <td>2017-09-21 20:00:42</td>\n      <td>[{'id': 11, 'name': 'Longwinded', 'count': 3},...</td>\n      <td>[{'id': 2512, 'hero': 'https://pe.tedcdn.com/i...</td>\n      <td>Public intellectual</td>\n      <td>['Internet', 'TEDx', 'United States', 'communi...</td>\n      <td>A black man goes undercover in the alt-right</td>\n      <td>https://www.ted.com/talks/theo_e_j_wilson_a_bl...</td>\n      <td>419309</td>\n      <td>Inspiring, Courageous, Informative</td>\n      <td>False</td>\n    </tr>\n    <tr>\n      <th>2549</th>\n      <td>8</td>\n      <td>With more than half of the world population li...</td>\n      <td>519</td>\n      <td>TED2017</td>\n      <td>2017-04-24</td>\n      <td>1</td>\n      <td>Karoliina Korppoo</td>\n      <td>Karoliina Korppoo: How a video game might help...</td>\n      <td>1</td>\n      <td>2017-09-22 15:00:22</td>\n      <td>[{'id': 21, 'name': 'Unconvincing', 'count': 2...</td>\n      <td>[{'id': 2682, 'hero': 'https://pe.tedcdn.com/i...</td>\n      <td>Game designer</td>\n      <td>['cities', 'design', 'future', 'infrastructure...</td>\n      <td>How a video game might help us build better ci...</td>\n      <td>https://www.ted.com/talks/karoliina_korppoo_ho...</td>\n      <td>391721</td>\n      <td>Inspiring, Informative, Unconvincing</td>\n      <td>False</td>\n    </tr>\n  </tbody>\n</table>\n<p>2550 rows × 19 columns</p>\n</div>"
     },
     "execution_count": 173,
     "metadata": {},
     "output_type": "execute_result"
    }
   ],
   "source": [
    "ted "
   ],
   "metadata": {
    "collapsed": false,
    "ExecuteTime": {
     "end_time": "2024-02-21T09:17:20.056239400Z",
     "start_time": "2024-02-21T09:17:19.891353800Z"
    }
   }
  },
  {
   "cell_type": "code",
   "execution_count": 178,
   "outputs": [
    {
     "data": {
      "text/plain": "                        Number of jaw - dropping events  \\\nevent                                                     \nTED2007                                              17   \nTED2009                                              16   \nTED2013                                              14   \nTED2008                                              11   \nTED2011                                              10   \n...                                                 ...   \nTEDxABQ                                               0   \nTEDYouth 2015                                         0   \nTEDYouth 2014                                         0   \nTEDYouth 2013                                         0   \nWorld Science Festival                                0   \n\n                        % of jaw-dropping in total  Total  \nevent                                                      \nTED2007                                   0.250000     68  \nTED2009                                   0.192771     83  \nTED2013                                   0.181818     77  \nTED2008                                   0.192982     57  \nTED2011                                   0.142857     70  \n...                                            ...    ...  \nTEDxABQ                                   0.000000      1  \nTEDYouth 2015                             0.000000      5  \nTEDYouth 2014                             0.000000      7  \nTEDYouth 2013                             0.000000      3  \nWorld Science Festival                    0.000000      1  \n\n[355 rows x 3 columns]",
      "text/html": "<div>\n<style scoped>\n    .dataframe tbody tr th:only-of-type {\n        vertical-align: middle;\n    }\n\n    .dataframe tbody tr th {\n        vertical-align: top;\n    }\n\n    .dataframe thead th {\n        text-align: right;\n    }\n</style>\n<table border=\"1\" class=\"dataframe\">\n  <thead>\n    <tr style=\"text-align: right;\">\n      <th></th>\n      <th>Number of jaw - dropping events</th>\n      <th>% of jaw-dropping in total</th>\n      <th>Total</th>\n    </tr>\n    <tr>\n      <th>event</th>\n      <th></th>\n      <th></th>\n      <th></th>\n    </tr>\n  </thead>\n  <tbody>\n    <tr>\n      <th>TED2007</th>\n      <td>17</td>\n      <td>0.250000</td>\n      <td>68</td>\n    </tr>\n    <tr>\n      <th>TED2009</th>\n      <td>16</td>\n      <td>0.192771</td>\n      <td>83</td>\n    </tr>\n    <tr>\n      <th>TED2013</th>\n      <td>14</td>\n      <td>0.181818</td>\n      <td>77</td>\n    </tr>\n    <tr>\n      <th>TED2008</th>\n      <td>11</td>\n      <td>0.192982</td>\n      <td>57</td>\n    </tr>\n    <tr>\n      <th>TED2011</th>\n      <td>10</td>\n      <td>0.142857</td>\n      <td>70</td>\n    </tr>\n    <tr>\n      <th>...</th>\n      <td>...</td>\n      <td>...</td>\n      <td>...</td>\n    </tr>\n    <tr>\n      <th>TEDxABQ</th>\n      <td>0</td>\n      <td>0.000000</td>\n      <td>1</td>\n    </tr>\n    <tr>\n      <th>TEDYouth 2015</th>\n      <td>0</td>\n      <td>0.000000</td>\n      <td>5</td>\n    </tr>\n    <tr>\n      <th>TEDYouth 2014</th>\n      <td>0</td>\n      <td>0.000000</td>\n      <td>7</td>\n    </tr>\n    <tr>\n      <th>TEDYouth 2013</th>\n      <td>0</td>\n      <td>0.000000</td>\n      <td>3</td>\n    </tr>\n    <tr>\n      <th>World Science Festival</th>\n      <td>0</td>\n      <td>0.000000</td>\n      <td>1</td>\n    </tr>\n  </tbody>\n</table>\n<p>355 rows × 3 columns</p>\n</div>"
     },
     "execution_count": 178,
     "metadata": {},
     "output_type": "execute_result"
    }
   ],
   "source": [
    "ted_jaw_dropping_events = ted.groupby('event')['Is_Jaw_Dropping'].agg(['sum','mean','count']).sort_values(by='sum',ascending=False)\n",
    "ted_jaw_dropping_events.columns=['Number of jaw - dropping events','% of jaw-dropping in total','Total']\n",
    "ted_jaw_dropping_events"
   ],
   "metadata": {
    "collapsed": false,
    "ExecuteTime": {
     "end_time": "2024-02-21T09:21:41.042956Z",
     "start_time": "2024-02-21T09:21:40.895683Z"
    }
   }
  },
  {
   "cell_type": "markdown",
   "source": [
    "### Task 3.3 Compute the number of positive, negative, and neutral ratings, then add one column for each of these counts\n",
    "\n",
    "This practically means that we should add 3 columns - pos_ratings, neg_ratings, neutral_ratings - with the corresponding rating counts."
   ],
   "metadata": {
    "collapsed": false
   }
  },
  {
   "cell_type": "markdown",
   "metadata": {
    "pycharm": {
     "name": "#%% md\n"
    }
   },
   "source": [
    "We will achieve this through a multistep process:\n",
    "\n",
    "1) Identify different kinds of rating categories that have been used to characterise talks and classify them as positive, negative, or neutral\n",
    "\n",
    "2) Create a function for computing the number of ratings in each of the 3 groups (positive, negative, neutral)\n",
    "\n",
    "3) Add a column - ratings_counts - storing the computed values as tuples of the form (pos_ratings, neg_ratings, neutral_ratings)\n",
    "\n",
    "4) Transform the ratings_counts column into 3 columns: pos_ratings, neg_ratings, neutral_ratings "
   ]
  },
  {
   "cell_type": "markdown",
   "metadata": {
    "pycharm": {
     "name": "#%% md\n"
    }
   },
   "source": [
    "**Step 1.1**: Identifikovati set različitih kategorija ocena koje su date nekom talku."
   ]
  },
  {
   "cell_type": "code",
   "execution_count": 179,
   "outputs": [],
   "source": [
    "set_of_ratings = set()\n",
    "for ratings in ted['ratings']:\n",
    "    for rating in ratings:\n",
    "        set_of_ratings.add(rating['name'])"
   ],
   "metadata": {
    "collapsed": false,
    "ExecuteTime": {
     "end_time": "2024-02-21T09:27:31.912812600Z",
     "start_time": "2024-02-21T09:27:31.828361Z"
    }
   }
  },
  {
   "cell_type": "code",
   "execution_count": 180,
   "outputs": [
    {
     "name": "stdout",
     "output_type": "stream",
     "text": [
      "Confusing\n",
      "Jaw-dropping\n",
      "Inspiring\n",
      "Courageous\n",
      "Beautiful\n",
      "Funny\n",
      "Informative\n",
      "Persuasive\n",
      "Longwinded\n",
      "Fascinating\n",
      "Unconvincing\n",
      "OK\n",
      "Obnoxious\n",
      "Ingenious\n"
     ]
    }
   ],
   "source": [
    "for elem in set_of_ratings:\n",
    "    print(elem)"
   ],
   "metadata": {
    "collapsed": false,
    "ExecuteTime": {
     "end_time": "2024-02-21T09:27:43.542691200Z",
     "start_time": "2024-02-21T09:27:43.434890200Z"
    }
   }
  },
  {
   "cell_type": "code",
   "execution_count": 181,
   "outputs": [],
   "source": [
    "positive_ratings = {'Jaw-dropping','Inspiring','Courageous','Beautiful','Funny','Informative','Persuasive','Fascinating','Ingenious'}\n",
    "negative_ratings = {'Longwinded','Confusing','Unconvincing','Obnoxious'}\n",
    "neutral_ratings = {'OK'}"
   ],
   "metadata": {
    "collapsed": false,
    "ExecuteTime": {
     "end_time": "2024-02-21T09:32:04.076474400Z",
     "start_time": "2024-02-21T09:32:03.973216800Z"
    }
   }
  },
  {
   "cell_type": "markdown",
   "source": [
    "**Step 1.2** Izračunati za svaki ted talk broj pozitivnih, broj negativnih i broj neutralnih ocena. "
   ],
   "metadata": {
    "collapsed": false
   }
  },
  {
   "cell_type": "code",
   "execution_count": 212,
   "outputs": [],
   "source": [
    "def get_ratings_stats(ratings):\n",
    "    ratings_dict = defaultdict(int)\n",
    "    for rating in ratings:\n",
    "        if rating['name'] in positive_ratings:\n",
    "            ratings_dict['Positive']+=int(rating['count'])\n",
    "        if rating['name'] in negative_ratings:\n",
    "            ratings_dict['Negative'] += int(rating['count'])\n",
    "        else:\n",
    "            ratings_dict['Neutral'] += int(rating['count'])\n",
    "    return dict(ratings_dict)"
   ],
   "metadata": {
    "collapsed": false,
    "ExecuteTime": {
     "end_time": "2024-02-21T09:50:53.089766100Z",
     "start_time": "2024-02-21T09:50:52.983262900Z"
    }
   }
  },
  {
   "cell_type": "code",
   "execution_count": 213,
   "outputs": [],
   "source": [
    "list_of_ratings_stats = []\n",
    "for ratings in ted['ratings']:\n",
    "    list_of_ratings_stats.append(get_ratings_stats(ratings))"
   ],
   "metadata": {
    "collapsed": false,
    "ExecuteTime": {
     "end_time": "2024-02-21T09:51:12.116295600Z",
     "start_time": "2024-02-21T09:51:11.946193900Z"
    }
   }
  },
  {
   "cell_type": "code",
   "execution_count": 214,
   "outputs": [
    {
     "name": "stdout",
     "output_type": "stream",
     "text": [
      "{'Positive': 91538, 'Neutral': 92712, 'Negative': 1138}\n",
      "{'Positive': 2169, 'Neutral': 2372, 'Negative': 564}\n",
      "{'Positive': 2327, 'Neutral': 2473, 'Negative': 351}\n",
      "{'Positive': 3487, 'Neutral': 3572, 'Negative': 156}\n",
      "{'Positive': 25062, 'Neutral': 25310, 'Negative': 310}\n",
      "{'Positive': 13617, 'Neutral': 14058, 'Negative': 1298}\n",
      "{'Positive': 4910, 'Neutral': 5218, 'Negative': 780}\n",
      "{'Positive': 879, 'Neutral': 942, 'Negative': 82}\n",
      "{'Positive': 3179, 'Neutral': 3333, 'Negative': 613}\n",
      "{'Negative': 1626, 'Positive': 6456, 'Neutral': 6701}\n",
      "{'Positive': 1665, 'Neutral': 1704, 'Negative': 76}\n",
      "{'Positive': 528, 'Neutral': 554, 'Negative': 38}\n",
      "{'Positive': 854, 'Neutral': 865, 'Negative': 21}\n",
      "{'Positive': 8000, 'Neutral': 8188, 'Negative': 129}\n",
      "{'Positive': 683, 'Neutral': 713, 'Negative': 68}\n",
      "{'Positive': 6051, 'Neutral': 6146, 'Negative': 93}\n",
      "{'Positive': 4470, 'Neutral': 4538, 'Negative': 141}\n",
      "{'Positive': 1715, 'Neutral': 1745, 'Negative': 43}\n",
      "{'Positive': 1341, 'Neutral': 1409, 'Negative': 522}\n",
      "{'Positive': 1419, 'Neutral': 1487, 'Negative': 84}\n",
      "{'Positive': 1038, 'Neutral': 1107, 'Negative': 70}\n",
      "{'Positive': 3869, 'Neutral': 4319, 'Negative': 845}\n",
      "{'Positive': 430, 'Neutral': 517, 'Negative': 267}\n",
      "{'Positive': 9666, 'Neutral': 10060, 'Negative': 720}\n",
      "{'Positive': 2430, 'Neutral': 2456, 'Negative': 114}\n",
      "{'Positive': 3314, 'Neutral': 3387, 'Negative': 157}\n",
      "{'Positive': 4288, 'Neutral': 4381, 'Negative': 213}\n",
      "{'Positive': 1914, 'Neutral': 1958, 'Negative': 78}\n",
      "{'Positive': 9881, 'Neutral': 10242, 'Negative': 436}\n",
      "{'Positive': 18744, 'Neutral': 19183, 'Negative': 651}\n",
      "{'Positive': 13853, 'Neutral': 14274, 'Negative': 671}\n",
      "{'Positive': 1786, 'Neutral': 1861, 'Negative': 210}\n",
      "{'Negative': 850, 'Positive': 4489, 'Neutral': 4634}\n",
      "{'Positive': 636, 'Neutral': 668, 'Negative': 38}\n",
      "{'Positive': 706, 'Neutral': 727, 'Negative': 28}\n",
      "{'Negative': 50, 'Positive': 360, 'Neutral': 385}\n",
      "{'Positive': 749, 'Neutral': 800, 'Negative': 92}\n",
      "{'Positive': 1689, 'Neutral': 1804, 'Negative': 217}\n",
      "{'Positive': 957, 'Neutral': 977, 'Negative': 36}\n",
      "{'Negative': 116, 'Positive': 829, 'Neutral': 853}\n",
      "{'Positive': 836, 'Neutral': 863, 'Negative': 89}\n",
      "{'Positive': 426, 'Neutral': 449, 'Negative': 50}\n",
      "{'Positive': 1962, 'Neutral': 2037, 'Negative': 178}\n",
      "{'Positive': 8112, 'Neutral': 8349, 'Negative': 396}\n",
      "{'Positive': 2772, 'Neutral': 2913, 'Negative': 379}\n",
      "{'Positive': 2281, 'Neutral': 2392, 'Negative': 394}\n",
      "{'Positive': 763, 'Neutral': 799, 'Negative': 50}\n",
      "{'Positive': 13988, 'Neutral': 14673, 'Negative': 340}\n",
      "{'Positive': 2299, 'Neutral': 2434, 'Negative': 215}\n",
      "{'Positive': 1502, 'Neutral': 1635, 'Negative': 111}\n",
      "{'Positive': 692, 'Neutral': 754, 'Negative': 250}\n",
      "{'Positive': 3187, 'Neutral': 3298, 'Negative': 891}\n",
      "{'Positive': 4361, 'Neutral': 4436, 'Negative': 179}\n",
      "{'Positive': 619, 'Neutral': 643, 'Negative': 76}\n",
      "{'Positive': 2565, 'Neutral': 2740, 'Negative': 217}\n",
      "{'Positive': 1705, 'Neutral': 1834, 'Negative': 304}\n",
      "{'Positive': 831, 'Neutral': 897, 'Negative': 21}\n",
      "{'Positive': 1436, 'Neutral': 1503, 'Negative': 66}\n",
      "{'Positive': 5827, 'Neutral': 5908, 'Negative': 155}\n",
      "{'Positive': 1346, 'Neutral': 1383, 'Negative': 91}\n",
      "{'Positive': 365, 'Neutral': 418, 'Negative': 153}\n",
      "{'Positive': 820, 'Neutral': 830, 'Negative': 97}\n",
      "{'Positive': 3287, 'Neutral': 3428, 'Negative': 177}\n",
      "{'Positive': 1049, 'Neutral': 1096, 'Negative': 86}\n",
      "{'Positive': 1588, 'Neutral': 1634, 'Negative': 113}\n",
      "{'Positive': 2264, 'Neutral': 2288, 'Negative': 79}\n",
      "{'Positive': 2956, 'Neutral': 3019, 'Negative': 155}\n",
      "{'Positive': 4934, 'Neutral': 5092, 'Negative': 162}\n",
      "{'Positive': 1523, 'Neutral': 1589, 'Negative': 319}\n",
      "{'Negative': 340, 'Positive': 1378, 'Neutral': 1662}\n",
      "{'Positive': 545, 'Neutral': 562, 'Negative': 114}\n",
      "{'Positive': 1293, 'Neutral': 1314, 'Negative': 60}\n",
      "{'Negative': 183, 'Positive': 1695, 'Neutral': 1818}\n",
      "{'Positive': 1522, 'Neutral': 1581, 'Negative': 90}\n",
      "{'Negative': 208, 'Positive': 304, 'Neutral': 348}\n",
      "{'Positive': 606, 'Neutral': 670, 'Negative': 258}\n",
      "{'Positive': 311, 'Neutral': 342, 'Negative': 43}\n",
      "{'Positive': 842, 'Neutral': 898, 'Negative': 45}\n",
      "{'Positive': 2338, 'Neutral': 2382, 'Negative': 56}\n",
      "{'Positive': 623, 'Neutral': 731, 'Negative': 600}\n",
      "{'Positive': 3314, 'Neutral': 3352, 'Negative': 89}\n",
      "{'Positive': 622, 'Neutral': 632, 'Negative': 34}\n",
      "{'Positive': 316, 'Neutral': 405, 'Negative': 279}\n",
      "{'Positive': 5535, 'Neutral': 5596, 'Negative': 145}\n",
      "{'Positive': 3909, 'Neutral': 4054, 'Negative': 296}\n",
      "{'Positive': 1949, 'Neutral': 2016, 'Negative': 37}\n",
      "{'Positive': 471, 'Neutral': 541, 'Negative': 58}\n",
      "{'Positive': 324, 'Neutral': 382, 'Negative': 55}\n",
      "{'Positive': 2310, 'Neutral': 2599, 'Negative': 607}\n",
      "{'Positive': 8006, 'Neutral': 8120, 'Negative': 218}\n",
      "{'Positive': 3129, 'Neutral': 3154, 'Negative': 149}\n",
      "{'Negative': 164, 'Positive': 838, 'Neutral': 904}\n",
      "{'Positive': 980, 'Neutral': 997, 'Negative': 31}\n",
      "{'Positive': 539, 'Neutral': 586, 'Negative': 35}\n",
      "{'Positive': 574, 'Neutral': 597, 'Negative': 52}\n",
      "{'Positive': 1336, 'Neutral': 1402, 'Negative': 573}\n",
      "{'Positive': 13509, 'Neutral': 13681, 'Negative': 1223}\n",
      "{'Positive': 837, 'Neutral': 908, 'Negative': 263}\n",
      "{'Positive': 414, 'Neutral': 469, 'Negative': 52}\n",
      "{'Positive': 615, 'Neutral': 700, 'Negative': 87}\n",
      "{'Positive': 641, 'Neutral': 721, 'Negative': 84}\n",
      "{'Negative': 264, 'Positive': 877, 'Neutral': 1040}\n",
      "{'Positive': 634, 'Neutral': 735, 'Negative': 132}\n",
      "{'Positive': 5326, 'Neutral': 5413, 'Negative': 441}\n",
      "{'Positive': 541, 'Neutral': 591, 'Negative': 68}\n",
      "{'Negative': 474, 'Positive': 453, 'Neutral': 568}\n",
      "{'Positive': 3100, 'Neutral': 3143, 'Negative': 131}\n",
      "{'Positive': 1468, 'Neutral': 1496, 'Negative': 54}\n",
      "{'Positive': 20448, 'Neutral': 20567, 'Negative': 178}\n",
      "{'Positive': 1164, 'Neutral': 1203, 'Negative': 151}\n",
      "{'Positive': 1337, 'Neutral': 1376, 'Negative': 28}\n",
      "{'Positive': 1836, 'Neutral': 1930, 'Negative': 108}\n",
      "{'Positive': 2433, 'Neutral': 2523, 'Negative': 196}\n",
      "{'Negative': 143, 'Positive': 128, 'Neutral': 154}\n",
      "{'Negative': 250, 'Positive': 2529, 'Neutral': 2546}\n",
      "{'Positive': 362, 'Neutral': 419, 'Negative': 58}\n",
      "{'Negative': 78, 'Positive': 288, 'Neutral': 331}\n",
      "{'Positive': 12596, 'Neutral': 12670, 'Negative': 113}\n",
      "{'Positive': 4055, 'Neutral': 4103, 'Negative': 171}\n",
      "{'Positive': 4623, 'Neutral': 4845, 'Negative': 482}\n",
      "{'Positive': 2559, 'Neutral': 2606, 'Negative': 70}\n",
      "{'Positive': 3474, 'Neutral': 3609, 'Negative': 322}\n",
      "{'Negative': 196, 'Positive': 859, 'Neutral': 942}\n",
      "{'Positive': 3647, 'Neutral': 3737, 'Negative': 160}\n",
      "{'Positive': 4346, 'Neutral': 4584, 'Negative': 376}\n",
      "{'Positive': 4955, 'Neutral': 5066, 'Negative': 243}\n",
      "{'Positive': 825, 'Neutral': 899, 'Negative': 114}\n",
      "{'Positive': 1181, 'Neutral': 1210, 'Negative': 57}\n",
      "{'Positive': 1827, 'Neutral': 1843, 'Negative': 100}\n",
      "{'Positive': 2422, 'Neutral': 2473, 'Negative': 53}\n",
      "{'Positive': 335, 'Neutral': 351, 'Negative': 31}\n",
      "{'Positive': 1854, 'Neutral': 1919, 'Negative': 78}\n",
      "{'Positive': 993, 'Neutral': 1032, 'Negative': 56}\n",
      "{'Positive': 1107, 'Neutral': 1151, 'Negative': 50}\n",
      "{'Positive': 769, 'Neutral': 787, 'Negative': 23}\n",
      "{'Positive': 427, 'Neutral': 440, 'Negative': 16}\n",
      "{'Positive': 946, 'Neutral': 1010, 'Negative': 105}\n",
      "{'Positive': 5821, 'Neutral': 5886, 'Negative': 102}\n",
      "{'Positive': 3113, 'Neutral': 3217, 'Negative': 205}\n",
      "{'Positive': 2237, 'Neutral': 2275, 'Negative': 39}\n",
      "{'Positive': 6703, 'Neutral': 6803, 'Negative': 202}\n",
      "{'Negative': 673, 'Positive': 2093, 'Neutral': 2286}\n",
      "{'Positive': 4794, 'Neutral': 4955, 'Negative': 494}\n",
      "{'Negative': 153, 'Positive': 947, 'Neutral': 977}\n",
      "{'Positive': 1189, 'Neutral': 1253, 'Negative': 78}\n",
      "{'Positive': 1961, 'Neutral': 2116, 'Negative': 553}\n",
      "{'Positive': 1605, 'Neutral': 1674, 'Negative': 246}\n",
      "{'Positive': 771, 'Neutral': 802, 'Negative': 98}\n",
      "{'Positive': 10272, 'Neutral': 10380, 'Negative': 125}\n",
      "{'Positive': 2853, 'Neutral': 3386, 'Negative': 450}\n",
      "{'Positive': 1899, 'Neutral': 1971, 'Negative': 109}\n",
      "{'Positive': 1413, 'Neutral': 1473, 'Negative': 142}\n",
      "{'Negative': 373, 'Positive': 790, 'Neutral': 857}\n",
      "{'Positive': 1164, 'Neutral': 1318, 'Negative': 505}\n",
      "{'Positive': 11839, 'Neutral': 11946, 'Negative': 123}\n",
      "{'Positive': 795, 'Neutral': 826, 'Negative': 76}\n",
      "{'Positive': 4311, 'Neutral': 4355, 'Negative': 137}\n",
      "{'Negative': 470, 'Positive': 8885, 'Neutral': 9153}\n",
      "{'Positive': 6109, 'Neutral': 6198, 'Negative': 228}\n",
      "{'Positive': 828, 'Neutral': 868, 'Negative': 106}\n",
      "{'Positive': 3065, 'Neutral': 3126, 'Negative': 272}\n",
      "{'Positive': 2456, 'Neutral': 2525, 'Negative': 304}\n",
      "{'Positive': 611, 'Neutral': 655, 'Negative': 226}\n",
      "{'Positive': 1593, 'Neutral': 1614, 'Negative': 38}\n",
      "{'Positive': 4056, 'Neutral': 4107, 'Negative': 117}\n",
      "{'Negative': 700, 'Positive': 2751, 'Neutral': 2880}\n",
      "{'Positive': 2284, 'Neutral': 2398, 'Negative': 178}\n",
      "{'Positive': 2039, 'Neutral': 2085, 'Negative': 167}\n",
      "{'Positive': 16898, 'Neutral': 17212, 'Negative': 517}\n",
      "{'Positive': 2306, 'Neutral': 2446, 'Negative': 177}\n",
      "{'Negative': 85, 'Positive': 819, 'Neutral': 894}\n",
      "{'Positive': 6170, 'Neutral': 6548, 'Negative': 406}\n",
      "{'Positive': 10654, 'Neutral': 10794, 'Negative': 231}\n",
      "{'Positive': 1945, 'Neutral': 2088, 'Negative': 218}\n",
      "{'Positive': 2267, 'Neutral': 2381, 'Negative': 91}\n",
      "{'Positive': 5326, 'Neutral': 5578, 'Negative': 398}\n",
      "{'Positive': 29309, 'Neutral': 29631, 'Negative': 380}\n",
      "{'Positive': 488, 'Neutral': 571, 'Negative': 158}\n",
      "{'Neutral': 630, 'Positive': 491, 'Negative': 272}\n",
      "{'Positive': 571, 'Neutral': 601, 'Negative': 3}\n",
      "{'Positive': 1618, 'Neutral': 1636, 'Negative': 86}\n",
      "{'Positive': 4138, 'Neutral': 4212, 'Negative': 178}\n",
      "{'Positive': 897, 'Neutral': 1063, 'Negative': 376}\n",
      "{'Positive': 403, 'Neutral': 461, 'Negative': 186}\n",
      "{'Positive': 784, 'Neutral': 845, 'Negative': 50}\n",
      "{'Negative': 296, 'Neutral': 801, 'Positive': 713}\n",
      "{'Positive': 1449, 'Neutral': 1502, 'Negative': 54}\n",
      "{'Neutral': 868, 'Negative': 213, 'Positive': 772}\n",
      "{'Positive': 2798, 'Neutral': 2868, 'Negative': 137}\n",
      "{'Positive': 1373, 'Neutral': 1475, 'Negative': 116}\n",
      "{'Positive': 2033, 'Neutral': 2091, 'Negative': 57}\n",
      "{'Positive': 828, 'Neutral': 878, 'Negative': 52}\n",
      "{'Positive': 680, 'Neutral': 753, 'Negative': 78}\n",
      "{'Positive': 694, 'Neutral': 853, 'Negative': 153}\n",
      "{'Positive': 2633, 'Neutral': 2759, 'Negative': 129}\n",
      "{'Positive': 470, 'Neutral': 503, 'Negative': 17}\n",
      "{'Neutral': 797, 'Positive': 730, 'Negative': 26}\n",
      "{'Positive': 1539, 'Neutral': 1611, 'Negative': 160}\n",
      "{'Positive': 1003, 'Neutral': 1133, 'Negative': 218}\n",
      "{'Positive': 2382, 'Neutral': 2412, 'Negative': 95}\n",
      "{'Positive': 655, 'Neutral': 685, 'Negative': 74}\n",
      "{'Positive': 68436, 'Neutral': 69072, 'Negative': 1593}\n",
      "{'Negative': 103, 'Positive': 208, 'Neutral': 243}\n",
      "{'Positive': 3652, 'Neutral': 3680, 'Negative': 51}\n",
      "{'Positive': 3198, 'Neutral': 3284, 'Negative': 236}\n",
      "{'Positive': 1045, 'Neutral': 1062, 'Negative': 21}\n",
      "{'Positive': 712, 'Neutral': 808, 'Negative': 182}\n",
      "{'Negative': 159, 'Positive': 2200, 'Neutral': 2326}\n",
      "{'Negative': 685, 'Neutral': 4136, 'Positive': 4017}\n",
      "{'Positive': 835, 'Neutral': 906, 'Negative': 28}\n",
      "{'Positive': 1888, 'Neutral': 1962, 'Negative': 83}\n",
      "{'Positive': 311, 'Neutral': 355, 'Negative': 22}\n",
      "{'Positive': 353, 'Neutral': 523, 'Negative': 447}\n",
      "{'Positive': 3901, 'Neutral': 4042, 'Negative': 222}\n",
      "{'Positive': 5405, 'Neutral': 5542, 'Negative': 692}\n",
      "{'Positive': 10021, 'Neutral': 10101, 'Negative': 46}\n",
      "{'Positive': 1019, 'Neutral': 1050, 'Negative': 111}\n",
      "{'Positive': 1597, 'Neutral': 1702, 'Negative': 96}\n",
      "{'Positive': 669, 'Neutral': 683, 'Negative': 15}\n",
      "{'Positive': 2970, 'Neutral': 3268, 'Negative': 668}\n",
      "{'Positive': 7618, 'Neutral': 7734, 'Negative': 243}\n",
      "{'Positive': 5336, 'Neutral': 5429, 'Negative': 100}\n",
      "{'Neutral': 373, 'Positive': 309, 'Negative': 167}\n",
      "{'Positive': 545, 'Neutral': 623, 'Negative': 100}\n",
      "{'Positive': 7800, 'Neutral': 7860, 'Negative': 217}\n",
      "{'Positive': 825, 'Neutral': 868, 'Negative': 77}\n",
      "{'Positive': 1932, 'Neutral': 2020, 'Negative': 211}\n",
      "{'Positive': 6184, 'Neutral': 6266, 'Negative': 49}\n",
      "{'Positive': 3143, 'Neutral': 3310, 'Negative': 180}\n",
      "{'Positive': 7121, 'Neutral': 7331, 'Negative': 422}\n",
      "{'Positive': 2879, 'Neutral': 2904, 'Negative': 36}\n",
      "{'Positive': 1428, 'Neutral': 1568, 'Negative': 153}\n",
      "{'Positive': 1891, 'Neutral': 1933, 'Negative': 37}\n",
      "{'Neutral': 291, 'Positive': 264, 'Negative': 62}\n",
      "{'Positive': 1549, 'Neutral': 1607, 'Negative': 102}\n",
      "{'Positive': 2170, 'Neutral': 2291, 'Negative': 588}\n",
      "{'Positive': 803, 'Neutral': 873, 'Negative': 184}\n",
      "{'Positive': 574, 'Neutral': 604, 'Negative': 27}\n",
      "{'Positive': 1954, 'Neutral': 2005, 'Negative': 237}\n",
      "{'Positive': 302, 'Neutral': 433, 'Negative': 100}\n",
      "{'Positive': 1115, 'Neutral': 1182, 'Negative': 108}\n",
      "{'Negative': 267, 'Neutral': 4436, 'Positive': 4313}\n",
      "{'Positive': 1482, 'Neutral': 1563, 'Negative': 36}\n",
      "{'Positive': 1694, 'Neutral': 1722, 'Negative': 27}\n",
      "{'Positive': 1500, 'Neutral': 1551, 'Negative': 39}\n",
      "{'Positive': 840, 'Neutral': 904, 'Negative': 184}\n",
      "{'Positive': 23300, 'Neutral': 23443, 'Negative': 148}\n",
      "{'Positive': 516, 'Neutral': 541, 'Negative': 32}\n",
      "{'Neutral': 746, 'Positive': 642, 'Negative': 72}\n",
      "{'Positive': 240, 'Neutral': 302, 'Negative': 202}\n",
      "{'Positive': 834, 'Neutral': 874, 'Negative': 13}\n",
      "{'Positive': 2440, 'Neutral': 2464, 'Negative': 66}\n",
      "{'Positive': 557, 'Neutral': 575, 'Negative': 20}\n",
      "{'Positive': 475, 'Neutral': 483, 'Negative': 16}\n",
      "{'Negative': 34, 'Positive': 578, 'Neutral': 610}\n",
      "{'Positive': 684, 'Neutral': 889, 'Negative': 295}\n",
      "{'Positive': 1800, 'Neutral': 1847, 'Negative': 83}\n",
      "{'Positive': 1223, 'Neutral': 1271, 'Negative': 48}\n",
      "{'Positive': 965, 'Neutral': 1035, 'Negative': 236}\n",
      "{'Neutral': 4446, 'Positive': 4099, 'Negative': 375}\n",
      "{'Positive': 3123, 'Neutral': 3232, 'Negative': 661}\n",
      "{'Positive': 3085, 'Neutral': 3304, 'Negative': 423}\n",
      "{'Negative': 1018, 'Positive': 9962, 'Neutral': 10298}\n",
      "{'Positive': 4278, 'Neutral': 4480, 'Negative': 214}\n",
      "{'Positive': 227, 'Neutral': 259, 'Negative': 25}\n",
      "{'Positive': 2247, 'Neutral': 2287, 'Negative': 43}\n",
      "{'Positive': 808, 'Neutral': 894, 'Negative': 112}\n",
      "{'Positive': 1250, 'Neutral': 1289, 'Negative': 68}\n",
      "{'Positive': 283, 'Neutral': 331, 'Negative': 118}\n",
      "{'Positive': 2288, 'Neutral': 2459, 'Negative': 289}\n",
      "{'Positive': 868, 'Neutral': 970, 'Negative': 124}\n",
      "{'Positive': 2952, 'Neutral': 3000, 'Negative': 17}\n",
      "{'Positive': 342, 'Neutral': 427, 'Negative': 34}\n",
      "{'Positive': 2573, 'Neutral': 2639, 'Negative': 77}\n",
      "{'Positive': 1439, 'Neutral': 1475, 'Negative': 84}\n",
      "{'Negative': 64, 'Positive': 1969, 'Neutral': 2053}\n",
      "{'Positive': 4543, 'Neutral': 4633, 'Negative': 176}\n",
      "{'Neutral': 1965, 'Positive': 1887, 'Negative': 105}\n",
      "{'Positive': 847, 'Neutral': 930, 'Negative': 55}\n",
      "{'Positive': 338, 'Neutral': 357, 'Negative': 69}\n",
      "{'Positive': 2380, 'Neutral': 2482, 'Negative': 108}\n",
      "{'Positive': 569, 'Neutral': 606, 'Negative': 42}\n",
      "{'Positive': 2535, 'Neutral': 2641, 'Negative': 61}\n",
      "{'Negative': 83, 'Positive': 819, 'Neutral': 838}\n",
      "{'Positive': 705, 'Neutral': 731, 'Negative': 58}\n",
      "{'Positive': 326, 'Neutral': 373, 'Negative': 72}\n",
      "{'Neutral': 1800, 'Negative': 217, 'Positive': 1572}\n",
      "{'Positive': 1086, 'Neutral': 1128, 'Negative': 55}\n",
      "{'Positive': 822, 'Neutral': 881, 'Negative': 127}\n",
      "{'Positive': 719, 'Neutral': 762, 'Negative': 84}\n",
      "{'Positive': 1846, 'Neutral': 1871, 'Negative': 28}\n",
      "{'Neutral': 1210, 'Positive': 1126, 'Negative': 182}\n",
      "{'Positive': 166, 'Neutral': 233, 'Negative': 162}\n",
      "{'Positive': 1682, 'Neutral': 1741, 'Negative': 221}\n",
      "{'Positive': 8052, 'Neutral': 8251, 'Negative': 692}\n",
      "{'Positive': 1294, 'Neutral': 1334, 'Negative': 144}\n",
      "{'Positive': 1007, 'Neutral': 1073, 'Negative': 110}\n",
      "{'Neutral': 437, 'Negative': 289, 'Positive': 382}\n",
      "{'Positive': 7013, 'Neutral': 7141, 'Negative': 240}\n",
      "{'Positive': 2201, 'Neutral': 2412, 'Negative': 128}\n",
      "{'Positive': 636, 'Neutral': 707, 'Negative': 147}\n",
      "{'Positive': 1563, 'Neutral': 1647, 'Negative': 136}\n",
      "{'Positive': 658, 'Neutral': 737, 'Negative': 74}\n",
      "{'Positive': 700, 'Neutral': 787, 'Negative': 66}\n",
      "{'Neutral': 601, 'Negative': 556, 'Positive': 479}\n",
      "{'Positive': 548, 'Neutral': 615, 'Negative': 225}\n",
      "{'Positive': 447, 'Neutral': 460, 'Negative': 11}\n",
      "{'Positive': 1115, 'Neutral': 1240, 'Negative': 272}\n",
      "{'Positive': 1584, 'Neutral': 1617, 'Negative': 42}\n",
      "{'Negative': 96, 'Positive': 281, 'Neutral': 333}\n",
      "{'Positive': 1048, 'Neutral': 1248, 'Negative': 209}\n",
      "{'Negative': 534, 'Positive': 3024, 'Neutral': 3127}\n",
      "{'Positive': 543, 'Neutral': 612, 'Negative': 121}\n",
      "{'Negative': 246, 'Positive': 445, 'Neutral': 543}\n",
      "{'Positive': 1833, 'Neutral': 1882, 'Negative': 50}\n",
      "{'Positive': 2992, 'Neutral': 3218, 'Negative': 387}\n",
      "{'Positive': 284, 'Neutral': 313, 'Negative': 21}\n",
      "{'Positive': 3800, 'Neutral': 4061, 'Negative': 409}\n",
      "{'Positive': 448, 'Neutral': 481, 'Negative': 13}\n",
      "{'Positive': 2023, 'Neutral': 2166, 'Negative': 340}\n",
      "{'Positive': 1406, 'Neutral': 1600, 'Negative': 224}\n",
      "{'Negative': 178, 'Positive': 793, 'Neutral': 900}\n",
      "{'Positive': 436, 'Neutral': 453, 'Negative': 28}\n",
      "{'Neutral': 139, 'Negative': 70, 'Positive': 125}\n",
      "{'Positive': 916, 'Neutral': 937, 'Negative': 43}\n",
      "{'Positive': 164, 'Neutral': 177, 'Negative': 36}\n",
      "{'Negative': 126, 'Positive': 690, 'Neutral': 706}\n",
      "{'Positive': 339, 'Neutral': 365, 'Negative': 52}\n",
      "{'Negative': 72, 'Positive': 297, 'Neutral': 324}\n",
      "{'Negative': 174, 'Positive': 409, 'Neutral': 473}\n",
      "{'Positive': 364, 'Neutral': 418, 'Negative': 34}\n",
      "{'Positive': 1938, 'Neutral': 1968, 'Negative': 40}\n",
      "{'Positive': 2555, 'Neutral': 2667, 'Negative': 153}\n",
      "{'Positive': 917, 'Neutral': 943, 'Negative': 42}\n",
      "{'Positive': 345, 'Neutral': 406, 'Negative': 156}\n",
      "{'Positive': 664, 'Neutral': 701, 'Negative': 82}\n",
      "{'Neutral': 580, 'Positive': 535, 'Negative': 36}\n",
      "{'Positive': 1916, 'Neutral': 2043, 'Negative': 203}\n",
      "{'Positive': 337, 'Neutral': 359, 'Negative': 140}\n",
      "{'Positive': 726, 'Neutral': 866, 'Negative': 355}\n",
      "{'Neutral': 339, 'Positive': 311, 'Negative': 41}\n",
      "{'Positive': 2237, 'Neutral': 2363, 'Negative': 268}\n",
      "{'Negative': 149, 'Positive': 376, 'Neutral': 418}\n",
      "{'Negative': 109, 'Positive': 2370, 'Neutral': 2403}\n",
      "{'Positive': 433, 'Neutral': 480, 'Negative': 48}\n",
      "{'Positive': 1241, 'Neutral': 1324, 'Negative': 25}\n",
      "{'Positive': 1750, 'Neutral': 1791, 'Negative': 31}\n",
      "{'Neutral': 668, 'Positive': 554, 'Negative': 286}\n",
      "{'Positive': 374, 'Neutral': 476, 'Negative': 337}\n",
      "{'Positive': 347, 'Neutral': 437, 'Negative': 56}\n",
      "{'Positive': 714, 'Neutral': 734, 'Negative': 8}\n",
      "{'Positive': 570, 'Neutral': 602, 'Negative': 48}\n",
      "{'Positive': 1369, 'Neutral': 1400, 'Negative': 24}\n",
      "{'Neutral': 688, 'Positive': 617, 'Negative': 45}\n",
      "{'Positive': 5334, 'Neutral': 5466, 'Negative': 212}\n",
      "{'Positive': 1687, 'Neutral': 1919, 'Negative': 205}\n",
      "{'Positive': 409, 'Neutral': 435, 'Negative': 49}\n",
      "{'Positive': 904, 'Neutral': 969, 'Negative': 70}\n",
      "{'Positive': 614, 'Neutral': 629, 'Negative': 20}\n",
      "{'Positive': 1858, 'Neutral': 1920, 'Negative': 74}\n",
      "{'Positive': 629, 'Neutral': 669, 'Negative': 175}\n",
      "{'Neutral': 181, 'Negative': 149, 'Positive': 125}\n",
      "{'Positive': 473, 'Neutral': 500, 'Negative': 45}\n",
      "{'Negative': 192, 'Neutral': 403, 'Positive': 346}\n",
      "{'Negative': 103, 'Positive': 282, 'Neutral': 332}\n",
      "{'Negative': 160, 'Neutral': 352, 'Positive': 286}\n",
      "{'Positive': 1414, 'Neutral': 1499, 'Negative': 169}\n",
      "{'Positive': 687, 'Neutral': 765, 'Negative': 121}\n",
      "{'Negative': 134, 'Positive': 866, 'Neutral': 959}\n",
      "{'Positive': 658, 'Neutral': 689, 'Negative': 30}\n",
      "{'Positive': 930, 'Neutral': 968, 'Negative': 77}\n",
      "{'Positive': 238, 'Neutral': 274, 'Negative': 63}\n",
      "{'Neutral': 564, 'Negative': 61, 'Positive': 531}\n",
      "{'Neutral': 398, 'Negative': 130, 'Positive': 338}\n",
      "{'Positive': 1966, 'Neutral': 2015, 'Negative': 170}\n",
      "{'Positive': 574, 'Neutral': 595, 'Negative': 116}\n",
      "{'Positive': 1123, 'Neutral': 1146, 'Negative': 31}\n",
      "{'Positive': 693, 'Neutral': 717, 'Negative': 37}\n",
      "{'Positive': 601, 'Neutral': 615, 'Negative': 20}\n",
      "{'Positive': 1127, 'Neutral': 1165, 'Negative': 57}\n",
      "{'Positive': 3105, 'Neutral': 3321, 'Negative': 255}\n",
      "{'Positive': 22386, 'Neutral': 22939, 'Negative': 1217}\n",
      "{'Positive': 303, 'Neutral': 330, 'Negative': 66}\n",
      "{'Positive': 2554, 'Neutral': 2665, 'Negative': 79}\n",
      "{'Positive': 8319, 'Neutral': 8509, 'Negative': 302}\n",
      "{'Positive': 4916, 'Neutral': 5007, 'Negative': 253}\n",
      "{'Positive': 1468, 'Neutral': 1486, 'Negative': 37}\n",
      "{'Positive': 2452, 'Neutral': 2463, 'Negative': 22}\n",
      "{'Positive': 2550, 'Neutral': 2576, 'Negative': 58}\n",
      "{'Negative': 200, 'Positive': 1073, 'Neutral': 1118}\n",
      "{'Positive': 1568, 'Neutral': 1599, 'Negative': 26}\n",
      "{'Neutral': 1818, 'Positive': 1764, 'Negative': 48}\n",
      "{'Neutral': 495, 'Positive': 473, 'Negative': 20}\n",
      "{'Positive': 906, 'Neutral': 961, 'Negative': 47}\n",
      "{'Neutral': 894, 'Positive': 697, 'Negative': 106}\n",
      "{'Neutral': 419, 'Positive': 329, 'Negative': 259}\n",
      "{'Positive': 2283, 'Neutral': 2286, 'Negative': 35}\n",
      "{'Positive': 850, 'Neutral': 890, 'Negative': 41}\n",
      "{'Positive': 5645, 'Neutral': 5720, 'Negative': 128}\n",
      "{'Negative': 296, 'Positive': 902, 'Neutral': 951}\n",
      "{'Positive': 1295, 'Neutral': 1367, 'Negative': 56}\n",
      "{'Neutral': 12614, 'Positive': 12170, 'Negative': 412}\n",
      "{'Positive': 4686, 'Neutral': 4788, 'Negative': 127}\n",
      "{'Positive': 1695, 'Neutral': 1787, 'Negative': 84}\n",
      "{'Positive': 1922, 'Neutral': 2083, 'Negative': 207}\n",
      "{'Positive': 2152, 'Neutral': 2441, 'Negative': 321}\n",
      "{'Positive': 6673, 'Neutral': 6763, 'Negative': 80}\n",
      "{'Positive': 1972, 'Neutral': 2040, 'Negative': 112}\n",
      "{'Positive': 499, 'Neutral': 590, 'Negative': 72}\n",
      "{'Positive': 4027, 'Neutral': 4185, 'Negative': 77}\n",
      "{'Positive': 1215, 'Neutral': 1251, 'Negative': 39}\n",
      "{'Positive': 1488, 'Neutral': 1559, 'Negative': 32}\n",
      "{'Positive': 1546, 'Neutral': 1640, 'Negative': 359}\n",
      "{'Positive': 6149, 'Neutral': 6368, 'Negative': 342}\n",
      "{'Positive': 1256, 'Neutral': 1297, 'Negative': 39}\n",
      "{'Negative': 43, 'Positive': 163, 'Neutral': 173}\n",
      "{'Positive': 1320, 'Neutral': 1410, 'Negative': 80}\n",
      "{'Positive': 1658, 'Neutral': 1694, 'Negative': 36}\n",
      "{'Negative': 41, 'Neutral': 228, 'Positive': 184}\n",
      "{'Positive': 1636, 'Neutral': 1749, 'Negative': 281}\n",
      "{'Positive': 330, 'Neutral': 357, 'Negative': 25}\n",
      "{'Positive': 1025, 'Neutral': 1134, 'Negative': 415}\n",
      "{'Positive': 8109, 'Neutral': 8194, 'Negative': 106}\n",
      "{'Positive': 2231, 'Neutral': 2376, 'Negative': 346}\n",
      "{'Positive': 1628, 'Neutral': 1833, 'Negative': 158}\n",
      "{'Negative': 155, 'Positive': 3612, 'Neutral': 3664}\n",
      "{'Positive': 579, 'Neutral': 625, 'Negative': 141}\n",
      "{'Negative': 307, 'Neutral': 1235, 'Positive': 1157}\n",
      "{'Negative': 739, 'Positive': 2566, 'Neutral': 2827}\n",
      "{'Positive': 518, 'Neutral': 588, 'Negative': 25}\n",
      "{'Positive': 1867, 'Neutral': 1928, 'Negative': 140}\n",
      "{'Positive': 465, 'Neutral': 607, 'Negative': 317}\n",
      "{'Neutral': 374, 'Positive': 314, 'Negative': 24}\n",
      "{'Negative': 236, 'Neutral': 605, 'Positive': 529}\n",
      "{'Positive': 127, 'Neutral': 160, 'Negative': 120}\n",
      "{'Positive': 854, 'Neutral': 940, 'Negative': 417}\n",
      "{'Positive': 1005, 'Neutral': 1087, 'Negative': 164}\n",
      "{'Positive': 1416, 'Neutral': 1463, 'Negative': 87}\n",
      "{'Positive': 525, 'Neutral': 561, 'Negative': 110}\n",
      "{'Negative': 29, 'Positive': 891, 'Neutral': 961}\n",
      "{'Positive': 1337, 'Neutral': 1467, 'Negative': 542}\n",
      "{'Positive': 722, 'Neutral': 808, 'Negative': 162}\n",
      "{'Positive': 695, 'Neutral': 770, 'Negative': 155}\n",
      "{'Positive': 952, 'Neutral': 1016, 'Negative': 207}\n",
      "{'Positive': 822, 'Neutral': 930, 'Negative': 469}\n",
      "{'Positive': 4071, 'Neutral': 4224, 'Negative': 228}\n",
      "{'Negative': 147, 'Positive': 320, 'Neutral': 352}\n",
      "{'Positive': 1478, 'Neutral': 1520, 'Negative': 45}\n",
      "{'Positive': 1030, 'Neutral': 1098, 'Negative': 95}\n",
      "{'Positive': 1679, 'Neutral': 1799, 'Negative': 44}\n",
      "{'Positive': 1407, 'Neutral': 1442, 'Negative': 111}\n",
      "{'Positive': 11693, 'Neutral': 11842, 'Negative': 113}\n",
      "{'Positive': 9843, 'Neutral': 10558, 'Negative': 715}\n",
      "{'Positive': 1029, 'Neutral': 1094, 'Negative': 34}\n",
      "{'Positive': 222, 'Neutral': 315, 'Negative': 79}\n",
      "{'Positive': 2811, 'Neutral': 2946, 'Negative': 90}\n",
      "{'Positive': 1878, 'Neutral': 2247, 'Negative': 541}\n",
      "{'Positive': 1081, 'Neutral': 1209, 'Negative': 301}\n",
      "{'Positive': 808, 'Neutral': 854, 'Negative': 19}\n",
      "{'Positive': 1652, 'Neutral': 1707, 'Negative': 95}\n",
      "{'Negative': 293, 'Positive': 1191, 'Neutral': 1238}\n",
      "{'Positive': 1057, 'Neutral': 1146, 'Negative': 157}\n",
      "{'Negative': 103, 'Positive': 1291, 'Neutral': 1334}\n",
      "{'Positive': 376, 'Neutral': 387, 'Negative': 73}\n",
      "{'Positive': 381, 'Neutral': 543, 'Negative': 456}\n",
      "{'Positive': 1246, 'Neutral': 1323, 'Negative': 65}\n",
      "{'Negative': 75, 'Positive': 594, 'Neutral': 641}\n",
      "{'Positive': 1091, 'Neutral': 1260, 'Negative': 261}\n",
      "{'Positive': 1708, 'Neutral': 1728, 'Negative': 19}\n",
      "{'Positive': 2762, 'Neutral': 3002, 'Negative': 100}\n",
      "{'Positive': 1631, 'Neutral': 1720, 'Negative': 143}\n",
      "{'Positive': 2294, 'Neutral': 2418, 'Negative': 98}\n",
      "{'Positive': 1149, 'Neutral': 1418, 'Negative': 662}\n",
      "{'Positive': 1632, 'Neutral': 1694, 'Negative': 82}\n",
      "{'Positive': 1035, 'Neutral': 1120, 'Negative': 136}\n",
      "{'Positive': 2133, 'Neutral': 2321, 'Negative': 213}\n",
      "{'Positive': 549, 'Neutral': 576, 'Negative': 56}\n",
      "{'Positive': 534, 'Neutral': 594, 'Negative': 74}\n",
      "{'Positive': 446, 'Neutral': 511, 'Negative': 200}\n",
      "{'Neutral': 3309, 'Positive': 3027, 'Negative': 261}\n",
      "{'Positive': 1529, 'Neutral': 1575, 'Negative': 12}\n",
      "{'Neutral': 842, 'Negative': 2937, 'Positive': 714}\n",
      "{'Negative': 222, 'Positive': 260, 'Neutral': 318}\n",
      "{'Positive': 925, 'Neutral': 1130, 'Negative': 277}\n",
      "{'Positive': 781, 'Neutral': 830, 'Negative': 15}\n",
      "{'Positive': 1494, 'Neutral': 1525, 'Negative': 42}\n",
      "{'Positive': 1437, 'Neutral': 1509, 'Negative': 422}\n",
      "{'Positive': 509, 'Neutral': 599, 'Negative': 323}\n",
      "{'Positive': 1045, 'Neutral': 1072, 'Negative': 10}\n",
      "{'Neutral': 1715, 'Negative': 250, 'Positive': 1498}\n",
      "{'Positive': 1744, 'Neutral': 1937, 'Negative': 414}\n",
      "{'Positive': 1701, 'Neutral': 1788, 'Negative': 380}\n",
      "{'Positive': 10883, 'Neutral': 11129, 'Negative': 223}\n",
      "{'Negative': 88, 'Positive': 1032, 'Neutral': 1107}\n",
      "{'Positive': 2867, 'Neutral': 2903, 'Negative': 3777}\n",
      "{'Negative': 146, 'Positive': 1318, 'Neutral': 1380}\n",
      "{'Positive': 5501, 'Neutral': 5598, 'Negative': 159}\n",
      "{'Positive': 1233, 'Neutral': 1282, 'Negative': 291}\n",
      "{'Positive': 2480, 'Neutral': 2532, 'Negative': 127}\n",
      "{'Positive': 1516, 'Neutral': 1552, 'Negative': 56}\n",
      "{'Positive': 21571, 'Neutral': 22060, 'Negative': 555}\n",
      "{'Positive': 3288, 'Neutral': 3382, 'Negative': 91}\n",
      "{'Positive': 3065, 'Neutral': 3091, 'Negative': 41}\n",
      "{'Positive': 776, 'Neutral': 842, 'Negative': 291}\n",
      "{'Neutral': 1293, 'Positive': 1219, 'Negative': 77}\n",
      "{'Positive': 1207, 'Neutral': 1279, 'Negative': 78}\n",
      "{'Positive': 353, 'Neutral': 396, 'Negative': 207}\n",
      "{'Positive': 1236, 'Neutral': 1311, 'Negative': 73}\n",
      "{'Positive': 553, 'Neutral': 620, 'Negative': 67}\n",
      "{'Positive': 1757, 'Neutral': 1787, 'Negative': 152}\n",
      "{'Positive': 1113, 'Neutral': 1130, 'Negative': 61}\n",
      "{'Positive': 4360, 'Neutral': 4581, 'Negative': 230}\n",
      "{'Neutral': 446, 'Positive': 378, 'Negative': 221}\n",
      "{'Positive': 1450, 'Neutral': 1528, 'Negative': 116}\n",
      "{'Positive': 3355, 'Neutral': 3387, 'Negative': 50}\n",
      "{'Positive': 1944, 'Neutral': 2049, 'Negative': 114}\n",
      "{'Positive': 6284, 'Neutral': 6459, 'Negative': 257}\n",
      "{'Positive': 872, 'Neutral': 976, 'Negative': 57}\n",
      "{'Negative': 59, 'Positive': 1644, 'Neutral': 1691}\n",
      "{'Negative': 191, 'Positive': 458, 'Neutral': 520}\n",
      "{'Positive': 5413, 'Neutral': 5460, 'Negative': 106}\n",
      "{'Positive': 3101, 'Neutral': 3303, 'Negative': 336}\n",
      "{'Negative': 65, 'Positive': 615, 'Neutral': 644}\n",
      "{'Positive': 1646, 'Neutral': 1775, 'Negative': 309}\n",
      "{'Neutral': 1474, 'Negative': 146, 'Positive': 1272}\n",
      "{'Negative': 295, 'Neutral': 1198, 'Positive': 1103}\n",
      "{'Positive': 814, 'Neutral': 842, 'Negative': 63}\n",
      "{'Positive': 2204, 'Neutral': 2365, 'Negative': 220}\n",
      "{'Positive': 1472, 'Neutral': 1572, 'Negative': 157}\n",
      "{'Positive': 1976, 'Neutral': 2110, 'Negative': 270}\n",
      "{'Positive': 29067, 'Neutral': 29400, 'Negative': 375}\n",
      "{'Negative': 350, 'Positive': 3996, 'Neutral': 4237}\n",
      "{'Neutral': 821, 'Positive': 677, 'Negative': 104}\n",
      "{'Positive': 1328, 'Neutral': 1408, 'Negative': 114}\n",
      "{'Positive': 876, 'Neutral': 965, 'Negative': 72}\n",
      "{'Positive': 6730, 'Neutral': 6804, 'Negative': 112}\n",
      "{'Negative': 261, 'Positive': 1787, 'Neutral': 1867}\n",
      "{'Positive': 2470, 'Neutral': 2587, 'Negative': 55}\n",
      "{'Neutral': 846, 'Positive': 752, 'Negative': 176}\n",
      "{'Positive': 801, 'Neutral': 880, 'Negative': 49}\n",
      "{'Positive': 5050, 'Neutral': 5111, 'Negative': 100}\n",
      "{'Positive': 1383, 'Neutral': 1409, 'Negative': 39}\n",
      "{'Positive': 607, 'Neutral': 714, 'Negative': 156}\n",
      "{'Positive': 1475, 'Neutral': 1580, 'Negative': 320}\n",
      "{'Positive': 1460, 'Neutral': 1553, 'Negative': 328}\n",
      "{'Positive': 1733, 'Neutral': 1873, 'Negative': 221}\n",
      "{'Positive': 1054, 'Neutral': 1151, 'Negative': 184}\n",
      "{'Positive': 313, 'Neutral': 436, 'Negative': 154}\n",
      "{'Positive': 743, 'Neutral': 927, 'Negative': 231}\n",
      "{'Positive': 519, 'Neutral': 533, 'Negative': 22}\n",
      "{'Positive': 555, 'Neutral': 622, 'Negative': 143}\n",
      "{'Positive': 598, 'Neutral': 695, 'Negative': 65}\n",
      "{'Negative': 59, 'Positive': 620, 'Neutral': 674}\n",
      "{'Positive': 26292, 'Neutral': 26633, 'Negative': 447}\n",
      "{'Positive': 545, 'Neutral': 608, 'Negative': 195}\n",
      "{'Negative': 274, 'Positive': 576, 'Neutral': 675}\n",
      "{'Positive': 4718, 'Neutral': 4788, 'Negative': 205}\n",
      "{'Positive': 945, 'Neutral': 1042, 'Negative': 81}\n",
      "{'Positive': 3792, 'Neutral': 3851, 'Negative': 75}\n",
      "{'Negative': 228, 'Positive': 1072, 'Neutral': 1170}\n",
      "{'Neutral': 1642, 'Positive': 1592, 'Negative': 136}\n",
      "{'Positive': 856, 'Neutral': 909, 'Negative': 290}\n",
      "{'Positive': 4029, 'Neutral': 4111, 'Negative': 85}\n",
      "{'Positive': 355, 'Neutral': 407, 'Negative': 174}\n",
      "{'Neutral': 1300, 'Negative': 279, 'Positive': 1172}\n",
      "{'Positive': 2216, 'Neutral': 2247, 'Negative': 27}\n",
      "{'Positive': 492, 'Neutral': 595, 'Negative': 119}\n",
      "{'Positive': 5003, 'Neutral': 5033, 'Negative': 38}\n",
      "{'Positive': 661, 'Neutral': 790, 'Negative': 194}\n",
      "{'Positive': 631, 'Neutral': 703, 'Negative': 141}\n",
      "{'Positive': 510, 'Neutral': 516, 'Negative': 9}\n",
      "{'Neutral': 644, 'Negative': 203, 'Positive': 510}\n",
      "{'Positive': 1451, 'Neutral': 1495, 'Negative': 109}\n",
      "{'Positive': 857, 'Neutral': 889, 'Negative': 35}\n",
      "{'Positive': 2122, 'Neutral': 2227, 'Negative': 98}\n",
      "{'Positive': 896, 'Neutral': 923, 'Negative': 33}\n",
      "{'Positive': 1176, 'Neutral': 1330, 'Negative': 113}\n",
      "{'Positive': 861, 'Neutral': 882, 'Negative': 54}\n",
      "{'Positive': 933, 'Neutral': 984, 'Negative': 69}\n",
      "{'Positive': 472, 'Neutral': 504, 'Negative': 37}\n",
      "{'Positive': 977, 'Neutral': 1060, 'Negative': 71}\n",
      "{'Positive': 491, 'Neutral': 541, 'Negative': 111}\n",
      "{'Positive': 1389, 'Neutral': 1442, 'Negative': 97}\n",
      "{'Positive': 3630, 'Neutral': 3693, 'Negative': 52}\n",
      "{'Positive': 995, 'Neutral': 1102, 'Negative': 127}\n",
      "{'Positive': 4243, 'Neutral': 4375, 'Negative': 111}\n",
      "{'Positive': 491, 'Neutral': 529, 'Negative': 32}\n",
      "{'Positive': 471, 'Neutral': 491, 'Negative': 40}\n",
      "{'Positive': 2143, 'Neutral': 2184, 'Negative': 37}\n",
      "{'Neutral': 2482, 'Positive': 2442, 'Negative': 41}\n",
      "{'Positive': 690, 'Neutral': 754, 'Negative': 112}\n",
      "{'Positive': 746, 'Neutral': 770, 'Negative': 9}\n",
      "{'Positive': 2827, 'Neutral': 2885, 'Negative': 77}\n",
      "{'Positive': 331, 'Neutral': 382, 'Negative': 19}\n",
      "{'Positive': 113, 'Neutral': 127, 'Negative': 27}\n",
      "{'Neutral': 1280, 'Positive': 1202, 'Negative': 273}\n",
      "{'Positive': 3900, 'Neutral': 3997, 'Negative': 150}\n",
      "{'Positive': 309, 'Neutral': 353, 'Negative': 30}\n",
      "{'Positive': 2045, 'Neutral': 2078, 'Negative': 22}\n",
      "{'Negative': 115, 'Positive': 777, 'Neutral': 825}\n",
      "{'Positive': 818, 'Neutral': 839, 'Negative': 247}\n",
      "{'Positive': 2276, 'Neutral': 2315, 'Negative': 103}\n",
      "{'Positive': 902, 'Neutral': 982, 'Negative': 105}\n",
      "{'Neutral': 604, 'Negative': 70, 'Positive': 582}\n",
      "{'Positive': 2578, 'Neutral': 2609, 'Negative': 238}\n",
      "{'Positive': 1179, 'Neutral': 1213, 'Negative': 15}\n",
      "{'Positive': 3567, 'Neutral': 3725, 'Negative': 49}\n",
      "{'Negative': 90, 'Positive': 8296, 'Neutral': 8394}\n",
      "{'Positive': 847, 'Neutral': 926, 'Negative': 122}\n",
      "{'Positive': 877, 'Neutral': 885, 'Negative': 31}\n",
      "{'Positive': 859, 'Neutral': 892, 'Negative': 50}\n",
      "{'Positive': 644, 'Neutral': 686, 'Negative': 140}\n",
      "{'Positive': 486, 'Neutral': 514, 'Negative': 49}\n",
      "{'Positive': 1743, 'Neutral': 1808, 'Negative': 97}\n",
      "{'Positive': 15631, 'Neutral': 15880, 'Negative': 390}\n",
      "{'Positive': 2742, 'Neutral': 2845, 'Negative': 64}\n",
      "{'Positive': 1048, 'Neutral': 1157, 'Negative': 385}\n",
      "{'Neutral': 3073, 'Negative': 180, 'Positive': 2979}\n",
      "{'Negative': 400, 'Positive': 3557, 'Neutral': 3778}\n",
      "{'Positive': 704, 'Neutral': 805, 'Negative': 285}\n",
      "{'Positive': 2095, 'Neutral': 2132, 'Negative': 104}\n",
      "{'Positive': 925, 'Neutral': 958, 'Negative': 40}\n",
      "{'Positive': 7560, 'Neutral': 7659, 'Negative': 142}\n",
      "{'Positive': 1144, 'Neutral': 1168, 'Negative': 30}\n",
      "{'Positive': 1941, 'Neutral': 1980, 'Negative': 50}\n",
      "{'Positive': 7090, 'Neutral': 7163, 'Negative': 48}\n",
      "{'Positive': 4493, 'Neutral': 4654, 'Negative': 219}\n",
      "{'Positive': 725, 'Neutral': 771, 'Negative': 59}\n",
      "{'Positive': 1108, 'Neutral': 1158, 'Negative': 84}\n",
      "{'Positive': 1527, 'Neutral': 1569, 'Negative': 31}\n",
      "{'Positive': 2294, 'Neutral': 2432, 'Negative': 158}\n",
      "{'Positive': 3215, 'Neutral': 3318, 'Negative': 108}\n",
      "{'Negative': 167, 'Neutral': 3318, 'Positive': 3216}\n",
      "{'Positive': 1042, 'Neutral': 1071, 'Negative': 41}\n",
      "{'Positive': 956, 'Neutral': 1015, 'Negative': 91}\n",
      "{'Positive': 4818, 'Neutral': 4865, 'Negative': 109}\n",
      "{'Negative': 321, 'Positive': 690, 'Neutral': 813}\n",
      "{'Positive': 2117, 'Neutral': 2231, 'Negative': 728}\n",
      "{'Positive': 1655, 'Neutral': 1672, 'Negative': 59}\n",
      "{'Negative': 53, 'Neutral': 676, 'Positive': 652}\n",
      "{'Positive': 1857, 'Neutral': 1868, 'Negative': 24}\n",
      "{'Positive': 8736, 'Neutral': 8957, 'Negative': 776}\n",
      "{'Positive': 696, 'Neutral': 741, 'Negative': 77}\n",
      "{'Negative': 258, 'Positive': 606, 'Neutral': 676}\n",
      "{'Positive': 7766, 'Neutral': 7981, 'Negative': 1148}\n",
      "{'Positive': 407, 'Neutral': 447, 'Negative': 24}\n",
      "{'Positive': 1465, 'Neutral': 1549, 'Negative': 20}\n",
      "{'Positive': 1272, 'Neutral': 1299, 'Negative': 54}\n",
      "{'Positive': 1682, 'Neutral': 1762, 'Negative': 76}\n",
      "{'Positive': 716, 'Neutral': 747, 'Negative': 61}\n",
      "{'Positive': 2008, 'Neutral': 2038, 'Negative': 51}\n",
      "{'Positive': 1083, 'Neutral': 1109, 'Negative': 33}\n",
      "{'Negative': 322, 'Neutral': 813, 'Positive': 606}\n",
      "{'Positive': 8372, 'Neutral': 8598, 'Negative': 107}\n",
      "{'Negative': 485, 'Neutral': 7463, 'Positive': 7161}\n",
      "{'Positive': 1781, 'Neutral': 1886, 'Negative': 307}\n",
      "{'Positive': 2493, 'Neutral': 2546, 'Negative': 97}\n",
      "{'Positive': 1317, 'Neutral': 1338, 'Negative': 56}\n",
      "{'Positive': 2465, 'Neutral': 2593, 'Negative': 138}\n",
      "{'Positive': 905, 'Neutral': 948, 'Negative': 9}\n",
      "{'Positive': 1873, 'Neutral': 1906, 'Negative': 50}\n",
      "{'Positive': 4361, 'Neutral': 4519, 'Negative': 1110}\n",
      "{'Negative': 143, 'Positive': 1458, 'Neutral': 1616}\n",
      "{'Positive': 909, 'Neutral': 954, 'Negative': 40}\n",
      "{'Neutral': 507, 'Negative': 164, 'Positive': 430}\n",
      "{'Positive': 1566, 'Neutral': 1606, 'Negative': 39}\n",
      "{'Positive': 1225, 'Neutral': 1240, 'Negative': 14}\n",
      "{'Positive': 4290, 'Neutral': 4485, 'Negative': 634}\n",
      "{'Positive': 558, 'Neutral': 576, 'Negative': 10}\n",
      "{'Positive': 2799, 'Neutral': 2915, 'Negative': 56}\n",
      "{'Positive': 1174, 'Neutral': 1226, 'Negative': 37}\n",
      "{'Positive': 998, 'Neutral': 1035, 'Negative': 112}\n",
      "{'Positive': 2890, 'Neutral': 2963, 'Negative': 367}\n",
      "{'Positive': 947, 'Neutral': 977, 'Negative': 32}\n",
      "{'Positive': 876, 'Neutral': 990, 'Negative': 294}\n",
      "{'Positive': 10031, 'Neutral': 10303, 'Negative': 224}\n",
      "{'Positive': 1602, 'Neutral': 1647, 'Negative': 45}\n",
      "{'Negative': 1726, 'Neutral': 55053, 'Positive': 53712}\n",
      "{'Positive': 1793, 'Neutral': 1831, 'Negative': 81}\n",
      "{'Positive': 913, 'Neutral': 938, 'Negative': 58}\n",
      "{'Positive': 300, 'Neutral': 380, 'Negative': 65}\n",
      "{'Positive': 2952, 'Neutral': 3159, 'Negative': 284}\n",
      "{'Positive': 1945, 'Neutral': 1969, 'Negative': 62}\n",
      "{'Positive': 709, 'Neutral': 725, 'Negative': 32}\n",
      "{'Positive': 5068, 'Neutral': 5144, 'Negative': 102}\n",
      "{'Positive': 5329, 'Neutral': 5580, 'Negative': 153}\n",
      "{'Positive': 3778, 'Neutral': 3837, 'Negative': 46}\n",
      "{'Positive': 9452, 'Neutral': 9622, 'Negative': 151}\n",
      "{'Neutral': 3328, 'Positive': 2890, 'Negative': 340}\n",
      "{'Positive': 472, 'Neutral': 500, 'Negative': 42}\n",
      "{'Positive': 986, 'Neutral': 1162, 'Negative': 495}\n",
      "{'Positive': 1672, 'Neutral': 1713, 'Negative': 191}\n",
      "{'Positive': 21057, 'Neutral': 21265, 'Negative': 226}\n",
      "{'Positive': 1725, 'Neutral': 1778, 'Negative': 85}\n",
      "{'Positive': 1724, 'Neutral': 1801, 'Negative': 95}\n",
      "{'Positive': 696, 'Neutral': 737, 'Negative': 110}\n",
      "{'Positive': 410, 'Neutral': 447, 'Negative': 51}\n",
      "{'Positive': 545, 'Neutral': 575, 'Negative': 194}\n",
      "{'Positive': 2080, 'Neutral': 2192, 'Negative': 239}\n",
      "{'Positive': 4052, 'Neutral': 4109, 'Negative': 88}\n",
      "{'Positive': 1866, 'Neutral': 2001, 'Negative': 174}\n",
      "{'Positive': 2525, 'Neutral': 2594, 'Negative': 93}\n",
      "{'Positive': 1303, 'Neutral': 1375, 'Negative': 75}\n",
      "{'Positive': 1901, 'Neutral': 1992, 'Negative': 112}\n",
      "{'Positive': 887, 'Neutral': 906, 'Negative': 7}\n",
      "{'Positive': 2529, 'Neutral': 2603, 'Negative': 73}\n",
      "{'Positive': 1209, 'Neutral': 1279, 'Negative': 114}\n",
      "{'Positive': 1354, 'Neutral': 1461, 'Negative': 107}\n",
      "{'Positive': 2641, 'Neutral': 2781, 'Negative': 323}\n",
      "{'Positive': 1101, 'Neutral': 1212, 'Negative': 181}\n",
      "{'Positive': 751, 'Neutral': 784, 'Negative': 32}\n",
      "{'Negative': 365, 'Positive': 2959, 'Neutral': 3056}\n",
      "{'Positive': 1187, 'Neutral': 1213, 'Negative': 58}\n",
      "{'Positive': 4747, 'Neutral': 4931, 'Negative': 266}\n",
      "{'Positive': 1445, 'Neutral': 1513, 'Negative': 211}\n",
      "{'Neutral': 1089, 'Positive': 1018, 'Negative': 74}\n",
      "{'Positive': 2487, 'Neutral': 2533, 'Negative': 80}\n",
      "{'Positive': 1043, 'Neutral': 1247, 'Negative': 261}\n",
      "{'Positive': 1659, 'Neutral': 1773, 'Negative': 73}\n",
      "{'Positive': 964, 'Neutral': 1035, 'Negative': 162}\n",
      "{'Positive': 538, 'Neutral': 574, 'Negative': 36}\n",
      "{'Positive': 2804, 'Neutral': 2978, 'Negative': 79}\n",
      "{'Positive': 1488, 'Neutral': 1575, 'Negative': 253}\n",
      "{'Negative': 194, 'Positive': 1693, 'Neutral': 1777}\n",
      "{'Positive': 1045, 'Neutral': 1166, 'Negative': 255}\n",
      "{'Negative': 270, 'Neutral': 1070, 'Positive': 940}\n",
      "{'Positive': 4345, 'Neutral': 4479, 'Negative': 158}\n",
      "{'Positive': 1631, 'Neutral': 1700, 'Negative': 171}\n",
      "{'Positive': 5459, 'Neutral': 5592, 'Negative': 124}\n",
      "{'Positive': 1431, 'Neutral': 1502, 'Negative': 63}\n",
      "{'Positive': 6268, 'Neutral': 6460, 'Negative': 213}\n",
      "{'Positive': 5543, 'Neutral': 5683, 'Negative': 201}\n",
      "{'Positive': 1969, 'Neutral': 2025, 'Negative': 253}\n",
      "{'Positive': 1098, 'Neutral': 1177, 'Negative': 122}\n",
      "{'Positive': 4501, 'Neutral': 4569, 'Negative': 99}\n",
      "{'Positive': 620, 'Neutral': 653, 'Negative': 54}\n",
      "{'Positive': 6223, 'Neutral': 6353, 'Negative': 289}\n",
      "{'Positive': 506, 'Neutral': 518, 'Negative': 54}\n",
      "{'Positive': 2019, 'Neutral': 2208, 'Negative': 259}\n",
      "{'Positive': 515, 'Neutral': 555, 'Negative': 104}\n",
      "{'Positive': 3351, 'Neutral': 3495, 'Negative': 245}\n",
      "{'Negative': 96, 'Positive': 1565, 'Neutral': 1626}\n",
      "{'Positive': 951, 'Neutral': 968, 'Negative': 28}\n",
      "{'Positive': 1750, 'Neutral': 1807, 'Negative': 137}\n",
      "{'Neutral': 2752, 'Positive': 2652, 'Negative': 167}\n",
      "{'Positive': 700, 'Neutral': 773, 'Negative': 251}\n",
      "{'Positive': 1272, 'Neutral': 1373, 'Negative': 106}\n",
      "{'Positive': 6044, 'Neutral': 6244, 'Negative': 119}\n",
      "{'Positive': 1853, 'Neutral': 1946, 'Negative': 182}\n",
      "{'Neutral': 5823, 'Positive': 5633, 'Negative': 137}\n",
      "{'Positive': 698, 'Neutral': 774, 'Negative': 70}\n",
      "{'Positive': 3761, 'Neutral': 3836, 'Negative': 147}\n",
      "{'Positive': 800, 'Neutral': 878, 'Negative': 66}\n",
      "{'Negative': 169, 'Positive': 583, 'Neutral': 636}\n",
      "{'Neutral': 1573, 'Positive': 1276, 'Negative': 327}\n",
      "{'Positive': 3492, 'Neutral': 3573, 'Negative': 136}\n",
      "{'Neutral': 1320, 'Positive': 1214, 'Negative': 116}\n",
      "{'Negative': 261, 'Positive': 732, 'Neutral': 804}\n",
      "{'Negative': 357, 'Neutral': 4486, 'Positive': 3998}\n",
      "{'Positive': 2296, 'Neutral': 2422, 'Negative': 149}\n",
      "{'Positive': 5414, 'Neutral': 5497, 'Negative': 55}\n",
      "{'Positive': 454, 'Neutral': 500, 'Negative': 123}\n",
      "{'Positive': 718, 'Neutral': 736, 'Negative': 86}\n",
      "{'Positive': 791, 'Neutral': 831, 'Negative': 88}\n",
      "{'Positive': 2838, 'Neutral': 3089, 'Negative': 470}\n",
      "{'Positive': 600, 'Neutral': 623, 'Negative': 54}\n",
      "{'Positive': 2893, 'Neutral': 2981, 'Negative': 86}\n",
      "{'Neutral': 2298, 'Negative': 497, 'Positive': 1691}\n",
      "{'Neutral': 1042, 'Positive': 995, 'Negative': 100}\n",
      "{'Positive': 607, 'Neutral': 657, 'Negative': 39}\n",
      "{'Positive': 1423, 'Neutral': 1492, 'Negative': 42}\n",
      "{'Neutral': 5017, 'Positive': 4719, 'Negative': 167}\n",
      "{'Positive': 235, 'Neutral': 271, 'Negative': 8}\n",
      "{'Positive': 486, 'Neutral': 522, 'Negative': 41}\n",
      "{'Positive': 1279, 'Neutral': 1411, 'Negative': 211}\n",
      "{'Negative': 267, 'Positive': 1950, 'Neutral': 2141}\n",
      "{'Positive': 599, 'Neutral': 630, 'Negative': 27}\n",
      "{'Negative': 279, 'Positive': 569, 'Neutral': 794}\n",
      "{'Positive': 3062, 'Neutral': 3184, 'Negative': 256}\n",
      "{'Positive': 686, 'Neutral': 710, 'Negative': 21}\n",
      "{'Positive': 2174, 'Neutral': 2205, 'Negative': 35}\n",
      "{'Positive': 2773, 'Neutral': 2802, 'Negative': 34}\n",
      "{'Negative': 288, 'Positive': 2045, 'Neutral': 2122}\n",
      "{'Positive': 437, 'Neutral': 454, 'Negative': 27}\n",
      "{'Positive': 2425, 'Neutral': 2457, 'Negative': 36}\n",
      "{'Negative': 460, 'Positive': 5629, 'Neutral': 5848}\n",
      "{'Positive': 2254, 'Neutral': 2352, 'Negative': 61}\n",
      "{'Positive': 1686, 'Neutral': 1772, 'Negative': 172}\n",
      "{'Positive': 541, 'Neutral': 599, 'Negative': 24}\n",
      "{'Negative': 80, 'Positive': 751, 'Neutral': 785}\n",
      "{'Positive': 2171, 'Neutral': 2220, 'Negative': 121}\n",
      "{'Positive': 3158, 'Neutral': 3184, 'Negative': 35}\n",
      "{'Positive': 3507, 'Neutral': 3570, 'Negative': 133}\n",
      "{'Positive': 1328, 'Neutral': 1469, 'Negative': 249}\n",
      "{'Negative': 117, 'Neutral': 1046, 'Positive': 948}\n",
      "{'Negative': 92, 'Positive': 1349, 'Neutral': 1449}\n",
      "{'Positive': 460, 'Neutral': 508, 'Negative': 94}\n",
      "{'Positive': 1232, 'Neutral': 1256, 'Negative': 88}\n",
      "{'Positive': 1165, 'Neutral': 1284, 'Negative': 229}\n",
      "{'Neutral': 697, 'Positive': 605, 'Negative': 147}\n",
      "{'Positive': 704, 'Neutral': 730, 'Negative': 33}\n",
      "{'Positive': 1734, 'Neutral': 1806, 'Negative': 110}\n",
      "{'Positive': 1509, 'Neutral': 1669, 'Negative': 331}\n",
      "{'Neutral': 1696, 'Positive': 1585, 'Negative': 149}\n",
      "{'Positive': 647, 'Neutral': 673, 'Negative': 30}\n",
      "{'Positive': 1321, 'Neutral': 1345, 'Negative': 68}\n",
      "{'Positive': 1410, 'Neutral': 1473, 'Negative': 85}\n",
      "{'Positive': 1812, 'Neutral': 1860, 'Negative': 65}\n",
      "{'Neutral': 236, 'Negative': 152, 'Positive': 194}\n",
      "{'Positive': 4746, 'Neutral': 4802, 'Negative': 165}\n",
      "{'Neutral': 840, 'Negative': 110, 'Positive': 796}\n",
      "{'Positive': 1730, 'Neutral': 1839, 'Negative': 253}\n",
      "{'Positive': 2964, 'Neutral': 3111, 'Negative': 282}\n",
      "{'Positive': 3196, 'Neutral': 3345, 'Negative': 301}\n",
      "{'Positive': 900, 'Neutral': 930, 'Negative': 38}\n",
      "{'Positive': 2057, 'Neutral': 2104, 'Negative': 98}\n",
      "{'Negative': 87, 'Positive': 289, 'Neutral': 329}\n",
      "{'Negative': 532, 'Positive': 468, 'Neutral': 590}\n",
      "{'Negative': 58, 'Positive': 1302, 'Neutral': 1319}\n",
      "{'Positive': 7174, 'Neutral': 7758, 'Negative': 877}\n",
      "{'Positive': 3388, 'Neutral': 3428, 'Negative': 47}\n",
      "{'Positive': 4379, 'Neutral': 4558, 'Negative': 1166}\n",
      "{'Positive': 4309, 'Neutral': 4436, 'Negative': 282}\n",
      "{'Positive': 1261, 'Neutral': 1320, 'Negative': 96}\n",
      "{'Positive': 1590, 'Neutral': 1605, 'Negative': 9}\n",
      "{'Neutral': 1103, 'Positive': 1015, 'Negative': 74}\n",
      "{'Positive': 1344, 'Neutral': 1378, 'Negative': 105}\n",
      "{'Positive': 6063, 'Neutral': 6184, 'Negative': 178}\n",
      "{'Positive': 2127, 'Neutral': 2174, 'Negative': 63}\n",
      "{'Positive': 1183, 'Neutral': 1280, 'Negative': 751}\n",
      "{'Positive': 2713, 'Neutral': 2855, 'Negative': 158}\n",
      "{'Neutral': 3036, 'Positive': 2849, 'Negative': 238}\n",
      "{'Positive': 2463, 'Neutral': 2537, 'Negative': 116}\n",
      "{'Positive': 8790, 'Neutral': 8908, 'Negative': 124}\n",
      "{'Positive': 1848, 'Neutral': 1863, 'Negative': 14}\n",
      "{'Positive': 8858, 'Neutral': 9086, 'Negative': 318}\n",
      "{'Positive': 750, 'Neutral': 778, 'Negative': 37}\n",
      "{'Positive': 58794, 'Neutral': 59294, 'Negative': 784}\n",
      "{'Positive': 2330, 'Neutral': 2429, 'Negative': 218}\n",
      "{'Positive': 3402, 'Neutral': 3942, 'Negative': 964}\n",
      "{'Positive': 5722, 'Neutral': 5877, 'Negative': 461}\n",
      "{'Positive': 2639, 'Neutral': 2716, 'Negative': 82}\n",
      "{'Positive': 2737, 'Neutral': 2771, 'Negative': 57}\n",
      "{'Positive': 8402, 'Neutral': 8586, 'Negative': 214}\n",
      "{'Positive': 1008, 'Neutral': 1090, 'Negative': 186}\n",
      "{'Negative': 209, 'Positive': 2140, 'Neutral': 2396}\n",
      "{'Positive': 1497, 'Neutral': 1586, 'Negative': 105}\n",
      "{'Positive': 2213, 'Neutral': 2362, 'Negative': 298}\n",
      "{'Positive': 1964, 'Neutral': 2109, 'Negative': 284}\n",
      "{'Positive': 2113, 'Neutral': 2173, 'Negative': 247}\n",
      "{'Positive': 1344, 'Neutral': 1374, 'Negative': 98}\n",
      "{'Positive': 1123, 'Neutral': 1237, 'Negative': 384}\n",
      "{'Positive': 1044, 'Neutral': 1065, 'Negative': 28}\n",
      "{'Positive': 1030, 'Neutral': 1224, 'Negative': 169}\n",
      "{'Positive': 4091, 'Neutral': 4247, 'Negative': 272}\n",
      "{'Positive': 1382, 'Neutral': 1422, 'Negative': 42}\n",
      "{'Positive': 1782, 'Neutral': 1959, 'Negative': 115}\n",
      "{'Negative': 331, 'Positive': 494, 'Neutral': 578}\n",
      "{'Positive': 622, 'Neutral': 654, 'Negative': 66}\n",
      "{'Positive': 782, 'Neutral': 821, 'Negative': 68}\n",
      "{'Positive': 732, 'Neutral': 879, 'Negative': 144}\n",
      "{'Positive': 1024, 'Neutral': 1279, 'Negative': 300}\n",
      "{'Positive': 3137, 'Neutral': 3235, 'Negative': 186}\n",
      "{'Positive': 1081, 'Neutral': 1123, 'Negative': 72}\n",
      "{'Positive': 7705, 'Neutral': 7926, 'Negative': 110}\n",
      "{'Positive': 1418, 'Neutral': 1541, 'Negative': 214}\n",
      "{'Positive': 731, 'Neutral': 745, 'Negative': 6}\n",
      "{'Positive': 4903, 'Neutral': 4939, 'Negative': 41}\n",
      "{'Positive': 997, 'Neutral': 1041, 'Negative': 83}\n",
      "{'Positive': 806, 'Neutral': 853, 'Negative': 113}\n",
      "{'Positive': 4703, 'Neutral': 4844, 'Negative': 107}\n",
      "{'Positive': 2028, 'Neutral': 2130, 'Negative': 136}\n",
      "{'Positive': 538, 'Neutral': 600, 'Negative': 99}\n",
      "{'Positive': 1409, 'Neutral': 1437, 'Negative': 63}\n",
      "{'Positive': 1405, 'Neutral': 1543, 'Negative': 582}\n",
      "{'Positive': 708, 'Neutral': 739, 'Negative': 30}\n",
      "{'Negative': 183, 'Positive': 555, 'Neutral': 600}\n",
      "{'Neutral': 765, 'Positive': 726, 'Negative': 42}\n",
      "{'Positive': 869, 'Neutral': 912, 'Negative': 59}\n",
      "{'Positive': 1673, 'Neutral': 1715, 'Negative': 68}\n",
      "{'Positive': 3974, 'Neutral': 4024, 'Negative': 90}\n",
      "{'Positive': 1528, 'Neutral': 1595, 'Negative': 53}\n",
      "{'Positive': 1509, 'Neutral': 1716, 'Negative': 253}\n",
      "{'Positive': 3162, 'Neutral': 3200, 'Negative': 50}\n",
      "{'Positive': 1252, 'Neutral': 1365, 'Negative': 303}\n",
      "{'Positive': 9363, 'Neutral': 9535, 'Negative': 169}\n",
      "{'Positive': 4859, 'Neutral': 4969, 'Negative': 276}\n",
      "{'Positive': 720, 'Neutral': 773, 'Negative': 57}\n",
      "{'Positive': 2808, 'Neutral': 2906, 'Negative': 217}\n",
      "{'Positive': 1557, 'Neutral': 1667, 'Negative': 211}\n",
      "{'Positive': 4441, 'Neutral': 4526, 'Negative': 44}\n",
      "{'Positive': 1318, 'Neutral': 1391, 'Negative': 82}\n",
      "{'Positive': 15045, 'Neutral': 15219, 'Negative': 376}\n",
      "{'Positive': 4541, 'Neutral': 4625, 'Negative': 91}\n",
      "{'Positive': 1270, 'Neutral': 1427, 'Negative': 222}\n",
      "{'Negative': 273, 'Positive': 2825, 'Neutral': 2872}\n",
      "{'Positive': 1888, 'Neutral': 1978, 'Negative': 147}\n",
      "{'Positive': 446, 'Neutral': 492, 'Negative': 109}\n",
      "{'Positive': 3105, 'Neutral': 3245, 'Negative': 251}\n",
      "{'Negative': 125, 'Positive': 1586, 'Neutral': 1650}\n",
      "{'Positive': 1873, 'Neutral': 1926, 'Negative': 71}\n",
      "{'Positive': 2045, 'Neutral': 2176, 'Negative': 91}\n",
      "{'Positive': 6889, 'Neutral': 6924, 'Negative': 57}\n",
      "{'Positive': 1169, 'Neutral': 1231, 'Negative': 36}\n",
      "{'Positive': 3177, 'Neutral': 3377, 'Negative': 211}\n",
      "{'Positive': 1016, 'Neutral': 1079, 'Negative': 86}\n",
      "{'Negative': 173, 'Positive': 2839, 'Neutral': 2930}\n",
      "{'Positive': 2169, 'Neutral': 2182, 'Negative': 9}\n",
      "{'Positive': 5057, 'Neutral': 5120, 'Negative': 126}\n",
      "{'Neutral': 436, 'Positive': 375, 'Negative': 37}\n",
      "{'Positive': 7190, 'Neutral': 7414, 'Negative': 338}\n",
      "{'Positive': 3930, 'Neutral': 4074, 'Negative': 97}\n",
      "{'Positive': 1949, 'Neutral': 1967, 'Negative': 35}\n",
      "{'Positive': 3990, 'Neutral': 4031, 'Negative': 23}\n",
      "{'Positive': 6762, 'Neutral': 6808, 'Negative': 51}\n",
      "{'Positive': 4994, 'Neutral': 5123, 'Negative': 607}\n",
      "{'Positive': 8033, 'Neutral': 8433, 'Negative': 689}\n",
      "{'Positive': 4736, 'Neutral': 4767, 'Negative': 83}\n",
      "{'Positive': 946, 'Neutral': 1010, 'Negative': 49}\n",
      "{'Positive': 11195, 'Neutral': 11508, 'Negative': 150}\n",
      "{'Positive': 1921, 'Neutral': 2007, 'Negative': 169}\n",
      "{'Positive': 1029, 'Neutral': 1166, 'Negative': 207}\n",
      "{'Positive': 2343, 'Neutral': 2359, 'Negative': 65}\n",
      "{'Neutral': 1674, 'Positive': 1542, 'Negative': 189}\n",
      "{'Positive': 2353, 'Neutral': 2404, 'Negative': 37}\n",
      "{'Positive': 9816, 'Neutral': 10051, 'Negative': 154}\n",
      "{'Positive': 1081, 'Neutral': 1101, 'Negative': 53}\n",
      "{'Positive': 991, 'Neutral': 1058, 'Negative': 133}\n",
      "{'Positive': 1423, 'Neutral': 1485, 'Negative': 71}\n",
      "{'Positive': 2746, 'Neutral': 2819, 'Negative': 173}\n",
      "{'Positive': 3850, 'Neutral': 3897, 'Negative': 68}\n",
      "{'Positive': 4777, 'Neutral': 4807, 'Negative': 22}\n",
      "{'Positive': 2047, 'Neutral': 2071, 'Negative': 38}\n",
      "{'Positive': 6242, 'Neutral': 6498, 'Negative': 146}\n",
      "{'Positive': 1272, 'Neutral': 1301, 'Negative': 3}\n",
      "{'Positive': 926, 'Neutral': 1009, 'Negative': 129}\n",
      "{'Negative': 67, 'Positive': 1748, 'Neutral': 1778}\n",
      "{'Negative': 32, 'Neutral': 2723, 'Positive': 2690}\n",
      "{'Positive': 3001, 'Neutral': 3143, 'Negative': 52}\n",
      "{'Positive': 1929, 'Neutral': 1983, 'Negative': 29}\n",
      "{'Positive': 4031, 'Neutral': 4237, 'Negative': 146}\n",
      "{'Positive': 1246, 'Neutral': 1340, 'Negative': 341}\n",
      "{'Positive': 2677, 'Neutral': 2755, 'Negative': 132}\n",
      "{'Positive': 710, 'Neutral': 715, 'Negative': 24}\n",
      "{'Positive': 1054, 'Neutral': 1089, 'Negative': 88}\n",
      "{'Positive': 1992, 'Neutral': 2095, 'Negative': 329}\n",
      "{'Positive': 1036, 'Neutral': 1062, 'Negative': 12}\n",
      "{'Positive': 550, 'Neutral': 586, 'Negative': 239}\n",
      "{'Positive': 1279, 'Neutral': 1302, 'Negative': 25}\n",
      "{'Positive': 937, 'Neutral': 1268, 'Negative': 500}\n",
      "{'Positive': 3415, 'Neutral': 3558, 'Negative': 427}\n",
      "{'Positive': 1752, 'Neutral': 1892, 'Negative': 203}\n",
      "{'Positive': 981, 'Neutral': 1089, 'Negative': 335}\n",
      "{'Positive': 1858, 'Neutral': 1921, 'Negative': 69}\n",
      "{'Positive': 3937, 'Neutral': 4031, 'Negative': 127}\n",
      "{'Positive': 746, 'Neutral': 806, 'Negative': 268}\n",
      "{'Positive': 1601, 'Neutral': 1662, 'Negative': 165}\n",
      "{'Positive': 1973, 'Neutral': 2029, 'Negative': 52}\n",
      "{'Positive': 1629, 'Neutral': 1662, 'Negative': 104}\n",
      "{'Positive': 1953, 'Neutral': 1981, 'Negative': 89}\n",
      "{'Positive': 1199, 'Neutral': 1224, 'Negative': 71}\n",
      "{'Positive': 1446, 'Neutral': 1596, 'Negative': 120}\n",
      "{'Positive': 752, 'Neutral': 891, 'Negative': 391}\n",
      "{'Positive': 681, 'Neutral': 727, 'Negative': 132}\n",
      "{'Neutral': 1015, 'Positive': 886, 'Negative': 344}\n",
      "{'Positive': 2284, 'Neutral': 2491, 'Negative': 327}\n",
      "{'Negative': 114, 'Positive': 969, 'Neutral': 1059}\n",
      "{'Positive': 751, 'Neutral': 817, 'Negative': 79}\n",
      "{'Negative': 475, 'Positive': 2240, 'Neutral': 2535}\n",
      "{'Positive': 1363, 'Neutral': 1402, 'Negative': 268}\n",
      "{'Positive': 1824, 'Neutral': 1864, 'Negative': 45}\n",
      "{'Positive': 1419, 'Neutral': 1440, 'Negative': 21}\n",
      "{'Positive': 7936, 'Neutral': 7984, 'Negative': 39}\n",
      "{'Positive': 12144, 'Neutral': 12704, 'Negative': 219}\n",
      "{'Positive': 1122, 'Neutral': 1340, 'Negative': 410}\n",
      "{'Positive': 1800, 'Neutral': 1862, 'Negative': 32}\n",
      "{'Positive': 1081, 'Neutral': 1102, 'Negative': 128}\n",
      "{'Negative': 101, 'Positive': 576, 'Neutral': 707}\n",
      "{'Positive': 1105, 'Neutral': 1173, 'Negative': 135}\n",
      "{'Positive': 1259, 'Neutral': 1301, 'Negative': 96}\n",
      "{'Positive': 3216, 'Neutral': 3307, 'Negative': 201}\n",
      "{'Positive': 629, 'Neutral': 646, 'Negative': 16}\n",
      "{'Positive': 3075, 'Neutral': 3145, 'Negative': 73}\n",
      "{'Negative': 384, 'Positive': 6376, 'Neutral': 6511}\n",
      "{'Positive': 5586, 'Neutral': 5714, 'Negative': 235}\n",
      "{'Positive': 5870, 'Neutral': 5989, 'Negative': 73}\n",
      "{'Positive': 1444, 'Neutral': 1464, 'Negative': 85}\n",
      "{'Positive': 2367, 'Neutral': 2468, 'Negative': 227}\n",
      "{'Positive': 3965, 'Neutral': 4077, 'Negative': 36}\n",
      "{'Negative': 91, 'Positive': 1414, 'Neutral': 1456}\n",
      "{'Negative': 318, 'Neutral': 8241, 'Positive': 7709}\n",
      "{'Positive': 1055, 'Neutral': 1282, 'Negative': 246}\n",
      "{'Positive': 3717, 'Neutral': 3821, 'Negative': 223}\n",
      "{'Positive': 1645, 'Neutral': 1823, 'Negative': 659}\n",
      "{'Positive': 757, 'Neutral': 827, 'Negative': 60}\n",
      "{'Positive': 2963, 'Neutral': 3081, 'Negative': 353}\n",
      "{'Positive': 2696, 'Neutral': 2775, 'Negative': 572}\n",
      "{'Positive': 1340, 'Neutral': 1418, 'Negative': 75}\n",
      "{'Neutral': 694, 'Negative': 16, 'Positive': 655}\n",
      "{'Positive': 1885, 'Neutral': 1915, 'Negative': 120}\n",
      "{'Positive': 866, 'Neutral': 1016, 'Negative': 53}\n",
      "{'Positive': 6861, 'Neutral': 7087, 'Negative': 216}\n",
      "{'Positive': 878, 'Neutral': 1100, 'Negative': 112}\n",
      "{'Neutral': 1205, 'Negative': 79, 'Positive': 1149}\n",
      "{'Positive': 2277, 'Neutral': 2318, 'Negative': 146}\n",
      "{'Positive': 778, 'Neutral': 937, 'Negative': 404}\n",
      "{'Positive': 2407, 'Neutral': 2507, 'Negative': 247}\n",
      "{'Neutral': 661, 'Positive': 525, 'Negative': 274}\n",
      "{'Positive': 1318, 'Neutral': 1346, 'Negative': 36}\n",
      "{'Positive': 975, 'Neutral': 1059, 'Negative': 349}\n",
      "{'Positive': 1740, 'Neutral': 1807, 'Negative': 107}\n",
      "{'Positive': 1161, 'Neutral': 1241, 'Negative': 172}\n",
      "{'Positive': 1553, 'Neutral': 1615, 'Negative': 129}\n",
      "{'Negative': 348, 'Positive': 905, 'Neutral': 1002}\n",
      "{'Positive': 1428, 'Neutral': 1453, 'Negative': 64}\n",
      "{'Positive': 691, 'Neutral': 793, 'Negative': 393}\n",
      "{'Positive': 1254, 'Neutral': 1307, 'Negative': 89}\n",
      "{'Positive': 2405, 'Neutral': 2489, 'Negative': 465}\n",
      "{'Positive': 3589, 'Neutral': 3715, 'Negative': 261}\n",
      "{'Positive': 792, 'Neutral': 917, 'Negative': 71}\n",
      "{'Positive': 897, 'Neutral': 916, 'Negative': 6}\n",
      "{'Positive': 2361, 'Neutral': 2472, 'Negative': 122}\n",
      "{'Positive': 3433, 'Neutral': 3472, 'Negative': 56}\n",
      "{'Neutral': 1112, 'Positive': 1053, 'Negative': 27}\n",
      "{'Positive': 374, 'Neutral': 403, 'Negative': 32}\n",
      "{'Positive': 4748, 'Neutral': 4808, 'Negative': 119}\n",
      "{'Positive': 408, 'Neutral': 490, 'Negative': 147}\n",
      "{'Positive': 1929, 'Neutral': 2126, 'Negative': 200}\n",
      "{'Positive': 966, 'Neutral': 1006, 'Negative': 171}\n",
      "{'Positive': 4197, 'Neutral': 4589, 'Negative': 303}\n",
      "{'Positive': 36664, 'Neutral': 37527, 'Negative': 631}\n",
      "{'Positive': 2430, 'Neutral': 2477, 'Negative': 66}\n",
      "{'Positive': 549, 'Neutral': 577, 'Negative': 38}\n",
      "{'Negative': 174, 'Positive': 3279, 'Neutral': 3389}\n",
      "{'Negative': 151, 'Positive': 1283, 'Neutral': 1374}\n",
      "{'Positive': 450, 'Neutral': 517, 'Negative': 50}\n",
      "{'Positive': 8822, 'Neutral': 9315, 'Negative': 628}\n",
      "{'Positive': 2642, 'Neutral': 2693, 'Negative': 147}\n",
      "{'Positive': 8870, 'Neutral': 9016, 'Negative': 100}\n",
      "{'Positive': 4056, 'Neutral': 4111, 'Negative': 234}\n",
      "{'Positive': 407, 'Neutral': 438, 'Negative': 82}\n",
      "{'Positive': 899, 'Neutral': 905, 'Negative': 10}\n",
      "{'Positive': 604, 'Neutral': 663, 'Negative': 98}\n",
      "{'Positive': 4627, 'Neutral': 4732, 'Negative': 266}\n",
      "{'Positive': 3946, 'Neutral': 3995, 'Negative': 170}\n",
      "{'Positive': 1946, 'Neutral': 2069, 'Negative': 274}\n",
      "{'Positive': 1101, 'Neutral': 1115, 'Negative': 14}\n",
      "{'Neutral': 1105, 'Negative': 54, 'Positive': 1067}\n",
      "{'Positive': 1086, 'Neutral': 1205, 'Negative': 375}\n",
      "{'Negative': 193, 'Positive': 3024, 'Neutral': 3083}\n",
      "{'Positive': 572, 'Neutral': 611, 'Negative': 45}\n",
      "{'Positive': 2026, 'Neutral': 2085, 'Negative': 208}\n",
      "{'Neutral': 1516, 'Positive': 1399, 'Negative': 115}\n",
      "{'Positive': 528, 'Neutral': 558, 'Negative': 18}\n",
      "{'Positive': 1280, 'Neutral': 1330, 'Negative': 24}\n",
      "{'Positive': 1518, 'Neutral': 1571, 'Negative': 84}\n",
      "{'Positive': 1955, 'Neutral': 2003, 'Negative': 32}\n",
      "{'Positive': 1050, 'Neutral': 1112, 'Negative': 27}\n",
      "{'Positive': 1418, 'Neutral': 1491, 'Negative': 79}\n",
      "{'Positive': 5611, 'Neutral': 5662, 'Negative': 67}\n",
      "{'Positive': 1298, 'Neutral': 1397, 'Negative': 578}\n",
      "{'Positive': 636, 'Neutral': 673, 'Negative': 94}\n",
      "{'Positive': 4280, 'Neutral': 4377, 'Negative': 165}\n",
      "{'Positive': 1447, 'Neutral': 1478, 'Negative': 22}\n",
      "{'Neutral': 3791, 'Positive': 3430, 'Negative': 190}\n",
      "{'Positive': 969, 'Neutral': 988, 'Negative': 31}\n",
      "{'Positive': 1273, 'Neutral': 1428, 'Negative': 169}\n",
      "{'Positive': 1558, 'Neutral': 1629, 'Negative': 153}\n",
      "{'Positive': 2506, 'Neutral': 2558, 'Negative': 85}\n",
      "{'Positive': 2649, 'Neutral': 2723, 'Negative': 75}\n",
      "{'Positive': 1104, 'Neutral': 1197, 'Negative': 47}\n",
      "{'Positive': 1007, 'Neutral': 1219, 'Negative': 339}\n",
      "{'Positive': 2574, 'Neutral': 2626, 'Negative': 65}\n",
      "{'Positive': 7438, 'Neutral': 7538, 'Negative': 97}\n",
      "{'Positive': 1711, 'Neutral': 1878, 'Negative': 306}\n",
      "{'Negative': 225, 'Neutral': 2238, 'Positive': 2071}\n",
      "{'Positive': 2134, 'Neutral': 2158, 'Negative': 146}\n",
      "{'Positive': 961, 'Neutral': 987, 'Negative': 25}\n",
      "{'Negative': 251, 'Positive': 3183, 'Neutral': 3388}\n",
      "{'Negative': 114, 'Positive': 435, 'Neutral': 478}\n",
      "{'Positive': 2950, 'Neutral': 3018, 'Negative': 160}\n",
      "{'Positive': 608, 'Neutral': 672, 'Negative': 69}\n",
      "{'Positive': 4555, 'Neutral': 4586, 'Negative': 22}\n",
      "{'Positive': 1087, 'Neutral': 1171, 'Negative': 75}\n",
      "{'Positive': 1545, 'Neutral': 1566, 'Negative': 20}\n",
      "{'Positive': 896, 'Neutral': 933, 'Negative': 31}\n",
      "{'Positive': 703, 'Neutral': 757, 'Negative': 40}\n",
      "{'Positive': 1721, 'Neutral': 1751, 'Negative': 26}\n",
      "{'Negative': 42, 'Positive': 1232, 'Neutral': 1270}\n",
      "{'Positive': 1767, 'Neutral': 1785, 'Negative': 18}\n",
      "{'Positive': 1028, 'Neutral': 1067, 'Negative': 66}\n",
      "{'Positive': 1164, 'Neutral': 1200, 'Negative': 125}\n",
      "{'Positive': 885, 'Neutral': 902, 'Negative': 11}\n",
      "{'Positive': 1340, 'Neutral': 1366, 'Negative': 76}\n",
      "{'Negative': 106, 'Positive': 385, 'Neutral': 416}\n",
      "{'Positive': 1969, 'Neutral': 2089, 'Negative': 329}\n",
      "{'Positive': 912, 'Neutral': 940, 'Negative': 31}\n",
      "{'Positive': 1696, 'Neutral': 2186, 'Negative': 704}\n",
      "{'Negative': 49, 'Positive': 651, 'Neutral': 680}\n",
      "{'Positive': 2373, 'Neutral': 2393, 'Negative': 24}\n",
      "{'Positive': 1241, 'Neutral': 1544, 'Negative': 583}\n",
      "{'Positive': 5772, 'Neutral': 5963, 'Negative': 254}\n",
      "{'Positive': 2022, 'Neutral': 2106, 'Negative': 217}\n",
      "{'Positive': 1019, 'Neutral': 1155, 'Negative': 337}\n",
      "{'Positive': 503, 'Neutral': 558, 'Negative': 96}\n",
      "{'Positive': 656, 'Neutral': 697, 'Negative': 63}\n",
      "{'Positive': 1110, 'Neutral': 1212, 'Negative': 418}\n",
      "{'Positive': 826, 'Neutral': 837, 'Negative': 44}\n",
      "{'Positive': 578, 'Neutral': 603, 'Negative': 44}\n",
      "{'Positive': 2904, 'Neutral': 2941, 'Negative': 31}\n",
      "{'Positive': 269, 'Neutral': 300, 'Negative': 33}\n",
      "{'Positive': 2048, 'Neutral': 2086, 'Negative': 54}\n",
      "{'Positive': 293, 'Neutral': 302, 'Negative': 5}\n",
      "{'Positive': 441, 'Neutral': 464, 'Negative': 41}\n",
      "{'Negative': 527, 'Positive': 5061, 'Neutral': 5181}\n",
      "{'Positive': 1344, 'Neutral': 1439, 'Negative': 60}\n",
      "{'Positive': 4161, 'Neutral': 4199, 'Negative': 94}\n",
      "{'Positive': 2118, 'Neutral': 2241, 'Negative': 95}\n",
      "{'Positive': 630, 'Neutral': 722, 'Negative': 135}\n",
      "{'Positive': 557, 'Neutral': 583, 'Negative': 67}\n",
      "{'Positive': 2453, 'Neutral': 2668, 'Negative': 274}\n",
      "{'Positive': 1432, 'Neutral': 1512, 'Negative': 155}\n",
      "{'Positive': 1256, 'Neutral': 1284, 'Negative': 38}\n",
      "{'Positive': 3870, 'Neutral': 3916, 'Negative': 54}\n",
      "{'Positive': 935, 'Neutral': 962, 'Negative': 35}\n",
      "{'Positive': 2311, 'Neutral': 2342, 'Negative': 54}\n",
      "{'Positive': 1204, 'Neutral': 1259, 'Negative': 49}\n",
      "{'Negative': 345, 'Positive': 3350, 'Neutral': 3498}\n",
      "{'Negative': 46, 'Positive': 971, 'Neutral': 979}\n",
      "{'Positive': 31692, 'Neutral': 31898, 'Negative': 282}\n",
      "{'Positive': 440, 'Neutral': 467, 'Negative': 27}\n",
      "{'Negative': 65, 'Positive': 734, 'Neutral': 767}\n",
      "{'Positive': 2016, 'Neutral': 2061, 'Negative': 54}\n",
      "{'Negative': 54, 'Positive': 462, 'Neutral': 507}\n",
      "{'Negative': 275, 'Positive': 4483, 'Neutral': 4709}\n",
      "{'Positive': 1139, 'Neutral': 1242, 'Negative': 140}\n",
      "{'Positive': 672, 'Neutral': 714, 'Negative': 127}\n",
      "{'Positive': 514, 'Neutral': 559, 'Negative': 66}\n",
      "{'Positive': 2730, 'Neutral': 2752, 'Negative': 45}\n",
      "{'Positive': 2097, 'Neutral': 2273, 'Negative': 124}\n",
      "{'Positive': 7864, 'Neutral': 7958, 'Negative': 104}\n",
      "{'Positive': 581, 'Neutral': 603, 'Negative': 29}\n",
      "{'Positive': 843, 'Neutral': 869, 'Negative': 49}\n",
      "{'Positive': 2661, 'Neutral': 3079, 'Negative': 1148}\n",
      "{'Positive': 77, 'Neutral': 107, 'Negative': 16}\n",
      "{'Positive': 184, 'Neutral': 211, 'Negative': 30}\n",
      "{'Positive': 399, 'Neutral': 439, 'Negative': 34}\n",
      "{'Positive': 209, 'Neutral': 236, 'Negative': 26}\n",
      "{'Positive': 3624, 'Neutral': 3678, 'Negative': 230}\n",
      "{'Positive': 703, 'Neutral': 752, 'Negative': 45}\n",
      "{'Negative': 106, 'Neutral': 2209, 'Positive': 2126}\n",
      "{'Neutral': 1093, 'Positive': 1019, 'Negative': 134}\n",
      "{'Negative': 182, 'Neutral': 1030, 'Positive': 920}\n",
      "{'Negative': 175, 'Positive': 1046, 'Neutral': 1171}\n",
      "{'Positive': 1771, 'Neutral': 1819, 'Negative': 31}\n",
      "{'Positive': 1585, 'Neutral': 1687, 'Negative': 49}\n",
      "{'Positive': 1315, 'Neutral': 1393, 'Negative': 97}\n",
      "{'Positive': 2260, 'Neutral': 2412, 'Negative': 85}\n",
      "{'Positive': 373, 'Neutral': 388, 'Negative': 16}\n",
      "{'Positive': 286, 'Neutral': 304, 'Negative': 12}\n",
      "{'Positive': 2882, 'Neutral': 2933, 'Negative': 186}\n",
      "{'Negative': 587, 'Positive': 2315, 'Neutral': 2432}\n",
      "{'Positive': 6253, 'Neutral': 6324, 'Negative': 54}\n",
      "{'Positive': 29095, 'Neutral': 29564, 'Negative': 473}\n",
      "{'Positive': 10636, 'Neutral': 10743, 'Negative': 129}\n",
      "{'Positive': 3658, 'Neutral': 3754, 'Negative': 93}\n",
      "{'Positive': 2402, 'Neutral': 2452, 'Negative': 190}\n",
      "{'Positive': 1657, 'Neutral': 1753, 'Negative': 108}\n",
      "{'Negative': 544, 'Positive': 2120, 'Neutral': 2290}\n",
      "{'Positive': 1581, 'Neutral': 1630, 'Negative': 78}\n",
      "{'Neutral': 11759, 'Positive': 11222, 'Negative': 1090}\n",
      "{'Positive': 1512, 'Neutral': 1556, 'Negative': 73}\n",
      "{'Negative': 192, 'Positive': 1795, 'Neutral': 1902}\n",
      "{'Positive': 1531, 'Neutral': 1584, 'Negative': 25}\n",
      "{'Positive': 3055, 'Neutral': 3152, 'Negative': 55}\n",
      "{'Negative': 376, 'Positive': 1682, 'Neutral': 1793}\n",
      "{'Positive': 3098, 'Neutral': 3162, 'Negative': 140}\n",
      "{'Positive': 14350, 'Neutral': 14453, 'Negative': 190}\n",
      "{'Positive': 746, 'Neutral': 763, 'Negative': 16}\n",
      "{'Negative': 154, 'Positive': 388, 'Neutral': 431}\n",
      "{'Positive': 752, 'Neutral': 793, 'Negative': 330}\n",
      "{'Neutral': 867, 'Negative': 58, 'Positive': 838}\n",
      "{'Positive': 1972, 'Neutral': 2142, 'Negative': 403}\n",
      "{'Positive': 1315, 'Neutral': 1375, 'Negative': 45}\n",
      "{'Positive': 926, 'Neutral': 961, 'Negative': 97}\n",
      "{'Negative': 68, 'Positive': 1691, 'Neutral': 1759}\n",
      "{'Positive': 3451, 'Neutral': 3484, 'Negative': 115}\n",
      "{'Negative': 216, 'Positive': 2418, 'Neutral': 2471}\n",
      "{'Positive': 1461, 'Neutral': 1485, 'Negative': 20}\n",
      "{'Neutral': 1866, 'Positive': 1782, 'Negative': 43}\n",
      "{'Positive': 1925, 'Neutral': 2023, 'Negative': 127}\n",
      "{'Positive': 586, 'Neutral': 676, 'Negative': 43}\n",
      "{'Positive': 984, 'Neutral': 1046, 'Negative': 86}\n",
      "{'Positive': 1397, 'Neutral': 1441, 'Negative': 25}\n",
      "{'Positive': 7591, 'Neutral': 7802, 'Negative': 458}\n",
      "{'Positive': 2706, 'Neutral': 2832, 'Negative': 169}\n",
      "{'Negative': 63, 'Positive': 475, 'Neutral': 524}\n",
      "{'Positive': 1047, 'Neutral': 1257, 'Negative': 715}\n",
      "{'Positive': 1093, 'Neutral': 1174, 'Negative': 253}\n",
      "{'Positive': 1655, 'Neutral': 1720, 'Negative': 135}\n",
      "{'Positive': 3652, 'Neutral': 3703, 'Negative': 53}\n",
      "{'Positive': 6083, 'Neutral': 6157, 'Negative': 75}\n",
      "{'Negative': 218, 'Neutral': 1343, 'Positive': 1289}\n",
      "{'Positive': 1775, 'Neutral': 1807, 'Negative': 55}\n",
      "{'Positive': 1141, 'Neutral': 1187, 'Negative': 33}\n",
      "{'Positive': 2365, 'Neutral': 2423, 'Negative': 91}\n",
      "{'Positive': 990, 'Neutral': 1057, 'Negative': 36}\n",
      "{'Negative': 201, 'Positive': 595, 'Neutral': 656}\n",
      "{'Positive': 713, 'Neutral': 784, 'Negative': 141}\n",
      "{'Positive': 679, 'Neutral': 731, 'Negative': 24}\n",
      "{'Positive': 4175, 'Neutral': 4249, 'Negative': 341}\n",
      "{'Positive': 3601, 'Neutral': 3785, 'Negative': 183}\n",
      "{'Positive': 1813, 'Neutral': 1934, 'Negative': 132}\n",
      "{'Negative': 188, 'Positive': 798, 'Neutral': 848}\n",
      "{'Positive': 1289, 'Neutral': 1357, 'Negative': 66}\n",
      "{'Positive': 4699, 'Neutral': 4872, 'Negative': 322}\n",
      "{'Positive': 1268, 'Neutral': 1341, 'Negative': 146}\n",
      "{'Negative': 161, 'Positive': 303, 'Neutral': 346}\n",
      "{'Negative': 266, 'Positive': 1759, 'Neutral': 1816}\n",
      "{'Positive': 751, 'Neutral': 771, 'Negative': 35}\n",
      "{'Positive': 4404, 'Neutral': 4517, 'Negative': 125}\n",
      "{'Positive': 3842, 'Neutral': 3902, 'Negative': 86}\n",
      "{'Negative': 191, 'Neutral': 1851, 'Positive': 1707}\n",
      "{'Positive': 850, 'Neutral': 870, 'Negative': 33}\n",
      "{'Positive': 1554, 'Neutral': 1592, 'Negative': 66}\n",
      "{'Positive': 1006, 'Neutral': 1091, 'Negative': 102}\n",
      "{'Positive': 1055, 'Neutral': 1070, 'Negative': 12}\n",
      "{'Positive': 6251, 'Neutral': 6362, 'Negative': 171}\n",
      "{'Positive': 1911, 'Neutral': 2214, 'Negative': 240}\n",
      "{'Positive': 409, 'Neutral': 448, 'Negative': 115}\n",
      "{'Positive': 1286, 'Neutral': 1306, 'Negative': 22}\n",
      "{'Positive': 2601, 'Neutral': 2731, 'Negative': 142}\n",
      "{'Positive': 1167, 'Neutral': 1361, 'Negative': 305}\n",
      "{'Positive': 4036, 'Neutral': 4246, 'Negative': 99}\n",
      "{'Positive': 605, 'Neutral': 658, 'Negative': 28}\n",
      "{'Positive': 746, 'Neutral': 789, 'Negative': 62}\n",
      "{'Positive': 836, 'Neutral': 862, 'Negative': 32}\n",
      "{'Positive': 534, 'Neutral': 577, 'Negative': 61}\n",
      "{'Positive': 1041, 'Neutral': 1103, 'Negative': 34}\n",
      "{'Positive': 3956, 'Neutral': 4018, 'Negative': 71}\n",
      "{'Positive': 1008, 'Neutral': 1024, 'Negative': 35}\n",
      "{'Positive': 492, 'Neutral': 520, 'Negative': 111}\n",
      "{'Negative': 397, 'Positive': 3254, 'Neutral': 3349}\n",
      "{'Positive': 1226, 'Neutral': 1285, 'Negative': 104}\n",
      "{'Negative': 160, 'Neutral': 691, 'Positive': 601}\n",
      "{'Positive': 2108, 'Neutral': 2142, 'Negative': 41}\n",
      "{'Positive': 519, 'Neutral': 552, 'Negative': 59}\n",
      "{'Neutral': 432, 'Positive': 376, 'Negative': 110}\n",
      "{'Positive': 877, 'Neutral': 945, 'Negative': 88}\n",
      "{'Positive': 1012, 'Neutral': 1117, 'Negative': 210}\n",
      "{'Positive': 492, 'Neutral': 533, 'Negative': 69}\n",
      "{'Positive': 4406, 'Neutral': 4464, 'Negative': 168}\n",
      "{'Positive': 2405, 'Neutral': 2596, 'Negative': 128}\n",
      "{'Positive': 4259, 'Neutral': 4421, 'Negative': 112}\n",
      "{'Positive': 1026, 'Neutral': 1054, 'Negative': 25}\n",
      "{'Neutral': 992, 'Positive': 725, 'Negative': 517}\n",
      "{'Positive': 741, 'Neutral': 765, 'Negative': 38}\n",
      "{'Positive': 832, 'Neutral': 865, 'Negative': 53}\n",
      "{'Positive': 1404, 'Neutral': 1441, 'Negative': 87}\n",
      "{'Positive': 680, 'Neutral': 731, 'Negative': 46}\n",
      "{'Positive': 723, 'Neutral': 793, 'Negative': 36}\n",
      "{'Positive': 2091, 'Neutral': 2129, 'Negative': 194}\n",
      "{'Positive': 881, 'Neutral': 911, 'Negative': 54}\n",
      "{'Positive': 521, 'Neutral': 533, 'Negative': 44}\n",
      "{'Positive': 2425, 'Neutral': 2476, 'Negative': 57}\n",
      "{'Positive': 359, 'Neutral': 421, 'Negative': 116}\n",
      "{'Positive': 2873, 'Neutral': 2963, 'Negative': 77}\n",
      "{'Positive': 901, 'Neutral': 935, 'Negative': 6}\n",
      "{'Negative': 131, 'Neutral': 481, 'Positive': 413}\n",
      "{'Positive': 847, 'Neutral': 880, 'Negative': 19}\n",
      "{'Positive': 751, 'Neutral': 788, 'Negative': 91}\n",
      "{'Positive': 1244, 'Neutral': 1303, 'Negative': 89}\n",
      "{'Positive': 1105, 'Neutral': 1145, 'Negative': 27}\n",
      "{'Positive': 1555, 'Neutral': 1575, 'Negative': 7}\n",
      "{'Positive': 1701, 'Neutral': 1754, 'Negative': 65}\n",
      "{'Positive': 4107, 'Neutral': 4151, 'Negative': 54}\n",
      "{'Positive': 3286, 'Neutral': 3359, 'Negative': 74}\n",
      "{'Positive': 2769, 'Neutral': 2825, 'Negative': 59}\n",
      "{'Positive': 266, 'Neutral': 338, 'Negative': 239}\n",
      "{'Positive': 1325, 'Neutral': 1343, 'Negative': 31}\n",
      "{'Positive': 3116, 'Neutral': 3168, 'Negative': 49}\n",
      "{'Positive': 9713, 'Neutral': 9832, 'Negative': 372}\n",
      "{'Positive': 1094, 'Neutral': 1133, 'Negative': 46}\n",
      "{'Positive': 457, 'Neutral': 501, 'Negative': 55}\n",
      "{'Negative': 659, 'Neutral': 1756, 'Positive': 1670}\n",
      "{'Negative': 64, 'Positive': 359, 'Neutral': 400}\n",
      "{'Positive': 864, 'Neutral': 905, 'Negative': 22}\n",
      "{'Negative': 46, 'Positive': 472, 'Neutral': 518}\n",
      "{'Positive': 1811, 'Neutral': 1837, 'Negative': 50}\n",
      "{'Positive': 316, 'Neutral': 342, 'Negative': 71}\n",
      "{'Positive': 361, 'Neutral': 408, 'Negative': 79}\n",
      "{'Positive': 897, 'Neutral': 948, 'Negative': 49}\n",
      "{'Neutral': 4316, 'Positive': 4213, 'Negative': 76}\n",
      "{'Positive': 704, 'Neutral': 751, 'Negative': 34}\n",
      "{'Positive': 599, 'Neutral': 606, 'Negative': 15}\n",
      "{'Negative': 153, 'Positive': 606, 'Neutral': 646}\n",
      "{'Positive': 1739, 'Neutral': 1812, 'Negative': 104}\n",
      "{'Positive': 770, 'Neutral': 887, 'Negative': 101}\n",
      "{'Positive': 3780, 'Neutral': 3801, 'Negative': 40}\n",
      "{'Positive': 796, 'Neutral': 834, 'Negative': 81}\n",
      "{'Positive': 724, 'Neutral': 759, 'Negative': 55}\n",
      "{'Positive': 1048, 'Neutral': 1056, 'Negative': 6}\n",
      "{'Positive': 1532, 'Neutral': 1590, 'Negative': 92}\n",
      "{'Positive': 1980, 'Neutral': 1988, 'Negative': 16}\n",
      "{'Positive': 4433, 'Neutral': 4498, 'Negative': 65}\n",
      "{'Positive': 789, 'Neutral': 805, 'Negative': 12}\n",
      "{'Negative': 218, 'Positive': 576, 'Neutral': 617}\n",
      "{'Positive': 807, 'Neutral': 905, 'Negative': 159}\n",
      "{'Negative': 184, 'Positive': 1356, 'Neutral': 1405}\n",
      "{'Positive': 6257, 'Neutral': 6463, 'Negative': 126}\n",
      "{'Positive': 826, 'Neutral': 854, 'Negative': 14}\n",
      "{'Positive': 2729, 'Neutral': 2752, 'Negative': 32}\n",
      "{'Positive': 1592, 'Neutral': 1656, 'Negative': 56}\n",
      "{'Positive': 4236, 'Neutral': 4268, 'Negative': 101}\n",
      "{'Positive': 458, 'Neutral': 507, 'Negative': 35}\n",
      "{'Negative': 64, 'Positive': 886, 'Neutral': 920}\n",
      "{'Positive': 591, 'Neutral': 638, 'Negative': 31}\n",
      "{'Positive': 4197, 'Neutral': 4348, 'Negative': 329}\n",
      "{'Positive': 1073, 'Neutral': 1091, 'Negative': 6}\n",
      "{'Positive': 1685, 'Neutral': 1742, 'Negative': 43}\n",
      "{'Positive': 639, 'Neutral': 671, 'Negative': 56}\n",
      "{'Negative': 79, 'Neutral': 684, 'Positive': 628}\n",
      "{'Positive': 208, 'Neutral': 237, 'Negative': 83}\n",
      "{'Positive': 847, 'Neutral': 867, 'Negative': 53}\n",
      "{'Positive': 2643, 'Neutral': 2688, 'Negative': 52}\n",
      "{'Positive': 1064, 'Neutral': 1097, 'Negative': 114}\n",
      "{'Positive': 649, 'Neutral': 667, 'Negative': 18}\n",
      "{'Negative': 183, 'Positive': 1305, 'Neutral': 1349}\n",
      "{'Positive': 629, 'Neutral': 660, 'Negative': 59}\n",
      "{'Positive': 545, 'Neutral': 575, 'Negative': 123}\n",
      "{'Positive': 491, 'Neutral': 513, 'Negative': 56}\n",
      "{'Positive': 1849, 'Neutral': 1881, 'Negative': 31}\n",
      "{'Positive': 2058, 'Neutral': 2176, 'Negative': 128}\n",
      "{'Positive': 1180, 'Neutral': 1215, 'Negative': 14}\n",
      "{'Neutral': 1074, 'Positive': 960, 'Negative': 93}\n",
      "{'Positive': 588, 'Neutral': 603, 'Negative': 50}\n",
      "{'Positive': 1320, 'Neutral': 1348, 'Negative': 20}\n",
      "{'Positive': 1612, 'Neutral': 1669, 'Negative': 80}\n",
      "{'Positive': 1017, 'Neutral': 1059, 'Negative': 104}\n",
      "{'Negative': 213, 'Positive': 359, 'Neutral': 412}\n",
      "{'Positive': 1631, 'Neutral': 1652, 'Negative': 33}\n",
      "{'Positive': 2127, 'Neutral': 2196, 'Negative': 66}\n",
      "{'Positive': 3276, 'Neutral': 3322, 'Negative': 42}\n",
      "{'Positive': 911, 'Neutral': 928, 'Negative': 17}\n",
      "{'Positive': 438, 'Neutral': 493, 'Negative': 64}\n",
      "{'Positive': 684, 'Neutral': 737, 'Negative': 108}\n",
      "{'Positive': 63814, 'Neutral': 64943, 'Negative': 1025}\n",
      "{'Positive': 907, 'Neutral': 934, 'Negative': 37}\n",
      "{'Positive': 488, 'Neutral': 526, 'Negative': 229}\n",
      "{'Positive': 1175, 'Neutral': 1206, 'Negative': 31}\n",
      "{'Negative': 69, 'Positive': 373, 'Neutral': 396}\n",
      "{'Negative': 95, 'Neutral': 780, 'Positive': 700}\n",
      "{'Positive': 672, 'Neutral': 733, 'Negative': 75}\n",
      "{'Positive': 2914, 'Neutral': 2999, 'Negative': 181}\n",
      "{'Positive': 2143, 'Neutral': 2370, 'Negative': 190}\n",
      "{'Positive': 425, 'Neutral': 452, 'Negative': 41}\n",
      "{'Positive': 1355, 'Neutral': 1427, 'Negative': 113}\n",
      "{'Positive': 603, 'Neutral': 617, 'Negative': 18}\n",
      "{'Positive': 1304, 'Neutral': 1342, 'Negative': 64}\n",
      "{'Positive': 1146, 'Neutral': 1182, 'Negative': 62}\n",
      "{'Positive': 588, 'Neutral': 648, 'Negative': 46}\n",
      "{'Negative': 182, 'Neutral': 579, 'Positive': 516}\n",
      "{'Positive': 838, 'Neutral': 865, 'Negative': 40}\n",
      "{'Positive': 1001, 'Neutral': 1015, 'Negative': 37}\n",
      "{'Positive': 1030, 'Neutral': 1065, 'Negative': 90}\n",
      "{'Positive': 1720, 'Neutral': 1808, 'Negative': 111}\n",
      "{'Positive': 589, 'Neutral': 652, 'Negative': 160}\n",
      "{'Positive': 336, 'Neutral': 356, 'Negative': 19}\n",
      "{'Positive': 509, 'Neutral': 552, 'Negative': 110}\n",
      "{'Positive': 853, 'Neutral': 863, 'Negative': 11}\n",
      "{'Positive': 1717, 'Neutral': 1792, 'Negative': 59}\n",
      "{'Positive': 1441, 'Neutral': 1615, 'Negative': 202}\n",
      "{'Positive': 411, 'Neutral': 420, 'Negative': 12}\n",
      "{'Positive': 992, 'Neutral': 1029, 'Negative': 19}\n",
      "{'Positive': 535, 'Neutral': 550, 'Negative': 18}\n",
      "{'Positive': 880, 'Neutral': 978, 'Negative': 85}\n",
      "{'Positive': 941, 'Neutral': 1080, 'Negative': 204}\n",
      "{'Positive': 2049, 'Neutral': 2066, 'Negative': 17}\n",
      "{'Negative': 88, 'Positive': 2207, 'Neutral': 2284}\n",
      "{'Positive': 632, 'Neutral': 669, 'Negative': 68}\n",
      "{'Positive': 273, 'Neutral': 301, 'Negative': 20}\n",
      "{'Positive': 1752, 'Neutral': 1825, 'Negative': 144}\n",
      "{'Positive': 996, 'Neutral': 1026, 'Negative': 22}\n",
      "{'Positive': 1037, 'Neutral': 1059, 'Negative': 17}\n",
      "{'Positive': 10602, 'Neutral': 10700, 'Negative': 114}\n",
      "{'Negative': 151, 'Positive': 5648, 'Neutral': 5851}\n",
      "{'Positive': 6163, 'Neutral': 6217, 'Negative': 41}\n",
      "{'Positive': 960, 'Neutral': 1034, 'Negative': 163}\n",
      "{'Positive': 3387, 'Neutral': 3410, 'Negative': 30}\n",
      "{'Positive': 731, 'Neutral': 771, 'Negative': 17}\n",
      "{'Neutral': 1652, 'Negative': 529, 'Positive': 1324}\n",
      "{'Negative': 126, 'Positive': 729, 'Neutral': 753}\n",
      "{'Positive': 1549, 'Neutral': 1596, 'Negative': 36}\n",
      "{'Positive': 581, 'Neutral': 658, 'Negative': 48}\n",
      "{'Positive': 494, 'Neutral': 534, 'Negative': 60}\n",
      "{'Positive': 835, 'Neutral': 885, 'Negative': 84}\n",
      "{'Positive': 177, 'Neutral': 193, 'Negative': 54}\n",
      "{'Positive': 1122, 'Neutral': 1182, 'Negative': 49}\n",
      "{'Positive': 3464, 'Neutral': 3599, 'Negative': 82}\n",
      "{'Positive': 704, 'Neutral': 724, 'Negative': 8}\n",
      "{'Positive': 1469, 'Neutral': 1524, 'Negative': 72}\n",
      "{'Positive': 396, 'Neutral': 440, 'Negative': 66}\n",
      "{'Positive': 1281, 'Neutral': 1368, 'Negative': 62}\n",
      "{'Positive': 872, 'Neutral': 937, 'Negative': 41}\n",
      "{'Positive': 582, 'Neutral': 609, 'Negative': 94}\n",
      "{'Positive': 2959, 'Neutral': 2985, 'Negative': 63}\n",
      "{'Positive': 1695, 'Neutral': 1903, 'Negative': 257}\n",
      "{'Positive': 858, 'Neutral': 888, 'Negative': 25}\n",
      "{'Positive': 292, 'Neutral': 431, 'Negative': 148}\n",
      "{'Positive': 636, 'Neutral': 662, 'Negative': 108}\n",
      "{'Positive': 1770, 'Neutral': 1822, 'Negative': 41}\n",
      "{'Positive': 1517, 'Neutral': 1541, 'Negative': 11}\n",
      "{'Positive': 322, 'Neutral': 338, 'Negative': 41}\n",
      "{'Positive': 8246, 'Neutral': 8630, 'Negative': 252}\n",
      "{'Positive': 1108, 'Neutral': 1122, 'Negative': 20}\n",
      "{'Positive': 842, 'Neutral': 885, 'Negative': 58}\n",
      "{'Negative': 524, 'Neutral': 8096, 'Positive': 7484}\n",
      "{'Positive': 634, 'Neutral': 658, 'Negative': 15}\n",
      "{'Positive': 4371, 'Neutral': 4578, 'Negative': 520}\n",
      "{'Neutral': 1398, 'Positive': 1302, 'Negative': 59}\n",
      "{'Positive': 1372, 'Neutral': 1440, 'Negative': 486}\n",
      "{'Positive': 214, 'Neutral': 241, 'Negative': 82}\n",
      "{'Positive': 4412, 'Neutral': 4469, 'Negative': 80}\n",
      "{'Positive': 578, 'Neutral': 612, 'Negative': 108}\n",
      "{'Positive': 1350, 'Neutral': 1417, 'Negative': 73}\n",
      "{'Positive': 3844, 'Neutral': 3881, 'Negative': 103}\n",
      "{'Positive': 633, 'Neutral': 711, 'Negative': 109}\n",
      "{'Positive': 1932, 'Neutral': 1981, 'Negative': 73}\n",
      "{'Neutral': 333, 'Positive': 316, 'Negative': 87}\n",
      "{'Positive': 1970, 'Neutral': 2045, 'Negative': 132}\n",
      "{'Positive': 1555, 'Neutral': 1633, 'Negative': 134}\n",
      "{'Positive': 490, 'Neutral': 528, 'Negative': 126}\n",
      "{'Positive': 857, 'Neutral': 870, 'Negative': 54}\n",
      "{'Positive': 1699, 'Neutral': 1706, 'Negative': 39}\n",
      "{'Positive': 637, 'Neutral': 679, 'Negative': 21}\n",
      "{'Positive': 1594, 'Neutral': 1716, 'Negative': 248}\n",
      "{'Positive': 10365, 'Neutral': 10539, 'Negative': 246}\n",
      "{'Positive': 1903, 'Neutral': 1943, 'Negative': 27}\n",
      "{'Positive': 1473, 'Neutral': 1514, 'Negative': 54}\n",
      "{'Positive': 2094, 'Neutral': 2232, 'Negative': 232}\n",
      "{'Positive': 611, 'Neutral': 646, 'Negative': 66}\n",
      "{'Positive': 725, 'Neutral': 755, 'Negative': 48}\n",
      "{'Positive': 1280, 'Neutral': 1317, 'Negative': 40}\n",
      "{'Positive': 1611, 'Neutral': 1652, 'Negative': 81}\n",
      "{'Neutral': 896, 'Positive': 780, 'Negative': 54}\n",
      "{'Positive': 5298, 'Neutral': 5374, 'Negative': 81}\n",
      "{'Positive': 492, 'Neutral': 533, 'Negative': 138}\n",
      "{'Positive': 8863, 'Neutral': 8979, 'Negative': 214}\n",
      "{'Positive': 7184, 'Neutral': 7211, 'Negative': 182}\n",
      "{'Positive': 2708, 'Neutral': 2787, 'Negative': 65}\n",
      "{'Positive': 6300, 'Neutral': 6329, 'Negative': 26}\n",
      "{'Positive': 2329, 'Neutral': 2338, 'Negative': 9}\n",
      "{'Positive': 8759, 'Neutral': 8801, 'Negative': 64}\n",
      "{'Positive': 7350, 'Neutral': 7418, 'Negative': 279}\n",
      "{'Neutral': 1486, 'Positive': 1444, 'Negative': 37}\n",
      "{'Positive': 1222, 'Neutral': 1242, 'Negative': 42}\n",
      "{'Positive': 1186, 'Neutral': 1220, 'Negative': 127}\n",
      "{'Positive': 853, 'Neutral': 917, 'Negative': 86}\n",
      "{'Positive': 1162, 'Neutral': 1258, 'Negative': 117}\n",
      "{'Positive': 4476, 'Neutral': 4585, 'Negative': 52}\n",
      "{'Positive': 4951, 'Neutral': 5084, 'Negative': 129}\n",
      "{'Positive': 488, 'Neutral': 506, 'Negative': 36}\n",
      "{'Positive': 799, 'Neutral': 843, 'Negative': 48}\n",
      "{'Positive': 719, 'Neutral': 776, 'Negative': 73}\n",
      "{'Positive': 1238, 'Neutral': 1285, 'Negative': 32}\n",
      "{'Positive': 3353, 'Neutral': 3396, 'Negative': 55}\n",
      "{'Negative': 101, 'Positive': 565, 'Neutral': 614}\n",
      "{'Positive': 656, 'Neutral': 694, 'Negative': 27}\n",
      "{'Positive': 1303, 'Neutral': 1378, 'Negative': 155}\n",
      "{'Positive': 1008, 'Neutral': 1061, 'Negative': 73}\n",
      "{'Positive': 3609, 'Neutral': 3637, 'Negative': 69}\n",
      "{'Positive': 1302, 'Neutral': 1374, 'Negative': 136}\n",
      "{'Positive': 1427, 'Neutral': 1502, 'Negative': 106}\n",
      "{'Positive': 926, 'Neutral': 965, 'Negative': 65}\n",
      "{'Neutral': 779, 'Positive': 659, 'Negative': 150}\n",
      "{'Positive': 5221, 'Neutral': 5393, 'Negative': 65}\n",
      "{'Negative': 29, 'Positive': 740, 'Neutral': 774}\n",
      "{'Positive': 843, 'Neutral': 930, 'Negative': 99}\n",
      "{'Positive': 1603, 'Neutral': 1635, 'Negative': 40}\n",
      "{'Positive': 1104, 'Neutral': 1158, 'Negative': 81}\n",
      "{'Positive': 1933, 'Neutral': 1970, 'Negative': 90}\n",
      "{'Neutral': 2430, 'Positive': 2370, 'Negative': 18}\n",
      "{'Positive': 2343, 'Neutral': 2465, 'Negative': 110}\n",
      "{'Positive': 2340, 'Neutral': 2392, 'Negative': 100}\n",
      "{'Positive': 400, 'Neutral': 439, 'Negative': 262}\n",
      "{'Positive': 787, 'Neutral': 849, 'Negative': 69}\n",
      "{'Positive': 738, 'Neutral': 820, 'Negative': 87}\n",
      "{'Positive': 396, 'Neutral': 461, 'Negative': 138}\n",
      "{'Positive': 2819, 'Neutral': 3119, 'Negative': 252}\n",
      "{'Positive': 1496, 'Neutral': 1706, 'Negative': 82}\n",
      "{'Negative': 197, 'Positive': 1815, 'Neutral': 1857}\n",
      "{'Positive': 2044, 'Neutral': 2070, 'Negative': 34}\n",
      "{'Positive': 1221, 'Neutral': 1356, 'Negative': 137}\n",
      "{'Positive': 12513, 'Neutral': 12627, 'Negative': 76}\n",
      "{'Negative': 85, 'Positive': 166, 'Neutral': 196}\n",
      "{'Positive': 3522, 'Neutral': 3613, 'Negative': 83}\n",
      "{'Positive': 1094, 'Neutral': 1198, 'Negative': 126}\n",
      "{'Positive': 2080, 'Neutral': 2286, 'Negative': 66}\n",
      "{'Positive': 698, 'Neutral': 737, 'Negative': 48}\n",
      "{'Positive': 1150, 'Neutral': 1191, 'Negative': 43}\n",
      "{'Positive': 1744, 'Neutral': 1798, 'Negative': 34}\n",
      "{'Positive': 11092, 'Neutral': 11689, 'Negative': 380}\n",
      "{'Negative': 62, 'Positive': 9752, 'Neutral': 9824}\n",
      "{'Negative': 416, 'Positive': 7546, 'Neutral': 7754}\n",
      "{'Positive': 385, 'Neutral': 509, 'Negative': 321}\n",
      "{'Positive': 568, 'Neutral': 601, 'Negative': 26}\n",
      "{'Positive': 2102, 'Neutral': 2126, 'Negative': 40}\n",
      "{'Negative': 577, 'Positive': 721, 'Neutral': 960}\n",
      "{'Positive': 1298, 'Neutral': 1355, 'Negative': 199}\n",
      "{'Positive': 2891, 'Neutral': 2924, 'Negative': 8}\n",
      "{'Positive': 1402, 'Neutral': 1457, 'Negative': 53}\n",
      "{'Positive': 1679, 'Neutral': 1710, 'Negative': 30}\n",
      "{'Positive': 1867, 'Neutral': 1918, 'Negative': 33}\n",
      "{'Neutral': 554, 'Positive': 526, 'Negative': 54}\n",
      "{'Positive': 4262, 'Neutral': 4313, 'Negative': 219}\n",
      "{'Negative': 33, 'Positive': 503, 'Neutral': 532}\n",
      "{'Positive': 3477, 'Neutral': 3714, 'Negative': 109}\n",
      "{'Positive': 7039, 'Neutral': 7123, 'Negative': 201}\n",
      "{'Positive': 1243, 'Neutral': 1276, 'Negative': 23}\n",
      "{'Positive': 1232, 'Neutral': 1249, 'Negative': 25}\n",
      "{'Positive': 771, 'Neutral': 811, 'Negative': 29}\n",
      "{'Positive': 682, 'Neutral': 720, 'Negative': 48}\n",
      "{'Positive': 1333, 'Neutral': 1445, 'Negative': 136}\n",
      "{'Positive': 4651, 'Neutral': 4726, 'Negative': 51}\n",
      "{'Negative': 207, 'Positive': 662, 'Neutral': 689}\n",
      "{'Positive': 622, 'Neutral': 631, 'Negative': 47}\n",
      "{'Positive': 2015, 'Neutral': 2044, 'Negative': 62}\n",
      "{'Positive': 682, 'Neutral': 720, 'Negative': 142}\n",
      "{'Positive': 391, 'Neutral': 413, 'Negative': 22}\n",
      "{'Positive': 2037, 'Neutral': 2064, 'Negative': 4}\n",
      "{'Positive': 929, 'Neutral': 940, 'Negative': 10}\n",
      "{'Neutral': 1017, 'Positive': 896, 'Negative': 27}\n",
      "{'Positive': 2596, 'Neutral': 2650, 'Negative': 260}\n",
      "{'Positive': 4677, 'Neutral': 4729, 'Negative': 149}\n",
      "{'Positive': 1113, 'Neutral': 1156, 'Negative': 48}\n",
      "{'Positive': 347, 'Neutral': 360, 'Negative': 3}\n",
      "{'Positive': 474, 'Neutral': 527, 'Negative': 55}\n",
      "{'Positive': 3639, 'Neutral': 3700, 'Negative': 405}\n",
      "{'Positive': 389, 'Neutral': 448, 'Negative': 75}\n",
      "{'Positive': 1831, 'Neutral': 1922, 'Negative': 65}\n",
      "{'Positive': 1674, 'Neutral': 1722, 'Negative': 13}\n",
      "{'Positive': 1969, 'Neutral': 2040, 'Negative': 69}\n",
      "{'Positive': 1240, 'Neutral': 1271, 'Negative': 97}\n",
      "{'Positive': 473, 'Neutral': 498, 'Negative': 79}\n",
      "{'Positive': 2650, 'Neutral': 2674, 'Negative': 63}\n",
      "{'Positive': 2105, 'Neutral': 2198, 'Negative': 243}\n",
      "{'Positive': 1297, 'Neutral': 1317, 'Negative': 17}\n",
      "{'Positive': 1275, 'Neutral': 1295, 'Negative': 17}\n",
      "{'Positive': 3073, 'Neutral': 3176, 'Negative': 86}\n",
      "{'Positive': 899, 'Neutral': 962, 'Negative': 72}\n",
      "{'Positive': 3230, 'Neutral': 3300, 'Negative': 64}\n",
      "{'Neutral': 1219, 'Positive': 1116, 'Negative': 197}\n",
      "{'Positive': 600, 'Neutral': 624, 'Negative': 30}\n",
      "{'Positive': 1150, 'Neutral': 1166, 'Negative': 14}\n",
      "{'Negative': 107, 'Positive': 688, 'Neutral': 753}\n",
      "{'Negative': 59, 'Positive': 1527, 'Neutral': 1591}\n",
      "{'Negative': 142, 'Positive': 478, 'Neutral': 547}\n",
      "{'Positive': 1009, 'Neutral': 1018, 'Negative': 6}\n",
      "{'Negative': 128, 'Positive': 327, 'Neutral': 372}\n",
      "{'Positive': 590, 'Neutral': 639, 'Negative': 25}\n",
      "{'Positive': 1084, 'Neutral': 1140, 'Negative': 81}\n",
      "{'Positive': 803, 'Neutral': 965, 'Negative': 142}\n",
      "{'Negative': 186, 'Positive': 1107, 'Neutral': 1222}\n",
      "{'Positive': 698, 'Neutral': 744, 'Negative': 25}\n",
      "{'Positive': 5110, 'Neutral': 5165, 'Negative': 79}\n",
      "{'Positive': 1323, 'Neutral': 1334, 'Negative': 17}\n",
      "{'Positive': 2151, 'Neutral': 2183, 'Negative': 43}\n",
      "{'Positive': 1273, 'Neutral': 1290, 'Negative': 13}\n",
      "{'Positive': 5484, 'Neutral': 5691, 'Negative': 140}\n",
      "{'Positive': 980, 'Neutral': 999, 'Negative': 48}\n",
      "{'Positive': 839, 'Neutral': 861, 'Negative': 23}\n",
      "{'Positive': 2056, 'Neutral': 2106, 'Negative': 42}\n",
      "{'Positive': 19002, 'Neutral': 19349, 'Negative': 425}\n",
      "{'Negative': 441, 'Positive': 1667, 'Neutral': 1854}\n",
      "{'Positive': 2049, 'Neutral': 2115, 'Negative': 63}\n",
      "{'Positive': 1411, 'Neutral': 1423, 'Negative': 53}\n",
      "{'Positive': 488, 'Neutral': 506, 'Negative': 19}\n",
      "{'Positive': 739, 'Neutral': 758, 'Negative': 7}\n",
      "{'Positive': 534, 'Neutral': 564, 'Negative': 34}\n",
      "{'Positive': 7391, 'Neutral': 7534, 'Negative': 154}\n",
      "{'Positive': 1818, 'Neutral': 1883, 'Negative': 59}\n",
      "{'Positive': 3497, 'Neutral': 3551, 'Negative': 63}\n",
      "{'Positive': 694, 'Neutral': 728, 'Negative': 30}\n",
      "{'Positive': 2329, 'Neutral': 2370, 'Negative': 70}\n",
      "{'Positive': 579, 'Neutral': 614, 'Negative': 171}\n",
      "{'Positive': 4229, 'Neutral': 4374, 'Negative': 174}\n",
      "{'Positive': 1902, 'Neutral': 1948, 'Negative': 53}\n",
      "{'Positive': 891, 'Neutral': 1062, 'Negative': 119}\n",
      "{'Positive': 1925, 'Neutral': 1989, 'Negative': 118}\n",
      "{'Positive': 5686, 'Neutral': 5796, 'Negative': 155}\n",
      "{'Positive': 2029, 'Neutral': 2129, 'Negative': 301}\n",
      "{'Positive': 742, 'Neutral': 833, 'Negative': 206}\n",
      "{'Positive': 5118, 'Neutral': 5222, 'Negative': 233}\n",
      "{'Positive': 1127, 'Neutral': 1250, 'Negative': 90}\n",
      "{'Positive': 632, 'Neutral': 738, 'Negative': 146}\n",
      "{'Positive': 1165, 'Neutral': 1254, 'Negative': 374}\n",
      "{'Positive': 1690, 'Neutral': 1723, 'Negative': 95}\n",
      "{'Positive': 1154, 'Neutral': 1171, 'Negative': 17}\n",
      "{'Positive': 520, 'Neutral': 557, 'Negative': 56}\n",
      "{'Positive': 1249, 'Neutral': 1265, 'Negative': 21}\n",
      "{'Positive': 336, 'Neutral': 388, 'Negative': 74}\n",
      "{'Negative': 50, 'Neutral': 1101, 'Positive': 1060}\n",
      "{'Positive': 642, 'Neutral': 687, 'Negative': 66}\n",
      "{'Positive': 1762, 'Neutral': 1798, 'Negative': 35}\n",
      "{'Positive': 1513, 'Neutral': 1555, 'Negative': 68}\n",
      "{'Positive': 1798, 'Neutral': 1885, 'Negative': 126}\n",
      "{'Positive': 831, 'Neutral': 863, 'Negative': 38}\n",
      "{'Positive': 491, 'Neutral': 549, 'Negative': 84}\n",
      "{'Positive': 1569, 'Neutral': 1678, 'Negative': 169}\n",
      "{'Positive': 1139, 'Neutral': 1197, 'Negative': 63}\n",
      "{'Positive': 548, 'Neutral': 600, 'Negative': 26}\n",
      "{'Negative': 250, 'Positive': 929, 'Neutral': 982}\n",
      "{'Positive': 453, 'Neutral': 477, 'Negative': 24}\n",
      "{'Positive': 890, 'Neutral': 980, 'Negative': 215}\n",
      "{'Positive': 661, 'Neutral': 700, 'Negative': 62}\n",
      "{'Positive': 1010, 'Neutral': 1169, 'Negative': 120}\n",
      "{'Positive': 1997, 'Neutral': 2037, 'Negative': 45}\n",
      "{'Positive': 1041, 'Neutral': 1161, 'Negative': 80}\n",
      "{'Positive': 1200, 'Neutral': 1218, 'Negative': 35}\n",
      "{'Positive': 2185, 'Neutral': 2237, 'Negative': 130}\n",
      "{'Positive': 3946, 'Neutral': 4140, 'Negative': 108}\n",
      "{'Negative': 182, 'Positive': 1590, 'Neutral': 1649}\n",
      "{'Positive': 836, 'Neutral': 858, 'Negative': 20}\n",
      "{'Neutral': 946, 'Negative': 24, 'Positive': 874}\n",
      "{'Positive': 540, 'Neutral': 564, 'Negative': 16}\n",
      "{'Positive': 760, 'Neutral': 826, 'Negative': 55}\n",
      "{'Positive': 536, 'Neutral': 541, 'Negative': 2}\n",
      "{'Positive': 718, 'Neutral': 736, 'Negative': 19}\n",
      "{'Positive': 968, 'Neutral': 981, 'Negative': 17}\n",
      "{'Positive': 874, 'Neutral': 896, 'Negative': 25}\n",
      "{'Positive': 1495, 'Neutral': 1622, 'Negative': 78}\n",
      "{'Positive': 560, 'Neutral': 612, 'Negative': 120}\n",
      "{'Positive': 4407, 'Neutral': 4492, 'Negative': 225}\n",
      "{'Positive': 6497, 'Neutral': 6665, 'Negative': 221}\n",
      "{'Positive': 460, 'Neutral': 481, 'Negative': 18}\n",
      "{'Positive': 1515, 'Neutral': 1546, 'Negative': 30}\n",
      "{'Positive': 2275, 'Neutral': 2391, 'Negative': 122}\n",
      "{'Positive': 521, 'Neutral': 579, 'Negative': 18}\n",
      "{'Positive': 1355, 'Neutral': 1386, 'Negative': 88}\n",
      "{'Neutral': 1963, 'Negative': 26, 'Positive': 1882}\n",
      "{'Positive': 1293, 'Neutral': 1323, 'Negative': 14}\n",
      "{'Positive': 443, 'Neutral': 471, 'Negative': 18}\n",
      "{'Negative': 298, 'Neutral': 2368, 'Positive': 2214}\n",
      "{'Positive': 952, 'Neutral': 1066, 'Negative': 92}\n",
      "{'Neutral': 258, 'Negative': 86, 'Positive': 212}\n",
      "{'Positive': 701, 'Neutral': 761, 'Negative': 113}\n",
      "{'Positive': 13436, 'Neutral': 13581, 'Negative': 206}\n",
      "{'Positive': 509, 'Neutral': 537, 'Negative': 15}\n",
      "{'Positive': 3818, 'Neutral': 3956, 'Negative': 229}\n",
      "{'Positive': 4354, 'Neutral': 4424, 'Negative': 101}\n",
      "{'Positive': 891, 'Neutral': 918, 'Negative': 37}\n",
      "{'Positive': 10718, 'Neutral': 10768, 'Negative': 50}\n",
      "{'Positive': 1286, 'Neutral': 1368, 'Negative': 195}\n",
      "{'Positive': 1706, 'Neutral': 1726, 'Negative': 18}\n",
      "{'Positive': 4530, 'Neutral': 4745, 'Negative': 331}\n",
      "{'Positive': 431, 'Neutral': 481, 'Negative': 63}\n",
      "{'Positive': 957, 'Neutral': 1015, 'Negative': 59}\n",
      "{'Neutral': 795, 'Positive': 662, 'Negative': 152}\n",
      "{'Positive': 1583, 'Neutral': 1606, 'Negative': 17}\n",
      "{'Positive': 956, 'Neutral': 986, 'Negative': 87}\n",
      "{'Neutral': 571, 'Positive': 503, 'Negative': 82}\n",
      "{'Positive': 2059, 'Neutral': 2103, 'Negative': 36}\n",
      "{'Positive': 1516, 'Neutral': 1630, 'Negative': 241}\n",
      "{'Positive': 525, 'Neutral': 545, 'Negative': 60}\n",
      "{'Negative': 211, 'Positive': 4941, 'Neutral': 5103}\n",
      "{'Positive': 1645, 'Neutral': 1744, 'Negative': 72}\n",
      "{'Positive': 1651, 'Neutral': 1696, 'Negative': 41}\n",
      "{'Positive': 1063, 'Neutral': 1106, 'Negative': 51}\n",
      "{'Positive': 710, 'Neutral': 789, 'Negative': 113}\n",
      "{'Positive': 795, 'Neutral': 866, 'Negative': 65}\n",
      "{'Positive': 1217, 'Neutral': 1259, 'Negative': 74}\n",
      "{'Positive': 777, 'Neutral': 807, 'Negative': 25}\n",
      "{'Positive': 423, 'Neutral': 452, 'Negative': 24}\n",
      "{'Positive': 346, 'Neutral': 406, 'Negative': 109}\n",
      "{'Negative': 747, 'Positive': 1667, 'Neutral': 1831}\n",
      "{'Positive': 1424, 'Neutral': 1470, 'Negative': 49}\n",
      "{'Positive': 935, 'Neutral': 966, 'Negative': 84}\n",
      "{'Positive': 1725, 'Neutral': 1763, 'Negative': 87}\n",
      "{'Positive': 665, 'Neutral': 716, 'Negative': 51}\n",
      "{'Positive': 913, 'Neutral': 950, 'Negative': 12}\n",
      "{'Negative': 338, 'Neutral': 3033, 'Positive': 2744}\n",
      "{'Positive': 584, 'Neutral': 628, 'Negative': 38}\n",
      "{'Neutral': 3646, 'Positive': 2988, 'Negative': 403}\n",
      "{'Positive': 2802, 'Neutral': 2889, 'Negative': 174}\n",
      "{'Positive': 3629, 'Neutral': 3715, 'Negative': 142}\n",
      "{'Positive': 1567, 'Neutral': 1589, 'Negative': 22}\n",
      "{'Positive': 703, 'Neutral': 767, 'Negative': 95}\n",
      "{'Negative': 220, 'Positive': 580, 'Neutral': 626}\n",
      "{'Neutral': 1771, 'Positive': 1585, 'Negative': 71}\n",
      "{'Positive': 1156, 'Neutral': 1242, 'Negative': 150}\n",
      "{'Positive': 819, 'Neutral': 852, 'Negative': 41}\n",
      "{'Positive': 1190, 'Neutral': 1238, 'Negative': 175}\n",
      "{'Positive': 1087, 'Neutral': 1141, 'Negative': 30}\n",
      "{'Neutral': 356, 'Positive': 208, 'Negative': 198}\n",
      "{'Positive': 4834, 'Neutral': 4884, 'Negative': 47}\n",
      "{'Positive': 2109, 'Neutral': 2158, 'Negative': 83}\n",
      "{'Positive': 1833, 'Neutral': 1960, 'Negative': 182}\n",
      "{'Negative': 145, 'Positive': 1721, 'Neutral': 1887}\n",
      "{'Positive': 1792, 'Neutral': 1934, 'Negative': 95}\n",
      "{'Neutral': 1281, 'Positive': 1191, 'Negative': 164}\n",
      "{'Neutral': 1173, 'Positive': 1098, 'Negative': 49}\n",
      "{'Positive': 5531, 'Neutral': 5596, 'Negative': 141}\n",
      "{'Positive': 6664, 'Neutral': 6801, 'Negative': 75}\n",
      "{'Positive': 1027, 'Neutral': 1097, 'Negative': 68}\n",
      "{'Negative': 1004, 'Positive': 542, 'Neutral': 622}\n",
      "{'Positive': 2125, 'Neutral': 2312, 'Negative': 127}\n",
      "{'Positive': 4042, 'Neutral': 4117, 'Negative': 89}\n",
      "{'Positive': 1334, 'Neutral': 1409, 'Negative': 124}\n",
      "{'Neutral': 5046, 'Positive': 4914, 'Negative': 29}\n",
      "{'Positive': 944, 'Neutral': 1103, 'Negative': 190}\n",
      "{'Positive': 9880, 'Neutral': 10001, 'Negative': 47}\n",
      "{'Positive': 2876, 'Neutral': 2983, 'Negative': 116}\n",
      "{'Negative': 140, 'Positive': 309, 'Neutral': 362}\n",
      "{'Positive': 2141, 'Neutral': 2329, 'Negative': 262}\n",
      "{'Negative': 79, 'Positive': 2413, 'Neutral': 2477}\n",
      "{'Positive': 2187, 'Neutral': 2381, 'Negative': 132}\n",
      "{'Positive': 1257, 'Neutral': 1323, 'Negative': 79}\n",
      "{'Neutral': 2115, 'Positive': 1985, 'Negative': 64}\n",
      "{'Positive': 2699, 'Neutral': 2903, 'Negative': 218}\n",
      "{'Positive': 8056, 'Neutral': 8153, 'Negative': 89}\n",
      "{'Positive': 642, 'Neutral': 675, 'Negative': 7}\n",
      "{'Positive': 973, 'Neutral': 997, 'Negative': 48}\n",
      "{'Positive': 2137, 'Neutral': 2448, 'Negative': 327}\n",
      "{'Negative': 311, 'Positive': 1949, 'Neutral': 2194}\n",
      "{'Positive': 1069, 'Neutral': 1094, 'Negative': 56}\n",
      "{'Positive': 1377, 'Neutral': 1438, 'Negative': 30}\n",
      "{'Positive': 760, 'Neutral': 883, 'Negative': 98}\n",
      "{'Negative': 140, 'Neutral': 1653, 'Positive': 1487}\n",
      "{'Positive': 1344, 'Neutral': 1378, 'Negative': 55}\n",
      "{'Positive': 1520, 'Neutral': 1577, 'Negative': 77}\n",
      "{'Positive': 1290, 'Neutral': 1350, 'Negative': 40}\n",
      "{'Positive': 5713, 'Neutral': 5945, 'Negative': 135}\n",
      "{'Positive': 1981, 'Neutral': 2087, 'Negative': 192}\n",
      "{'Positive': 4167, 'Neutral': 4276, 'Negative': 79}\n",
      "{'Positive': 1464, 'Neutral': 1497, 'Negative': 16}\n",
      "{'Positive': 1225, 'Neutral': 1284, 'Negative': 76}\n",
      "{'Positive': 1172, 'Neutral': 1293, 'Negative': 214}\n",
      "{'Positive': 3930, 'Neutral': 3996, 'Negative': 90}\n",
      "{'Positive': 1200, 'Neutral': 1389, 'Negative': 232}\n",
      "{'Positive': 658, 'Neutral': 708, 'Negative': 54}\n",
      "{'Positive': 2898, 'Neutral': 3070, 'Negative': 135}\n",
      "{'Positive': 1450, 'Neutral': 1579, 'Negative': 151}\n",
      "{'Positive': 1466, 'Neutral': 1540, 'Negative': 73}\n",
      "{'Negative': 80, 'Neutral': 864, 'Positive': 789}\n",
      "{'Positive': 4345, 'Neutral': 4439, 'Negative': 67}\n",
      "{'Positive': 955, 'Neutral': 1048, 'Negative': 54}\n",
      "{'Neutral': 2586, 'Positive': 2474, 'Negative': 96}\n",
      "{'Positive': 16208, 'Neutral': 16398, 'Negative': 170}\n",
      "{'Positive': 900, 'Neutral': 969, 'Negative': 32}\n",
      "{'Positive': 7310, 'Neutral': 7425, 'Negative': 211}\n",
      "{'Positive': 594, 'Neutral': 706, 'Negative': 262}\n",
      "{'Positive': 951, 'Neutral': 981, 'Negative': 51}\n",
      "{'Positive': 2268, 'Neutral': 2313, 'Negative': 59}\n",
      "{'Positive': 926, 'Neutral': 990, 'Negative': 42}\n",
      "{'Neutral': 1219, 'Positive': 1040, 'Negative': 153}\n",
      "{'Positive': 539, 'Neutral': 555, 'Negative': 30}\n",
      "{'Positive': 2194, 'Neutral': 2261, 'Negative': 54}\n",
      "{'Positive': 1563, 'Neutral': 1682, 'Negative': 136}\n",
      "{'Positive': 4509, 'Neutral': 4838, 'Negative': 145}\n",
      "{'Positive': 812, 'Neutral': 933, 'Negative': 149}\n",
      "{'Positive': 908, 'Neutral': 937, 'Negative': 14}\n",
      "{'Positive': 629, 'Neutral': 663, 'Negative': 44}\n",
      "{'Positive': 3782, 'Neutral': 3847, 'Negative': 47}\n",
      "{'Negative': 113, 'Neutral': 3063, 'Positive': 2875}\n",
      "{'Positive': 1490, 'Neutral': 1519, 'Negative': 48}\n",
      "{'Positive': 1267, 'Neutral': 1327, 'Negative': 59}\n",
      "{'Positive': 789, 'Neutral': 838, 'Negative': 38}\n",
      "{'Negative': 657, 'Neutral': 724, 'Positive': 591}\n",
      "{'Positive': 1923, 'Neutral': 1988, 'Negative': 43}\n",
      "{'Positive': 8438, 'Neutral': 8749, 'Negative': 728}\n",
      "{'Negative': 784, 'Positive': 4131, 'Neutral': 4350}\n",
      "{'Negative': 116, 'Neutral': 998, 'Positive': 861}\n",
      "{'Positive': 2163, 'Neutral': 2221, 'Negative': 35}\n",
      "{'Negative': 220, 'Neutral': 1260, 'Positive': 1086}\n",
      "{'Positive': 1132, 'Neutral': 1232, 'Negative': 126}\n",
      "{'Positive': 1016, 'Neutral': 1062, 'Negative': 32}\n",
      "{'Positive': 16443, 'Neutral': 17093, 'Negative': 293}\n",
      "{'Positive': 653, 'Neutral': 716, 'Negative': 223}\n",
      "{'Positive': 913, 'Neutral': 955, 'Negative': 34}\n",
      "{'Negative': 433, 'Neutral': 14824, 'Positive': 14562}\n",
      "{'Negative': 124, 'Positive': 1047, 'Neutral': 1126}\n",
      "{'Positive': 2500, 'Neutral': 2540, 'Negative': 67}\n",
      "{'Positive': 2858, 'Neutral': 2983, 'Negative': 83}\n",
      "{'Positive': 1543, 'Neutral': 1610, 'Negative': 122}\n",
      "{'Negative': 257, 'Neutral': 1157, 'Positive': 1003}\n",
      "{'Positive': 1765, 'Neutral': 1792, 'Negative': 85}\n",
      "{'Positive': 1577, 'Neutral': 1679, 'Negative': 301}\n",
      "{'Neutral': 2255, 'Negative': 501, 'Positive': 1975}\n",
      "{'Positive': 1993, 'Neutral': 2008, 'Negative': 32}\n",
      "{'Neutral': 537, 'Positive': 439, 'Negative': 44}\n",
      "{'Positive': 1146, 'Neutral': 1182, 'Negative': 34}\n",
      "{'Positive': 4624, 'Neutral': 4984, 'Negative': 353}\n",
      "{'Positive': 1422, 'Neutral': 1499, 'Negative': 36}\n",
      "{'Positive': 1984, 'Neutral': 2184, 'Negative': 301}\n",
      "{'Positive': 608, 'Neutral': 626, 'Negative': 35}\n",
      "{'Positive': 699, 'Neutral': 737, 'Negative': 1}\n",
      "{'Positive': 3411, 'Neutral': 3461, 'Negative': 26}\n",
      "{'Positive': 1516, 'Neutral': 1575, 'Negative': 78}\n",
      "{'Negative': 192, 'Positive': 4055, 'Neutral': 4120}\n",
      "{'Positive': 943, 'Neutral': 984, 'Negative': 6}\n",
      "{'Positive': 1733, 'Neutral': 1821, 'Negative': 223}\n",
      "{'Positive': 7644, 'Neutral': 7839, 'Negative': 182}\n",
      "{'Positive': 448, 'Neutral': 580, 'Negative': 93}\n",
      "{'Positive': 554, 'Neutral': 629, 'Negative': 20}\n",
      "{'Positive': 1477, 'Neutral': 1521, 'Negative': 53}\n",
      "{'Positive': 1850, 'Neutral': 1898, 'Negative': 73}\n",
      "{'Neutral': 500, 'Positive': 406, 'Negative': 43}\n",
      "{'Positive': 810, 'Neutral': 947, 'Negative': 127}\n",
      "{'Positive': 592, 'Neutral': 605, 'Negative': 33}\n",
      "{'Positive': 1059, 'Neutral': 1116, 'Negative': 26}\n",
      "{'Positive': 1413, 'Neutral': 1553, 'Negative': 46}\n",
      "{'Positive': 1380, 'Neutral': 1526, 'Negative': 234}\n",
      "{'Negative': 618, 'Neutral': 1730, 'Positive': 1560}\n",
      "{'Positive': 3518, 'Neutral': 3693, 'Negative': 121}\n",
      "{'Positive': 2000, 'Neutral': 2033, 'Negative': 28}\n",
      "{'Positive': 473, 'Neutral': 513, 'Negative': 73}\n",
      "{'Positive': 7735, 'Neutral': 7844, 'Negative': 123}\n",
      "{'Neutral': 854, 'Positive': 776, 'Negative': 25}\n",
      "{'Neutral': 3994, 'Positive': 3763, 'Negative': 139}\n",
      "{'Positive': 1069, 'Neutral': 1169, 'Negative': 142}\n",
      "{'Positive': 1620, 'Neutral': 1662, 'Negative': 32}\n",
      "{'Positive': 785, 'Neutral': 825, 'Negative': 41}\n",
      "{'Positive': 3273, 'Neutral': 3322, 'Negative': 35}\n",
      "{'Positive': 2056, 'Neutral': 2211, 'Negative': 100}\n",
      "{'Positive': 623, 'Neutral': 636, 'Negative': 40}\n",
      "{'Negative': 61, 'Positive': 775, 'Neutral': 809}\n",
      "{'Positive': 1285, 'Neutral': 1374, 'Negative': 134}\n",
      "{'Positive': 2139, 'Neutral': 2247, 'Negative': 99}\n",
      "{'Positive': 3480, 'Neutral': 3614, 'Negative': 145}\n",
      "{'Positive': 1672, 'Neutral': 1779, 'Negative': 50}\n",
      "{'Positive': 715, 'Neutral': 725, 'Negative': 11}\n",
      "{'Positive': 2167, 'Neutral': 2317, 'Negative': 368}\n",
      "{'Negative': 96, 'Positive': 952, 'Neutral': 983}\n",
      "{'Positive': 1497, 'Neutral': 1535, 'Negative': 32}\n",
      "{'Positive': 1166, 'Neutral': 1211, 'Negative': 11}\n",
      "{'Positive': 769, 'Neutral': 822, 'Negative': 138}\n",
      "{'Positive': 4024, 'Neutral': 4163, 'Negative': 163}\n",
      "{'Positive': 1992, 'Neutral': 2036, 'Negative': 77}\n",
      "{'Positive': 1363, 'Neutral': 1383, 'Negative': 27}\n",
      "{'Positive': 5134, 'Neutral': 5332, 'Negative': 177}\n",
      "{'Positive': 5792, 'Neutral': 5986, 'Negative': 61}\n",
      "{'Neutral': 1063, 'Positive': 937, 'Negative': 57}\n",
      "{'Positive': 2987, 'Neutral': 3035, 'Negative': 15}\n",
      "{'Positive': 1295, 'Neutral': 1334, 'Negative': 50}\n",
      "{'Positive': 1164, 'Neutral': 1192, 'Negative': 44}\n",
      "{'Positive': 888, 'Neutral': 988, 'Negative': 126}\n",
      "{'Neutral': 1063, 'Positive': 1012, 'Negative': 46}\n",
      "{'Positive': 942, 'Neutral': 1025, 'Negative': 62}\n",
      "{'Positive': 954, 'Neutral': 1051, 'Negative': 43}\n",
      "{'Positive': 1857, 'Neutral': 1932, 'Negative': 62}\n",
      "{'Positive': 2138, 'Neutral': 2166, 'Negative': 63}\n",
      "{'Positive': 398, 'Neutral': 512, 'Negative': 46}\n",
      "{'Positive': 1242, 'Neutral': 1297, 'Negative': 53}\n",
      "{'Negative': 71, 'Neutral': 1053, 'Positive': 987}\n",
      "{'Neutral': 1041, 'Positive': 895, 'Negative': 149}\n",
      "{'Positive': 1008, 'Neutral': 1059, 'Negative': 48}\n",
      "{'Negative': 63, 'Positive': 684, 'Neutral': 743}\n",
      "{'Positive': 1810, 'Neutral': 2028, 'Negative': 112}\n",
      "{'Positive': 1904, 'Neutral': 1950, 'Negative': 27}\n",
      "{'Positive': 1723, 'Neutral': 1769, 'Negative': 10}\n",
      "{'Positive': 761, 'Neutral': 813, 'Negative': 44}\n",
      "{'Positive': 1783, 'Neutral': 1828, 'Negative': 45}\n",
      "{'Positive': 3385, 'Neutral': 3465, 'Negative': 189}\n",
      "{'Positive': 3438, 'Neutral': 3508, 'Negative': 246}\n",
      "{'Positive': 445, 'Neutral': 494, 'Negative': 86}\n",
      "{'Neutral': 1776, 'Positive': 1522, 'Negative': 62}\n",
      "{'Positive': 1932, 'Neutral': 1970, 'Negative': 19}\n",
      "{'Positive': 1052, 'Neutral': 1083, 'Negative': 54}\n",
      "{'Positive': 2577, 'Neutral': 2627, 'Negative': 46}\n",
      "{'Positive': 3300, 'Neutral': 3377, 'Negative': 124}\n",
      "{'Positive': 2284, 'Neutral': 2310, 'Negative': 57}\n",
      "{'Positive': 2157, 'Neutral': 2457, 'Negative': 378}\n",
      "{'Positive': 3587, 'Neutral': 3729, 'Negative': 149}\n",
      "{'Positive': 1377, 'Neutral': 1421, 'Negative': 112}\n",
      "{'Positive': 755, 'Neutral': 784, 'Negative': 23}\n",
      "{'Positive': 2164, 'Neutral': 2243, 'Negative': 59}\n",
      "{'Positive': 2510, 'Neutral': 2619, 'Negative': 154}\n",
      "{'Positive': 752, 'Neutral': 844, 'Negative': 152}\n",
      "{'Positive': 1015, 'Neutral': 1028, 'Negative': 29}\n",
      "{'Positive': 516, 'Neutral': 549, 'Negative': 96}\n",
      "{'Positive': 2935, 'Neutral': 2985, 'Negative': 42}\n",
      "{'Positive': 1690, 'Neutral': 1815, 'Negative': 269}\n",
      "{'Neutral': 530, 'Negative': 81, 'Positive': 433}\n",
      "{'Positive': 2407, 'Neutral': 2446, 'Negative': 218}\n",
      "{'Positive': 2349, 'Neutral': 2409, 'Negative': 79}\n",
      "{'Positive': 7698, 'Neutral': 8042, 'Negative': 322}\n",
      "{'Positive': 680, 'Neutral': 750, 'Negative': 76}\n",
      "{'Positive': 939, 'Neutral': 993, 'Negative': 21}\n",
      "{'Positive': 1535, 'Neutral': 1637, 'Negative': 57}\n",
      "{'Positive': 4127, 'Neutral': 4187, 'Negative': 30}\n",
      "{'Positive': 1035, 'Neutral': 1088, 'Negative': 31}\n",
      "{'Positive': 2342, 'Neutral': 2425, 'Negative': 33}\n",
      "{'Positive': 1359, 'Neutral': 1448, 'Negative': 51}\n",
      "{'Positive': 526, 'Neutral': 583, 'Negative': 8}\n",
      "{'Positive': 545, 'Neutral': 574, 'Negative': 29}\n",
      "{'Positive': 1619, 'Neutral': 1682, 'Negative': 72}\n",
      "{'Positive': 712, 'Neutral': 734, 'Negative': 56}\n",
      "{'Positive': 1282, 'Neutral': 1323, 'Negative': 40}\n",
      "{'Positive': 845, 'Neutral': 861, 'Negative': 17}\n",
      "{'Positive': 2193, 'Neutral': 2237, 'Negative': 28}\n",
      "{'Positive': 936, 'Neutral': 984, 'Negative': 49}\n",
      "{'Neutral': 597, 'Positive': 537, 'Negative': 12}\n",
      "{'Positive': 3080, 'Neutral': 3257, 'Negative': 220}\n",
      "{'Negative': 88, 'Neutral': 1888, 'Positive': 1856}\n",
      "{'Negative': 95, 'Positive': 878, 'Neutral': 915}\n",
      "{'Positive': 1792, 'Neutral': 1803, 'Negative': 32}\n",
      "{'Positive': 1212, 'Neutral': 1291, 'Negative': 172}\n",
      "{'Neutral': 889, 'Positive': 716, 'Negative': 92}\n",
      "{'Positive': 346, 'Neutral': 362, 'Negative': 26}\n",
      "{'Positive': 1496, 'Neutral': 1766, 'Negative': 497}\n",
      "{'Positive': 2527, 'Neutral': 2667, 'Negative': 85}\n",
      "{'Positive': 1296, 'Neutral': 1337, 'Negative': 48}\n",
      "{'Negative': 56, 'Neutral': 732, 'Positive': 649}\n",
      "{'Positive': 6383, 'Neutral': 6442, 'Negative': 72}\n",
      "{'Positive': 1404, 'Neutral': 1494, 'Negative': 35}\n",
      "{'Positive': 3934, 'Neutral': 4152, 'Negative': 246}\n",
      "{'Positive': 24204, 'Neutral': 24333, 'Negative': 77}\n",
      "{'Positive': 7363, 'Neutral': 7410, 'Negative': 78}\n",
      "{'Positive': 958, 'Neutral': 1016, 'Negative': 27}\n",
      "{'Positive': 405, 'Neutral': 514, 'Negative': 56}\n",
      "{'Positive': 1634, 'Neutral': 1677, 'Negative': 30}\n",
      "{'Positive': 2406, 'Neutral': 2447, 'Negative': 38}\n",
      "{'Positive': 1198, 'Neutral': 1229, 'Negative': 18}\n",
      "{'Positive': 287, 'Neutral': 311, 'Negative': 330}\n",
      "{'Positive': 734, 'Neutral': 810, 'Negative': 45}\n",
      "{'Negative': 116, 'Positive': 1485, 'Neutral': 1588}\n",
      "{'Positive': 562, 'Neutral': 622, 'Negative': 46}\n",
      "{'Positive': 1707, 'Neutral': 1774, 'Negative': 23}\n",
      "{'Positive': 1795, 'Neutral': 1828, 'Negative': 36}\n",
      "{'Positive': 1725, 'Neutral': 1807, 'Negative': 93}\n",
      "{'Positive': 706, 'Neutral': 727, 'Negative': 89}\n",
      "{'Positive': 453, 'Neutral': 490, 'Negative': 37}\n",
      "{'Positive': 2666, 'Neutral': 2781, 'Negative': 157}\n",
      "{'Positive': 1439, 'Neutral': 1489, 'Negative': 58}\n",
      "{'Positive': 1322, 'Neutral': 1438, 'Negative': 107}\n",
      "{'Neutral': 1899, 'Positive': 1735, 'Negative': 75}\n",
      "{'Positive': 1836, 'Neutral': 1862, 'Negative': 23}\n",
      "{'Positive': 1066, 'Neutral': 1136, 'Negative': 168}\n",
      "{'Positive': 4331, 'Neutral': 4398, 'Negative': 55}\n",
      "{'Positive': 2392, 'Neutral': 2446, 'Negative': 33}\n",
      "{'Positive': 20897, 'Neutral': 21181, 'Negative': 595}\n",
      "{'Neutral': 2231, 'Positive': 2026, 'Negative': 57}\n",
      "{'Positive': 2405, 'Neutral': 2453, 'Negative': 55}\n",
      "{'Positive': 3161, 'Neutral': 3210, 'Negative': 45}\n",
      "{'Positive': 1384, 'Neutral': 1408, 'Negative': 19}\n",
      "{'Positive': 3620, 'Neutral': 3676, 'Negative': 37}\n",
      "{'Positive': 868, 'Neutral': 1010, 'Negative': 43}\n",
      "{'Positive': 1090, 'Neutral': 1109, 'Negative': 10}\n",
      "{'Positive': 1181, 'Neutral': 1262, 'Negative': 100}\n",
      "{'Positive': 1626, 'Neutral': 1649, 'Negative': 16}\n",
      "{'Positive': 1964, 'Neutral': 2095, 'Negative': 70}\n",
      "{'Positive': 7050, 'Neutral': 7571, 'Negative': 261}\n",
      "{'Positive': 2347, 'Neutral': 2424, 'Negative': 29}\n",
      "{'Positive': 1409, 'Neutral': 1585, 'Negative': 121}\n",
      "{'Positive': 861, 'Neutral': 882, 'Negative': 16}\n",
      "{'Positive': 641, 'Neutral': 663, 'Negative': 19}\n",
      "{'Positive': 1265, 'Neutral': 1317, 'Negative': 51}\n",
      "{'Positive': 4757, 'Neutral': 4858, 'Negative': 89}\n",
      "{'Positive': 1536, 'Neutral': 1656, 'Negative': 166}\n",
      "{'Positive': 629, 'Neutral': 678, 'Negative': 52}\n",
      "{'Positive': 3514, 'Neutral': 3547, 'Negative': 92}\n",
      "{'Positive': 950, 'Neutral': 1093, 'Negative': 61}\n",
      "{'Neutral': 1364, 'Positive': 1277, 'Negative': 38}\n",
      "{'Positive': 3500, 'Neutral': 3566, 'Negative': 96}\n",
      "{'Positive': 481, 'Neutral': 536, 'Negative': 12}\n",
      "{'Positive': 1978, 'Neutral': 2107, 'Negative': 192}\n",
      "{'Positive': 4439, 'Neutral': 4550, 'Negative': 60}\n",
      "{'Negative': 110, 'Positive': 2212, 'Neutral': 2345}\n",
      "{'Positive': 3091, 'Neutral': 3188, 'Negative': 157}\n",
      "{'Positive': 1368, 'Neutral': 1416, 'Negative': 260}\n",
      "{'Positive': 2022, 'Neutral': 2050, 'Negative': 25}\n",
      "{'Positive': 1509, 'Neutral': 1608, 'Negative': 110}\n",
      "{'Positive': 1108, 'Neutral': 1144, 'Negative': 31}\n",
      "{'Positive': 1020, 'Neutral': 1100, 'Negative': 10}\n",
      "{'Positive': 1469, 'Neutral': 1559, 'Negative': 35}\n",
      "{'Positive': 3848, 'Neutral': 3919, 'Negative': 41}\n",
      "{'Neutral': 2658, 'Positive': 2526, 'Negative': 90}\n",
      "{'Positive': 1213, 'Neutral': 1254, 'Negative': 69}\n",
      "{'Positive': 922, 'Neutral': 932, 'Negative': 53}\n",
      "{'Positive': 1041, 'Neutral': 1124, 'Negative': 51}\n",
      "{'Positive': 829, 'Neutral': 874, 'Negative': 79}\n",
      "{'Positive': 9532, 'Neutral': 9673, 'Negative': 156}\n",
      "{'Positive': 1970, 'Neutral': 2021, 'Negative': 38}\n",
      "{'Negative': 39, 'Neutral': 1727, 'Positive': 1681}\n",
      "{'Positive': 3351, 'Neutral': 3433, 'Negative': 224}\n",
      "{'Positive': 1118, 'Neutral': 1170, 'Negative': 63}\n",
      "{'Negative': 70, 'Neutral': 1395, 'Positive': 1362}\n",
      "{'Positive': 3461, 'Neutral': 3662, 'Negative': 108}\n",
      "{'Positive': 1314, 'Neutral': 1356, 'Negative': 58}\n",
      "{'Positive': 1780, 'Neutral': 1926, 'Negative': 119}\n",
      "{'Positive': 1251, 'Neutral': 1290, 'Negative': 98}\n",
      "{'Positive': 3656, 'Neutral': 3698, 'Negative': 38}\n",
      "{'Positive': 2331, 'Neutral': 2439, 'Negative': 125}\n",
      "{'Positive': 1357, 'Neutral': 1445, 'Negative': 84}\n",
      "{'Positive': 2565, 'Neutral': 2642, 'Negative': 276}\n",
      "{'Positive': 1653, 'Neutral': 1674, 'Negative': 50}\n",
      "{'Positive': 1318, 'Neutral': 1418, 'Negative': 57}\n",
      "{'Positive': 4433, 'Neutral': 4501, 'Negative': 64}\n",
      "{'Positive': 2279, 'Neutral': 2357, 'Negative': 134}\n",
      "{'Negative': 109, 'Positive': 405, 'Neutral': 462}\n",
      "{'Positive': 1811, 'Neutral': 1895, 'Negative': 41}\n",
      "{'Positive': 1759, 'Neutral': 1788, 'Negative': 106}\n",
      "{'Negative': 133, 'Neutral': 1283, 'Positive': 1149}\n",
      "{'Positive': 2221, 'Neutral': 2291, 'Negative': 146}\n",
      "{'Positive': 1678, 'Neutral': 1739, 'Negative': 46}\n",
      "{'Positive': 2119, 'Neutral': 2159, 'Negative': 55}\n",
      "{'Positive': 2609, 'Neutral': 2667, 'Negative': 60}\n",
      "{'Positive': 1381, 'Neutral': 1486, 'Negative': 109}\n",
      "{'Positive': 749, 'Neutral': 792, 'Negative': 93}\n",
      "{'Positive': 771, 'Neutral': 848, 'Negative': 59}\n",
      "{'Positive': 1624, 'Neutral': 1644, 'Negative': 19}\n",
      "{'Positive': 16174, 'Neutral': 16341, 'Negative': 236}\n",
      "{'Positive': 1900, 'Neutral': 1941, 'Negative': 101}\n",
      "{'Positive': 1409, 'Neutral': 1449, 'Negative': 79}\n",
      "{'Negative': 165, 'Positive': 896, 'Neutral': 986}\n",
      "{'Neutral': 1288, 'Positive': 1036, 'Negative': 156}\n",
      "{'Positive': 563, 'Neutral': 624, 'Negative': 33}\n",
      "{'Positive': 1058, 'Neutral': 1155, 'Negative': 65}\n",
      "{'Positive': 1525, 'Neutral': 1559, 'Negative': 54}\n",
      "{'Positive': 2514, 'Neutral': 2571, 'Negative': 176}\n",
      "{'Positive': 2878, 'Neutral': 3219, 'Negative': 398}\n",
      "{'Positive': 1108, 'Neutral': 1191, 'Negative': 53}\n",
      "{'Positive': 4741, 'Neutral': 4928, 'Negative': 235}\n",
      "{'Positive': 2299, 'Neutral': 2547, 'Negative': 323}\n",
      "{'Positive': 1953, 'Neutral': 2044, 'Negative': 202}\n",
      "{'Positive': 380, 'Neutral': 419, 'Negative': 59}\n",
      "{'Positive': 571, 'Neutral': 615, 'Negative': 31}\n",
      "{'Positive': 2223, 'Neutral': 2251, 'Negative': 18}\n",
      "{'Neutral': 1439, 'Positive': 1239, 'Negative': 155}\n",
      "{'Positive': 1432, 'Neutral': 1467, 'Negative': 37}\n",
      "{'Positive': 798, 'Neutral': 932, 'Negative': 159}\n",
      "{'Positive': 962, 'Neutral': 1058, 'Negative': 121}\n",
      "{'Positive': 1565, 'Neutral': 1628, 'Negative': 80}\n",
      "{'Positive': 436, 'Neutral': 482, 'Negative': 15}\n",
      "{'Positive': 421, 'Neutral': 485, 'Negative': 44}\n",
      "{'Negative': 147, 'Positive': 2147, 'Neutral': 2209}\n",
      "{'Positive': 824, 'Neutral': 867, 'Negative': 13}\n",
      "{'Neutral': 922, 'Positive': 805, 'Negative': 41}\n",
      "{'Positive': 2473, 'Neutral': 2521, 'Negative': 44}\n",
      "{'Positive': 729, 'Neutral': 803, 'Negative': 66}\n",
      "{'Positive': 1095, 'Neutral': 1153, 'Negative': 31}\n",
      "{'Positive': 1685, 'Neutral': 1903, 'Negative': 242}\n",
      "{'Positive': 8458, 'Neutral': 8589, 'Negative': 147}\n",
      "{'Positive': 310, 'Neutral': 332, 'Negative': 9}\n",
      "{'Neutral': 1045, 'Negative': 76, 'Positive': 953}\n",
      "{'Positive': 1683, 'Neutral': 1733, 'Negative': 83}\n",
      "{'Negative': 176, 'Positive': 2232, 'Neutral': 2308}\n",
      "{'Positive': 2288, 'Neutral': 2668, 'Negative': 242}\n",
      "{'Positive': 4860, 'Neutral': 5118, 'Negative': 325}\n",
      "{'Positive': 2521, 'Neutral': 2548, 'Negative': 13}\n",
      "{'Negative': 110, 'Positive': 475, 'Neutral': 525}\n",
      "{'Negative': 107, 'Neutral': 719, 'Positive': 640}\n",
      "{'Positive': 516, 'Neutral': 544, 'Negative': 16}\n",
      "{'Positive': 1522, 'Neutral': 1592, 'Negative': 35}\n",
      "{'Positive': 3046, 'Neutral': 3112, 'Negative': 101}\n",
      "{'Positive': 1259, 'Neutral': 1277, 'Negative': 20}\n",
      "{'Positive': 2659, 'Neutral': 2698, 'Negative': 7}\n",
      "{'Positive': 9782, 'Neutral': 9934, 'Negative': 137}\n",
      "{'Positive': 648, 'Neutral': 699, 'Negative': 100}\n",
      "{'Positive': 841, 'Neutral': 888, 'Negative': 58}\n",
      "{'Positive': 1820, 'Neutral': 1849, 'Negative': 59}\n",
      "{'Negative': 97, 'Positive': 5502, 'Neutral': 5646}\n",
      "{'Positive': 511, 'Neutral': 541, 'Negative': 31}\n",
      "{'Positive': 1240, 'Neutral': 1324, 'Negative': 71}\n",
      "{'Positive': 1164, 'Neutral': 1231, 'Negative': 19}\n",
      "{'Positive': 1450, 'Neutral': 1497, 'Negative': 74}\n",
      "{'Positive': 1011, 'Neutral': 1047, 'Negative': 19}\n",
      "{'Positive': 1357, 'Neutral': 1397, 'Negative': 24}\n",
      "{'Positive': 1858, 'Neutral': 1913, 'Negative': 104}\n",
      "{'Positive': 1853, 'Neutral': 1905, 'Negative': 60}\n",
      "{'Positive': 900, 'Neutral': 1015, 'Negative': 177}\n",
      "{'Positive': 974, 'Neutral': 1037, 'Negative': 47}\n",
      "{'Positive': 767, 'Neutral': 778, 'Negative': 43}\n",
      "{'Positive': 1205, 'Neutral': 1249, 'Negative': 23}\n",
      "{'Positive': 1356, 'Neutral': 1373, 'Negative': 13}\n",
      "{'Positive': 511, 'Neutral': 546, 'Negative': 50}\n",
      "{'Positive': 2858, 'Neutral': 3337, 'Negative': 404}\n",
      "{'Positive': 1176, 'Neutral': 1200, 'Negative': 20}\n",
      "{'Positive': 1561, 'Neutral': 1589, 'Negative': 60}\n",
      "{'Positive': 1071, 'Neutral': 1130, 'Negative': 986}\n",
      "{'Positive': 1806, 'Neutral': 1872, 'Negative': 66}\n",
      "{'Positive': 746, 'Neutral': 827, 'Negative': 74}\n",
      "{'Positive': 1007, 'Neutral': 1049, 'Negative': 51}\n",
      "{'Positive': 1157, 'Neutral': 1203, 'Negative': 63}\n",
      "{'Negative': 279, 'Positive': 918, 'Neutral': 968}\n",
      "{'Positive': 611, 'Neutral': 628, 'Negative': 56}\n",
      "{'Positive': 1230, 'Neutral': 1275, 'Negative': 85}\n",
      "{'Positive': 539, 'Neutral': 587, 'Negative': 59}\n",
      "{'Negative': 38, 'Positive': 371, 'Neutral': 403}\n",
      "{'Positive': 3565, 'Neutral': 3621, 'Negative': 91}\n",
      "{'Positive': 1358, 'Neutral': 1516, 'Negative': 136}\n",
      "{'Positive': 1435, 'Neutral': 1506, 'Negative': 50}\n",
      "{'Positive': 4366, 'Neutral': 4501, 'Negative': 104}\n",
      "{'Positive': 1149, 'Neutral': 1179, 'Negative': 63}\n",
      "{'Positive': 970, 'Neutral': 982, 'Negative': 0}\n",
      "{'Positive': 1093, 'Neutral': 1130, 'Negative': 42}\n",
      "{'Positive': 713, 'Neutral': 747, 'Negative': 21}\n",
      "{'Positive': 986, 'Neutral': 1032, 'Negative': 19}\n",
      "{'Positive': 692, 'Neutral': 720, 'Negative': 56}\n",
      "{'Negative': 95, 'Positive': 805, 'Neutral': 921}\n",
      "{'Positive': 1101, 'Neutral': 1163, 'Negative': 38}\n",
      "{'Positive': 595, 'Neutral': 652, 'Negative': 86}\n",
      "{'Positive': 1126, 'Neutral': 1158, 'Negative': 28}\n",
      "{'Negative': 104, 'Positive': 1614, 'Neutral': 1716}\n",
      "{'Positive': 447, 'Neutral': 533, 'Negative': 53}\n",
      "{'Positive': 1493, 'Neutral': 1550, 'Negative': 91}\n",
      "{'Positive': 650, 'Neutral': 689, 'Negative': 55}\n",
      "{'Positive': 707, 'Neutral': 783, 'Negative': 114}\n",
      "{'Positive': 1417, 'Neutral': 1441, 'Negative': 47}\n",
      "{'Positive': 20492, 'Neutral': 20743, 'Negative': 305}\n",
      "{'Positive': 1366, 'Neutral': 1423, 'Negative': 74}\n",
      "{'Positive': 1111, 'Neutral': 1208, 'Negative': 96}\n",
      "{'Positive': 1021, 'Neutral': 1120, 'Negative': 76}\n",
      "{'Positive': 581, 'Neutral': 607, 'Negative': 22}\n",
      "{'Positive': 12035, 'Neutral': 12178, 'Negative': 188}\n",
      "{'Positive': 2265, 'Neutral': 2343, 'Negative': 61}\n",
      "{'Positive': 876, 'Neutral': 917, 'Negative': 45}\n",
      "{'Positive': 1119, 'Neutral': 1156, 'Negative': 43}\n",
      "{'Positive': 1492, 'Neutral': 1536, 'Negative': 44}\n",
      "{'Positive': 898, 'Neutral': 948, 'Negative': 40}\n",
      "{'Positive': 773, 'Neutral': 814, 'Negative': 31}\n",
      "{'Positive': 618, 'Neutral': 659, 'Negative': 84}\n",
      "{'Neutral': 1157, 'Positive': 1085, 'Negative': 12}\n",
      "{'Positive': 1263, 'Neutral': 1317, 'Negative': 84}\n",
      "{'Positive': 2493, 'Neutral': 2524, 'Negative': 230}\n",
      "{'Positive': 1043, 'Neutral': 1052, 'Negative': 25}\n",
      "{'Positive': 699, 'Neutral': 722, 'Negative': 27}\n",
      "{'Positive': 560, 'Neutral': 609, 'Negative': 22}\n",
      "{'Positive': 1518, 'Neutral': 1579, 'Negative': 31}\n",
      "{'Negative': 138, 'Positive': 1502, 'Neutral': 1591}\n",
      "{'Positive': 1736, 'Neutral': 1765, 'Negative': 68}\n",
      "{'Positive': 5316, 'Neutral': 5539, 'Negative': 233}\n",
      "{'Positive': 509, 'Neutral': 538, 'Negative': 15}\n",
      "{'Positive': 1008, 'Neutral': 1024, 'Negative': 17}\n",
      "{'Positive': 444, 'Neutral': 518, 'Negative': 156}\n",
      "{'Positive': 1207, 'Neutral': 1246, 'Negative': 64}\n",
      "{'Positive': 779, 'Neutral': 809, 'Negative': 17}\n",
      "{'Positive': 774, 'Neutral': 786, 'Negative': 54}\n",
      "{'Positive': 579, 'Neutral': 619, 'Negative': 170}\n",
      "{'Positive': 1547, 'Neutral': 1594, 'Negative': 23}\n",
      "{'Positive': 14093, 'Neutral': 14292, 'Negative': 129}\n",
      "{'Positive': 4985, 'Neutral': 5111, 'Negative': 329}\n",
      "{'Positive': 1748, 'Neutral': 1831, 'Negative': 138}\n",
      "{'Positive': 2502, 'Neutral': 2600, 'Negative': 41}\n",
      "{'Positive': 2967, 'Neutral': 2984, 'Negative': 118}\n",
      "{'Positive': 6465, 'Neutral': 6585, 'Negative': 235}\n",
      "{'Neutral': 661, 'Positive': 567, 'Negative': 40}\n",
      "{'Positive': 340, 'Neutral': 382, 'Negative': 48}\n",
      "{'Positive': 1493, 'Neutral': 1570, 'Negative': 280}\n",
      "{'Positive': 1545, 'Neutral': 1561, 'Negative': 18}\n",
      "{'Positive': 500, 'Neutral': 578, 'Negative': 30}\n",
      "{'Positive': 1295, 'Neutral': 1337, 'Negative': 34}\n",
      "{'Positive': 1557, 'Neutral': 1587, 'Negative': 141}\n",
      "{'Positive': 971, 'Neutral': 1037, 'Negative': 116}\n",
      "{'Positive': 5911, 'Neutral': 5981, 'Negative': 81}\n",
      "{'Positive': 1890, 'Neutral': 1928, 'Negative': 68}\n",
      "{'Positive': 458, 'Neutral': 503, 'Negative': 24}\n",
      "{'Positive': 926, 'Neutral': 937, 'Negative': 10}\n",
      "{'Positive': 4039, 'Neutral': 4091, 'Negative': 51}\n",
      "{'Positive': 3148, 'Neutral': 3196, 'Negative': 189}\n",
      "{'Positive': 1988, 'Neutral': 2030, 'Negative': 51}\n",
      "{'Positive': 21846, 'Neutral': 22126, 'Negative': 183}\n",
      "{'Positive': 1104, 'Neutral': 1149, 'Negative': 75}\n",
      "{'Positive': 932, 'Neutral': 992, 'Negative': 141}\n",
      "{'Negative': 95, 'Positive': 1011, 'Neutral': 1064}\n",
      "{'Positive': 3778, 'Neutral': 3795, 'Negative': 35}\n",
      "{'Positive': 607, 'Neutral': 679, 'Negative': 42}\n",
      "{'Positive': 2268, 'Neutral': 2324, 'Negative': 88}\n",
      "{'Positive': 686, 'Neutral': 715, 'Negative': 5}\n",
      "{'Positive': 1734, 'Neutral': 1800, 'Negative': 155}\n",
      "{'Positive': 3041, 'Neutral': 3127, 'Negative': 38}\n",
      "{'Positive': 10004, 'Neutral': 10039, 'Negative': 212}\n",
      "{'Positive': 929, 'Neutral': 996, 'Negative': 210}\n",
      "{'Positive': 1046, 'Neutral': 1140, 'Negative': 42}\n",
      "{'Positive': 7440, 'Neutral': 7530, 'Negative': 109}\n",
      "{'Positive': 551, 'Neutral': 574, 'Negative': 56}\n",
      "{'Positive': 1039, 'Neutral': 1063, 'Negative': 125}\n",
      "{'Positive': 3225, 'Neutral': 3288, 'Negative': 51}\n",
      "{'Positive': 1513, 'Neutral': 1563, 'Negative': 100}\n",
      "{'Positive': 556, 'Neutral': 630, 'Negative': 91}\n",
      "{'Negative': 85, 'Positive': 2237, 'Neutral': 2344}\n",
      "{'Positive': 1952, 'Neutral': 1984, 'Negative': 75}\n",
      "{'Positive': 1514, 'Neutral': 1540, 'Negative': 88}\n",
      "{'Positive': 1009, 'Neutral': 1024, 'Negative': 20}\n",
      "{'Positive': 1404, 'Neutral': 1485, 'Negative': 54}\n",
      "{'Positive': 541, 'Neutral': 602, 'Negative': 24}\n",
      "{'Positive': 628, 'Neutral': 665, 'Negative': 67}\n",
      "{'Neutral': 2603, 'Positive': 2424, 'Negative': 69}\n",
      "{'Positive': 652, 'Neutral': 754, 'Negative': 53}\n",
      "{'Positive': 1409, 'Neutral': 1434, 'Negative': 56}\n",
      "{'Positive': 1327, 'Neutral': 1376, 'Negative': 18}\n",
      "{'Positive': 1641, 'Neutral': 1695, 'Negative': 27}\n",
      "{'Positive': 1242, 'Neutral': 1295, 'Negative': 46}\n",
      "{'Positive': 1176, 'Neutral': 1188, 'Negative': 26}\n",
      "{'Positive': 960, 'Neutral': 1012, 'Negative': 142}\n",
      "{'Positive': 417, 'Neutral': 432, 'Negative': 96}\n",
      "{'Positive': 1607, 'Neutral': 1641, 'Negative': 20}\n",
      "{'Positive': 940, 'Neutral': 960, 'Negative': 22}\n",
      "{'Positive': 327, 'Neutral': 381, 'Negative': 35}\n",
      "{'Positive': 2019, 'Neutral': 2078, 'Negative': 136}\n",
      "{'Negative': 131, 'Positive': 566, 'Neutral': 606}\n",
      "{'Positive': 1134, 'Neutral': 1187, 'Negative': 33}\n",
      "{'Negative': 44, 'Positive': 1420, 'Neutral': 1464}\n",
      "{'Positive': 1360, 'Neutral': 1406, 'Negative': 55}\n",
      "{'Positive': 748, 'Neutral': 772, 'Negative': 61}\n",
      "{'Positive': 979, 'Neutral': 1011, 'Negative': 22}\n",
      "{'Positive': 3863, 'Neutral': 3972, 'Negative': 27}\n",
      "{'Positive': 730, 'Neutral': 779, 'Negative': 19}\n",
      "{'Positive': 1103, 'Neutral': 1113, 'Negative': 15}\n",
      "{'Positive': 2057, 'Neutral': 2109, 'Negative': 124}\n",
      "{'Positive': 967, 'Neutral': 1027, 'Negative': 28}\n",
      "{'Positive': 4980, 'Neutral': 5085, 'Negative': 134}\n",
      "{'Positive': 2370, 'Neutral': 2473, 'Negative': 117}\n",
      "{'Positive': 1360, 'Neutral': 1389, 'Negative': 24}\n",
      "{'Positive': 509, 'Neutral': 526, 'Negative': 24}\n",
      "{'Positive': 1023, 'Neutral': 1058, 'Negative': 37}\n",
      "{'Positive': 429, 'Neutral': 479, 'Negative': 54}\n",
      "{'Negative': 55, 'Positive': 1003, 'Neutral': 1032}\n",
      "{'Positive': 442, 'Neutral': 465, 'Negative': 18}\n",
      "{'Positive': 2494, 'Neutral': 2550, 'Negative': 101}\n",
      "{'Positive': 1490, 'Neutral': 1549, 'Negative': 87}\n",
      "{'Positive': 1141, 'Neutral': 1155, 'Negative': 19}\n",
      "{'Positive': 1636, 'Neutral': 1772, 'Negative': 120}\n",
      "{'Positive': 1018, 'Neutral': 1055, 'Negative': 55}\n",
      "{'Positive': 1333, 'Neutral': 1404, 'Negative': 196}\n",
      "{'Positive': 1841, 'Neutral': 1866, 'Negative': 32}\n",
      "{'Positive': 1527, 'Neutral': 1543, 'Negative': 34}\n",
      "{'Positive': 1400, 'Neutral': 1428, 'Negative': 19}\n",
      "{'Positive': 1011, 'Neutral': 1019, 'Negative': 17}\n",
      "{'Positive': 2219, 'Neutral': 2297, 'Negative': 109}\n",
      "{'Positive': 1873, 'Neutral': 1920, 'Negative': 29}\n",
      "{'Positive': 508, 'Neutral': 534, 'Negative': 33}\n",
      "{'Positive': 1322, 'Neutral': 1380, 'Negative': 63}\n",
      "{'Neutral': 6451, 'Positive': 6237, 'Negative': 108}\n",
      "{'Positive': 1418, 'Neutral': 1467, 'Negative': 20}\n",
      "{'Positive': 633, 'Neutral': 643, 'Negative': 9}\n",
      "{'Positive': 1214, 'Neutral': 1219, 'Negative': 25}\n",
      "{'Positive': 6242, 'Neutral': 6544, 'Negative': 127}\n",
      "{'Positive': 746, 'Neutral': 783, 'Negative': 20}\n",
      "{'Positive': 1493, 'Neutral': 1529, 'Negative': 35}\n",
      "{'Positive': 1064, 'Neutral': 1089, 'Negative': 90}\n",
      "{'Positive': 3950, 'Neutral': 4069, 'Negative': 538}\n",
      "{'Positive': 2445, 'Neutral': 2499, 'Negative': 35}\n",
      "{'Positive': 849, 'Neutral': 868, 'Negative': 14}\n",
      "{'Positive': 2458, 'Neutral': 2529, 'Negative': 53}\n",
      "{'Positive': 1217, 'Neutral': 1245, 'Negative': 42}\n",
      "{'Neutral': 1164, 'Positive': 1089, 'Negative': 28}\n",
      "{'Positive': 2779, 'Neutral': 2827, 'Negative': 38}\n",
      "{'Positive': 2095, 'Neutral': 2145, 'Negative': 13}\n",
      "{'Positive': 1046, 'Neutral': 1080, 'Negative': 39}\n",
      "{'Positive': 1026, 'Neutral': 1031, 'Negative': 10}\n",
      "{'Positive': 986, 'Neutral': 1003, 'Negative': 8}\n",
      "{'Positive': 949, 'Neutral': 987, 'Negative': 55}\n",
      "{'Positive': 5994, 'Neutral': 6075, 'Negative': 72}\n",
      "{'Positive': 1388, 'Neutral': 1529, 'Negative': 40}\n",
      "{'Positive': 1238, 'Neutral': 1294, 'Negative': 41}\n",
      "{'Positive': 1464, 'Neutral': 1494, 'Negative': 28}\n",
      "{'Positive': 573, 'Neutral': 585, 'Negative': 14}\n",
      "{'Positive': 1293, 'Neutral': 1333, 'Negative': 28}\n",
      "{'Positive': 1681, 'Neutral': 1708, 'Negative': 21}\n",
      "{'Positive': 1176, 'Neutral': 1207, 'Negative': 23}\n",
      "{'Positive': 736, 'Neutral': 775, 'Negative': 47}\n",
      "{'Positive': 903, 'Neutral': 942, 'Negative': 101}\n",
      "{'Positive': 536, 'Neutral': 550, 'Negative': 9}\n",
      "{'Positive': 1306, 'Neutral': 1387, 'Negative': 172}\n",
      "{'Positive': 1372, 'Neutral': 1399, 'Negative': 29}\n",
      "{'Neutral': 383, 'Positive': 345, 'Negative': 15}\n",
      "{'Positive': 3491, 'Neutral': 3551, 'Negative': 67}\n",
      "{'Positive': 1144, 'Neutral': 1186, 'Negative': 44}\n",
      "{'Positive': 801, 'Neutral': 825, 'Negative': 40}\n",
      "{'Neutral': 3023, 'Positive': 2972, 'Negative': 44}\n",
      "{'Negative': 129, 'Positive': 2868, 'Neutral': 3057}\n",
      "{'Positive': 790, 'Neutral': 803, 'Negative': 45}\n",
      "{'Positive': 3722, 'Neutral': 3779, 'Negative': 38}\n",
      "{'Positive': 4554, 'Neutral': 4588, 'Negative': 72}\n",
      "{'Positive': 1306, 'Neutral': 1361, 'Negative': 115}\n",
      "{'Negative': 753, 'Positive': 790, 'Neutral': 862}\n",
      "{'Positive': 1021, 'Neutral': 1049, 'Negative': 12}\n",
      "{'Positive': 1605, 'Neutral': 1694, 'Negative': 147}\n",
      "{'Positive': 6541, 'Neutral': 6591, 'Negative': 76}\n",
      "{'Positive': 1374, 'Neutral': 1403, 'Negative': 137}\n",
      "{'Positive': 1995, 'Neutral': 2013, 'Negative': 14}\n",
      "{'Positive': 2029, 'Neutral': 2079, 'Negative': 50}\n",
      "{'Positive': 451, 'Neutral': 501, 'Negative': 72}\n",
      "{'Positive': 1305, 'Neutral': 1397, 'Negative': 61}\n",
      "{'Positive': 1240, 'Neutral': 1264, 'Negative': 13}\n",
      "{'Positive': 590, 'Neutral': 618, 'Negative': 21}\n",
      "{'Positive': 563, 'Neutral': 596, 'Negative': 31}\n",
      "{'Positive': 1449, 'Neutral': 1487, 'Negative': 31}\n",
      "{'Positive': 1382, 'Neutral': 1426, 'Negative': 50}\n",
      "{'Positive': 1569, 'Neutral': 1608, 'Negative': 16}\n",
      "{'Positive': 2679, 'Neutral': 2737, 'Negative': 100}\n",
      "{'Neutral': 1063, 'Positive': 939, 'Negative': 63}\n",
      "{'Positive': 862, 'Neutral': 920, 'Negative': 27}\n",
      "{'Positive': 536, 'Neutral': 562, 'Negative': 115}\n",
      "{'Positive': 668, 'Neutral': 685, 'Negative': 13}\n",
      "{'Positive': 8036, 'Neutral': 8070, 'Negative': 41}\n",
      "{'Positive': 640, 'Neutral': 672, 'Negative': 54}\n",
      "{'Positive': 2382, 'Neutral': 2530, 'Negative': 91}\n",
      "{'Positive': 1095, 'Neutral': 1107, 'Negative': 16}\n",
      "{'Positive': 1840, 'Neutral': 1893, 'Negative': 64}\n",
      "{'Positive': 801, 'Neutral': 808, 'Negative': 9}\n",
      "{'Positive': 1613, 'Neutral': 1663, 'Negative': 46}\n",
      "{'Positive': 1000, 'Neutral': 1026, 'Negative': 53}\n",
      "{'Positive': 1113, 'Neutral': 1142, 'Negative': 28}\n",
      "{'Positive': 596, 'Neutral': 646, 'Negative': 25}\n",
      "{'Negative': 66, 'Positive': 1240, 'Neutral': 1283}\n",
      "{'Positive': 1366, 'Neutral': 1388, 'Negative': 56}\n",
      "{'Positive': 333, 'Neutral': 364, 'Negative': 27}\n",
      "{'Positive': 1933, 'Neutral': 1993, 'Negative': 66}\n",
      "{'Positive': 473, 'Neutral': 528, 'Negative': 106}\n",
      "{'Positive': 1520, 'Neutral': 1563, 'Negative': 41}\n",
      "{'Neutral': 1424, 'Positive': 1299, 'Negative': 31}\n",
      "{'Positive': 314, 'Neutral': 330, 'Negative': 6}\n",
      "{'Negative': 2196, 'Positive': 1917, 'Neutral': 1957}\n",
      "{'Negative': 508, 'Positive': 1184, 'Neutral': 1267}\n",
      "{'Positive': 1791, 'Neutral': 1825, 'Negative': 118}\n",
      "{'Positive': 447, 'Neutral': 459, 'Negative': 17}\n",
      "{'Neutral': 1219, 'Positive': 1148, 'Negative': 38}\n",
      "{'Positive': 362, 'Neutral': 375, 'Negative': 56}\n",
      "{'Positive': 948, 'Neutral': 971, 'Negative': 30}\n",
      "{'Positive': 2840, 'Neutral': 2871, 'Negative': 101}\n",
      "{'Positive': 1392, 'Neutral': 1438, 'Negative': 102}\n",
      "{'Positive': 1368, 'Neutral': 1398, 'Negative': 16}\n",
      "{'Positive': 774, 'Neutral': 793, 'Negative': 20}\n",
      "{'Negative': 61, 'Positive': 709, 'Neutral': 726}\n",
      "{'Negative': 224, 'Neutral': 1356, 'Positive': 1244}\n",
      "{'Positive': 1995, 'Neutral': 2017, 'Negative': 13}\n",
      "{'Positive': 1461, 'Neutral': 1480, 'Negative': 22}\n",
      "{'Positive': 3599, 'Neutral': 3686, 'Negative': 69}\n",
      "{'Positive': 1336, 'Neutral': 1352, 'Negative': 71}\n",
      "{'Positive': 2598, 'Neutral': 2635, 'Negative': 66}\n",
      "{'Positive': 5295, 'Neutral': 5445, 'Negative': 162}\n",
      "{'Positive': 609, 'Neutral': 621, 'Negative': 85}\n",
      "{'Negative': 200, 'Positive': 468, 'Neutral': 481}\n",
      "{'Positive': 1230, 'Neutral': 1271, 'Negative': 63}\n",
      "{'Positive': 386, 'Neutral': 415, 'Negative': 38}\n",
      "{'Positive': 1475, 'Neutral': 1506, 'Negative': 42}\n",
      "{'Positive': 1353, 'Neutral': 1376, 'Negative': 58}\n",
      "{'Negative': 67, 'Positive': 503, 'Neutral': 566}\n",
      "{'Positive': 9481, 'Neutral': 9552, 'Negative': 26}\n",
      "{'Positive': 2587, 'Neutral': 2611, 'Negative': 29}\n",
      "{'Positive': 427, 'Neutral': 462, 'Negative': 27}\n",
      "{'Positive': 531, 'Neutral': 554, 'Negative': 18}\n",
      "{'Positive': 1194, 'Neutral': 1227, 'Negative': 50}\n",
      "{'Positive': 1222, 'Neutral': 1261, 'Negative': 47}\n",
      "{'Positive': 860, 'Neutral': 902, 'Negative': 75}\n",
      "{'Positive': 8319, 'Neutral': 8529, 'Negative': 143}\n",
      "{'Negative': 93, 'Positive': 1274, 'Neutral': 1349}\n",
      "{'Positive': 1230, 'Neutral': 1257, 'Negative': 91}\n",
      "{'Positive': 993, 'Neutral': 1045, 'Negative': 43}\n",
      "{'Positive': 1890, 'Neutral': 1925, 'Negative': 157}\n",
      "{'Positive': 1214, 'Neutral': 1274, 'Negative': 33}\n",
      "{'Positive': 5981, 'Neutral': 6074, 'Negative': 88}\n",
      "{'Positive': 520, 'Neutral': 533, 'Negative': 46}\n",
      "{'Positive': 1168, 'Neutral': 1197, 'Negative': 15}\n",
      "{'Positive': 1452, 'Neutral': 1531, 'Negative': 231}\n",
      "{'Positive': 1657, 'Neutral': 1754, 'Negative': 87}\n",
      "{'Positive': 679, 'Neutral': 740, 'Negative': 62}\n",
      "{'Positive': 1189, 'Neutral': 1207, 'Negative': 17}\n",
      "{'Positive': 938, 'Neutral': 955, 'Negative': 14}\n",
      "{'Positive': 1546, 'Neutral': 1606, 'Negative': 42}\n",
      "{'Positive': 3360, 'Neutral': 3372, 'Negative': 26}\n",
      "{'Negative': 408, 'Positive': 2496, 'Neutral': 2530}\n",
      "{'Positive': 443, 'Neutral': 486, 'Negative': 49}\n",
      "{'Positive': 1668, 'Neutral': 1747, 'Negative': 115}\n",
      "{'Positive': 685, 'Neutral': 714, 'Negative': 68}\n",
      "{'Positive': 1246, 'Neutral': 1281, 'Negative': 48}\n",
      "{'Positive': 781, 'Neutral': 812, 'Negative': 28}\n",
      "{'Positive': 2165, 'Neutral': 2177, 'Negative': 25}\n",
      "{'Positive': 733, 'Neutral': 760, 'Negative': 15}\n",
      "{'Positive': 642, 'Neutral': 664, 'Negative': 15}\n",
      "{'Positive': 981, 'Neutral': 1014, 'Negative': 22}\n",
      "{'Positive': 5365, 'Neutral': 5433, 'Negative': 50}\n",
      "{'Positive': 2560, 'Neutral': 2595, 'Negative': 59}\n",
      "{'Positive': 1122, 'Neutral': 1154, 'Negative': 30}\n",
      "{'Negative': 56, 'Positive': 2059, 'Neutral': 2082}\n",
      "{'Positive': 2651, 'Neutral': 2687, 'Negative': 207}\n",
      "{'Positive': 696, 'Neutral': 711, 'Negative': 13}\n",
      "{'Positive': 824, 'Neutral': 855, 'Negative': 15}\n",
      "{'Positive': 690, 'Neutral': 713, 'Negative': 24}\n",
      "{'Positive': 284, 'Neutral': 299, 'Negative': 69}\n",
      "{'Positive': 1103, 'Neutral': 1134, 'Negative': 11}\n",
      "{'Positive': 717, 'Neutral': 769, 'Negative': 72}\n",
      "{'Positive': 1241, 'Neutral': 1284, 'Negative': 47}\n",
      "{'Positive': 680, 'Neutral': 698, 'Negative': 27}\n",
      "{'Positive': 929, 'Neutral': 951, 'Negative': 133}\n",
      "{'Positive': 1882, 'Neutral': 1912, 'Negative': 83}\n",
      "{'Positive': 678, 'Neutral': 690, 'Negative': 107}\n",
      "{'Positive': 1114, 'Neutral': 1131, 'Negative': 44}\n",
      "{'Neutral': 781, 'Positive': 745, 'Negative': 4}\n",
      "{'Positive': 596, 'Neutral': 642, 'Negative': 174}\n",
      "{'Positive': 386, 'Neutral': 393, 'Negative': 27}\n",
      "{'Positive': 1420, 'Neutral': 1428, 'Negative': 15}\n",
      "{'Positive': 1093, 'Neutral': 1136, 'Negative': 33}\n",
      "{'Positive': 944, 'Neutral': 954, 'Negative': 0}\n",
      "{'Positive': 254, 'Neutral': 273, 'Negative': 6}\n",
      "{'Positive': 1040, 'Neutral': 1085, 'Negative': 121}\n",
      "{'Positive': 4202, 'Neutral': 4232, 'Negative': 65}\n",
      "{'Positive': 2091, 'Neutral': 2115, 'Negative': 19}\n",
      "{'Positive': 735, 'Neutral': 779, 'Negative': 35}\n",
      "{'Positive': 569, 'Neutral': 602, 'Negative': 58}\n",
      "{'Positive': 1082, 'Neutral': 1115, 'Negative': 31}\n",
      "{'Positive': 808, 'Neutral': 825, 'Negative': 18}\n",
      "{'Neutral': 603, 'Positive': 562, 'Negative': 26}\n",
      "{'Positive': 2077, 'Neutral': 2094, 'Negative': 66}\n",
      "{'Positive': 382, 'Neutral': 398, 'Negative': 46}\n",
      "{'Positive': 149, 'Neutral': 155, 'Negative': 6}\n",
      "{'Positive': 787, 'Neutral': 900, 'Negative': 194}\n",
      "{'Positive': 492, 'Neutral': 511, 'Negative': 11}\n",
      "{'Positive': 1908, 'Neutral': 1941, 'Negative': 2}\n",
      "{'Positive': 315, 'Neutral': 339, 'Negative': 19}\n",
      "{'Positive': 848, 'Neutral': 865, 'Negative': 52}\n",
      "{'Positive': 962, 'Neutral': 1019, 'Negative': 107}\n",
      "{'Positive': 977, 'Neutral': 992, 'Negative': 14}\n",
      "{'Positive': 860, 'Neutral': 911, 'Negative': 29}\n",
      "{'Positive': 592, 'Neutral': 615, 'Negative': 27}\n",
      "{'Positive': 996, 'Neutral': 1006, 'Negative': 35}\n",
      "{'Negative': 17, 'Neutral': 59, 'Positive': 45}\n",
      "{'Positive': 667, 'Neutral': 691, 'Negative': 3}\n",
      "{'Positive': 1608, 'Neutral': 1645, 'Negative': 25}\n",
      "{'Positive': 133, 'Neutral': 150, 'Negative': 30}\n",
      "{'Negative': 102, 'Positive': 761, 'Neutral': 808}\n",
      "{'Positive': 476, 'Neutral': 490, 'Negative': 15}\n",
      "{'Negative': 46, 'Positive': 609, 'Neutral': 653}\n",
      "{'Positive': 537, 'Neutral': 580, 'Negative': 22}\n",
      "{'Positive': 1125, 'Neutral': 1198, 'Negative': 73}\n",
      "{'Positive': 502, 'Neutral': 509, 'Negative': 54}\n",
      "{'Positive': 500, 'Neutral': 520, 'Negative': 32}\n",
      "{'Positive': 547, 'Neutral': 551, 'Negative': 7}\n",
      "{'Positive': 1791, 'Neutral': 1799, 'Negative': 58}\n",
      "{'Positive': 770, 'Neutral': 807, 'Negative': 51}\n",
      "{'Positive': 772, 'Neutral': 783, 'Negative': 23}\n",
      "{'Positive': 743, 'Neutral': 757, 'Negative': 18}\n",
      "{'Positive': 720, 'Neutral': 738, 'Negative': 25}\n",
      "{'Positive': 2401, 'Neutral': 2437, 'Negative': 24}\n",
      "{'Positive': 606, 'Neutral': 636, 'Negative': 19}\n",
      "{'Positive': 371, 'Neutral': 382, 'Negative': 23}\n",
      "{'Positive': 5746, 'Neutral': 5791, 'Negative': 110}\n",
      "{'Positive': 452, 'Neutral': 478, 'Negative': 18}\n",
      "{'Positive': 2690, 'Neutral': 2721, 'Negative': 38}\n",
      "{'Positive': 4381, 'Neutral': 4422, 'Negative': 84}\n",
      "{'Positive': 1048, 'Neutral': 1062, 'Negative': 46}\n",
      "{'Negative': 218, 'Positive': 659, 'Neutral': 709}\n",
      "{'Positive': 1389, 'Neutral': 1411, 'Negative': 10}\n",
      "{'Positive': 807, 'Neutral': 843, 'Negative': 26}\n",
      "{'Positive': 684, 'Neutral': 693, 'Negative': 0}\n",
      "{'Positive': 1282, 'Neutral': 1304, 'Negative': 47}\n",
      "{'Positive': 776, 'Neutral': 784, 'Negative': 16}\n",
      "{'Positive': 397, 'Neutral': 427, 'Negative': 21}\n",
      "{'Positive': 10238, 'Neutral': 10358, 'Negative': 107}\n",
      "{'Positive': 483, 'Neutral': 509, 'Negative': 24}\n",
      "{'Positive': 2012, 'Neutral': 2034, 'Negative': 13}\n",
      "{'Positive': 703, 'Neutral': 726, 'Negative': 73}\n",
      "{'Positive': 829, 'Neutral': 854, 'Negative': 30}\n",
      "{'Positive': 882, 'Neutral': 888, 'Negative': 31}\n",
      "{'Positive': 2864, 'Neutral': 2883, 'Negative': 84}\n",
      "{'Positive': 224, 'Neutral': 234, 'Negative': 6}\n",
      "{'Negative': 152, 'Positive': 830, 'Neutral': 844}\n",
      "{'Negative': 37, 'Positive': 363, 'Neutral': 374}\n",
      "{'Neutral': 1404, 'Positive': 1361, 'Negative': 38}\n",
      "{'Positive': 529, 'Neutral': 546, 'Negative': 11}\n",
      "{'Positive': 778, 'Neutral': 804, 'Negative': 23}\n",
      "{'Positive': 599, 'Neutral': 629, 'Negative': 20}\n",
      "{'Positive': 483, 'Neutral': 505, 'Negative': 4}\n",
      "{'Positive': 322, 'Neutral': 322, 'Negative': 12}\n",
      "{'Positive': 530, 'Neutral': 563, 'Negative': 20}\n",
      "{'Positive': 916, 'Neutral': 953, 'Negative': 28}\n",
      "{'Positive': 394, 'Neutral': 418, 'Negative': 43}\n",
      "{'Positive': 398, 'Neutral': 404, 'Negative': 13}\n",
      "{'Positive': 1361, 'Neutral': 1420, 'Negative': 18}\n",
      "{'Negative': 67, 'Positive': 1946, 'Neutral': 1990}\n",
      "{'Positive': 4444, 'Neutral': 4480, 'Negative': 42}\n",
      "{'Positive': 480, 'Neutral': 497, 'Negative': 9}\n",
      "{'Positive': 872, 'Neutral': 892, 'Negative': 21}\n",
      "{'Positive': 478, 'Neutral': 485, 'Negative': 3}\n",
      "{'Negative': 18, 'Neutral': 139, 'Positive': 135}\n",
      "{'Positive': 909, 'Neutral': 926, 'Negative': 6}\n",
      "{'Positive': 582, 'Neutral': 600, 'Negative': 15}\n",
      "{'Positive': 564, 'Neutral': 575, 'Negative': 41}\n",
      "{'Positive': 502, 'Neutral': 505, 'Negative': 6}\n",
      "{'Positive': 435, 'Neutral': 438, 'Negative': 14}\n",
      "{'Positive': 519, 'Neutral': 520, 'Negative': 0}\n",
      "{'Positive': 499, 'Neutral': 499, 'Negative': 0}\n",
      "{'Positive': 805, 'Neutral': 808, 'Negative': 11}\n",
      "{'Positive': 355, 'Neutral': 355, 'Negative': 0}\n",
      "{'Positive': 97, 'Neutral': 98, 'Negative': 0}\n",
      "{'Positive': 1410, 'Neutral': 1411, 'Negative': 1}\n",
      "{'Positive': 130, 'Neutral': 131, 'Negative': 1}\n",
      "{'Positive': 924, 'Neutral': 924, 'Negative': 9}\n",
      "{'Positive': 302, 'Neutral': 307, 'Negative': 2}\n",
      "{'Positive': 117, 'Neutral': 119, 'Negative': 0}\n",
      "{'Positive': 267, 'Neutral': 270, 'Negative': 0}\n",
      "{'Positive': 421, 'Neutral': 425, 'Negative': 2}\n",
      "{'Positive': 231, 'Neutral': 236, 'Negative': 0}\n",
      "{'Positive': 689, 'Neutral': 698, 'Negative': 10}\n",
      "{'Positive': 193, 'Neutral': 199, 'Negative': 2}\n",
      "{'Positive': 143, 'Neutral': 143, 'Negative': 0}\n",
      "{'Positive': 357, 'Neutral': 365, 'Negative': 0}\n",
      "{'Positive': 371, 'Neutral': 374, 'Negative': 8}\n",
      "{'Positive': 662, 'Neutral': 668, 'Negative': 15}\n",
      "{'Positive': 93, 'Neutral': 94, 'Negative': 3}\n",
      "{'Positive': 411, 'Neutral': 423, 'Negative': 3}\n",
      "{'Positive': 275, 'Neutral': 293, 'Negative': 17}\n",
      "{'Positive': 517, 'Neutral': 546, 'Negative': 42}\n",
      "{'Positive': 719, 'Neutral': 729, 'Negative': 8}\n",
      "{'Positive': 779, 'Neutral': 791, 'Negative': 26}\n",
      "{'Positive': 167, 'Neutral': 168, 'Negative': 6}\n",
      "{'Positive': 727, 'Neutral': 750, 'Negative': 20}\n",
      "{'Positive': 284, 'Neutral': 308, 'Negative': 58}\n",
      "{'Positive': 1024, 'Neutral': 1054, 'Negative': 35}\n",
      "{'Positive': 270, 'Neutral': 270, 'Negative': 0}\n",
      "{'Positive': 318, 'Neutral': 324, 'Negative': 9}\n",
      "{'Positive': 279, 'Neutral': 289, 'Negative': 8}\n",
      "{'Positive': 326, 'Neutral': 327, 'Negative': 20}\n",
      "{'Negative': 17, 'Positive': 631, 'Neutral': 660}\n",
      "{'Positive': 456, 'Neutral': 472, 'Negative': 28}\n",
      "{'Negative': 126, 'Positive': 815, 'Neutral': 835}\n",
      "{'Positive': 169, 'Neutral': 170, 'Negative': 7}\n",
      "{'Positive': 421, 'Neutral': 428, 'Negative': 22}\n",
      "{'Positive': 195, 'Neutral': 224, 'Negative': 56}\n",
      "{'Positive': 316, 'Neutral': 318, 'Negative': 2}\n",
      "{'Positive': 266, 'Neutral': 273, 'Negative': 6}\n",
      "{'Positive': 283, 'Neutral': 293, 'Negative': 74}\n",
      "{'Positive': 159, 'Neutral': 163, 'Negative': 3}\n",
      "{'Positive': 389, 'Neutral': 396, 'Negative': 17}\n",
      "{'Positive': 427, 'Neutral': 437, 'Negative': 13}\n",
      "{'Positive': 267, 'Neutral': 277, 'Negative': 43}\n",
      "{'Positive': 68, 'Neutral': 68, 'Negative': 0}\n",
      "{'Positive': 521, 'Neutral': 534, 'Negative': 49}\n",
      "{'Negative': 9, 'Positive': 452, 'Neutral': 459}\n",
      "{'Positive': 149, 'Neutral': 154, 'Negative': 5}\n",
      "{'Neutral': 953, 'Positive': 927, 'Negative': 28}\n",
      "{'Positive': 164, 'Neutral': 172, 'Negative': 11}\n",
      "{'Positive': 209, 'Neutral': 212, 'Negative': 9}\n",
      "{'Positive': 418, 'Neutral': 421, 'Negative': 10}\n",
      "{'Positive': 230, 'Neutral': 235, 'Negative': 24}\n",
      "{'Positive': 1899, 'Neutral': 1960, 'Negative': 49}\n",
      "{'Positive': 212, 'Neutral': 223, 'Negative': 8}\n",
      "{'Positive': 252, 'Neutral': 252, 'Negative': 4}\n",
      "{'Positive': 303, 'Neutral': 312, 'Negative': 71}\n",
      "{'Negative': 54, 'Positive': 310, 'Neutral': 324}\n",
      "{'Positive': 166, 'Neutral': 167, 'Negative': 14}\n",
      "{'Positive': 210, 'Neutral': 213, 'Negative': 12}\n",
      "{'Positive': 134, 'Neutral': 140, 'Negative': 3}\n",
      "{'Positive': 174, 'Neutral': 174, 'Negative': 18}\n",
      "{'Positive': 137, 'Neutral': 150, 'Negative': 1}\n",
      "{'Positive': 126, 'Neutral': 130, 'Negative': 6}\n",
      "{'Negative': 17, 'Positive': 561, 'Neutral': 566}\n",
      "{'Negative': 37, 'Positive': 94, 'Neutral': 105}\n",
      "2550\n"
     ]
    }
   ],
   "source": [
    "for elem in list_of_ratings_stats:\n",
    "    print(elem)\n",
    "print(len(list_of_ratings_stats))"
   ],
   "metadata": {
    "collapsed": false,
    "ExecuteTime": {
     "end_time": "2024-02-21T09:51:13.664808500Z",
     "start_time": "2024-02-21T09:51:13.623124900Z"
    }
   }
  },
  {
   "cell_type": "code",
   "execution_count": 218,
   "outputs": [],
   "source": [
    "ted.drop(['Positive','Negative','Neutral'], axis='columns', inplace=True)"
   ],
   "metadata": {
    "collapsed": false,
    "ExecuteTime": {
     "end_time": "2024-02-21T09:52:38.054324400Z",
     "start_time": "2024-02-21T09:52:37.958020500Z"
    }
   }
  },
  {
   "cell_type": "code",
   "execution_count": 220,
   "outputs": [],
   "source": [
    "ted = pd.concat([ted,pd.DataFrame(list_of_ratings_stats)], axis='columns')"
   ],
   "metadata": {
    "collapsed": false,
    "ExecuteTime": {
     "end_time": "2024-02-21T09:52:57.889645800Z",
     "start_time": "2024-02-21T09:52:57.865896200Z"
    }
   }
  },
  {
   "cell_type": "code",
   "execution_count": 221,
   "outputs": [
    {
     "data": {
      "text/plain": "      comment_count                                        description  \\\n0              4553  Sir Ken Robinson makes an entertaining and pro...   \n1               265  With the same humor and humanity he exuded in ...   \n2               124  New York Times columnist David Pogue takes aim...   \n3               200  In an emotionally charged talk, MacArthur-winn...   \n4               593  You've never seen data presented like this. Wi...   \n...             ...                                                ...   \n2545             17  Between 2008 and 2016, the United States depor...   \n2546              6  How can you study Mars without a spaceship? He...   \n2547             10  Science fiction visions of the future show us ...   \n2548             32  In an unmissable talk about race and politics ...   \n2549              8  With more than half of the world population li...   \n\n      duration         event  film_date  languages         main_speaker  \\\n0         1164       TED2006 2006-02-25         60         Ken Robinson   \n1          977       TED2006 2006-02-25         43              Al Gore   \n2         1286       TED2006 2006-02-24         26          David Pogue   \n3         1116       TED2006 2006-02-26         35        Majora Carter   \n4         1190       TED2006 2006-02-22         48         Hans Rosling   \n...        ...           ...        ...        ...                  ...   \n2545       476       TED2017 2017-06-06          4     Duarte Geraldino   \n2546       290       TED2017 2017-04-24          3  Armando Azua-Bustos   \n2547       651       TED2017 2017-04-24          1       Radhika Nagpal   \n2548      1100  TEDxMileHigh 2017-07-08          1     Theo E.J. Wilson   \n2549       519       TED2017 2017-04-24          1    Karoliina Korppoo   \n\n                                                   name  num_speaker  \\\n0             Ken Robinson: Do schools kill creativity?            1   \n1                  Al Gore: Averting the climate crisis            1   \n2                         David Pogue: Simplicity sells            1   \n3                    Majora Carter: Greening the ghetto            1   \n4         Hans Rosling: The best stats you've ever seen            1   \n...                                                 ...          ...   \n2545  Duarte Geraldino: What we're missing in the de...            1   \n2546  Armando Azua-Bustos: The most Martian place on...            1   \n2547  Radhika Nagpal: What intelligent machines can ...            1   \n2548  Theo E.J. Wilson: A black man goes undercover ...            1   \n2549  Karoliina Korppoo: How a video game might help...            1   \n\n          published_date  ...                    speaker_occupation  \\\n0    2006-06-27 00:11:00  ...                       Author/educator   \n1    2006-06-27 00:11:00  ...                      Climate advocate   \n2    2006-06-27 00:11:00  ...                  Technology columnist   \n3    2006-06-27 00:11:00  ...    Activist for environmental justice   \n4    2006-06-27 20:38:00  ...  Global health expert; data visionary   \n...                  ...  ...                                   ...   \n2545 2017-09-19 20:00:16  ...                            Journalist   \n2546 2017-09-20 15:02:17  ...                        Astrobiologist   \n2547 2017-09-21 15:01:35  ...                     Robotics engineer   \n2548 2017-09-21 20:00:42  ...                   Public intellectual   \n2549 2017-09-22 15:00:22  ...                         Game designer   \n\n                                                   tags  \\\n0     ['children', 'creativity', 'culture', 'dance',...   \n1     ['alternative energy', 'cars', 'climate change...   \n2     ['computers', 'entertainment', 'interface desi...   \n3     ['MacArthur grant', 'activism', 'business', 'c...   \n4     ['Africa', 'Asia', 'Google', 'demo', 'economic...   \n...                                                 ...   \n2545  ['TED Residency', 'United States', 'community'...   \n2546  ['Mars', 'South America', 'TED Fellows', 'astr...   \n2547  ['AI', 'ants', 'fish', 'future', 'innovation',...   \n2548  ['Internet', 'TEDx', 'United States', 'communi...   \n2549  ['cities', 'design', 'future', 'infrastructure...   \n\n                                                  title  \\\n0                           Do schools kill creativity?   \n1                           Averting the climate crisis   \n2                                      Simplicity sells   \n3                                   Greening the ghetto   \n4                       The best stats you've ever seen   \n...                                                 ...   \n2545  What we're missing in the debate about immigra...   \n2546                    The most Martian place on Earth   \n2547  What intelligent machines can learn from a sch...   \n2548       A black man goes undercover in the alt-right   \n2549  How a video game might help us build better ci...   \n\n                                                    url view_count  \\\n0     https://www.ted.com/talks/ken_robinson_says_sc...   47227110   \n1     https://www.ted.com/talks/al_gore_on_averting_...    3200520   \n2     https://www.ted.com/talks/david_pogue_says_sim...    1636292   \n3     https://www.ted.com/talks/majora_carter_s_tale...    1697550   \n4     https://www.ted.com/talks/hans_rosling_shows_t...   12005869   \n...                                                 ...        ...   \n2545  https://www.ted.com/talks/duarte_geraldino_wha...     450430   \n2546  https://www.ted.com/talks/armando_azua_bustos_...     417470   \n2547  https://www.ted.com/talks/radhika_nagpal_what_...     375647   \n2548  https://www.ted.com/talks/theo_e_j_wilson_a_bl...     419309   \n2549  https://www.ted.com/talks/karoliina_korppoo_ho...     391721   \n\n                                Top3_Ratings  Is_Jaw_Dropping Positive  \\\n0               Inspiring, Funny, Persuasive            False    91538   \n1              Funny, Informative, Inspiring            False     2169   \n2              Funny, Informative, Inspiring            False     2327   \n3          Inspiring, Courageous, Persuasive            False     3487   \n4     Informative, Fascinating, Jaw-dropping             True    25062   \n...                                      ...              ...      ...   \n2545      Informative, Inspiring, Courageous            False      174   \n2546     Informative, Fascinating, Inspiring            False      137   \n2547     Informative, Inspiring, Fascinating            False      126   \n2548      Inspiring, Courageous, Informative            False      561   \n2549    Inspiring, Informative, Unconvincing            False       94   \n\n      Neutral  Negative  \n0       92712      1138  \n1        2372       564  \n2        2473       351  \n3        3572       156  \n4       25310       310  \n...       ...       ...  \n2545      174        18  \n2546      150         1  \n2547      130         6  \n2548      566        17  \n2549      105        37  \n\n[2550 rows x 22 columns]",
      "text/html": "<div>\n<style scoped>\n    .dataframe tbody tr th:only-of-type {\n        vertical-align: middle;\n    }\n\n    .dataframe tbody tr th {\n        vertical-align: top;\n    }\n\n    .dataframe thead th {\n        text-align: right;\n    }\n</style>\n<table border=\"1\" class=\"dataframe\">\n  <thead>\n    <tr style=\"text-align: right;\">\n      <th></th>\n      <th>comment_count</th>\n      <th>description</th>\n      <th>duration</th>\n      <th>event</th>\n      <th>film_date</th>\n      <th>languages</th>\n      <th>main_speaker</th>\n      <th>name</th>\n      <th>num_speaker</th>\n      <th>published_date</th>\n      <th>...</th>\n      <th>speaker_occupation</th>\n      <th>tags</th>\n      <th>title</th>\n      <th>url</th>\n      <th>view_count</th>\n      <th>Top3_Ratings</th>\n      <th>Is_Jaw_Dropping</th>\n      <th>Positive</th>\n      <th>Neutral</th>\n      <th>Negative</th>\n    </tr>\n  </thead>\n  <tbody>\n    <tr>\n      <th>0</th>\n      <td>4553</td>\n      <td>Sir Ken Robinson makes an entertaining and pro...</td>\n      <td>1164</td>\n      <td>TED2006</td>\n      <td>2006-02-25</td>\n      <td>60</td>\n      <td>Ken Robinson</td>\n      <td>Ken Robinson: Do schools kill creativity?</td>\n      <td>1</td>\n      <td>2006-06-27 00:11:00</td>\n      <td>...</td>\n      <td>Author/educator</td>\n      <td>['children', 'creativity', 'culture', 'dance',...</td>\n      <td>Do schools kill creativity?</td>\n      <td>https://www.ted.com/talks/ken_robinson_says_sc...</td>\n      <td>47227110</td>\n      <td>Inspiring, Funny, Persuasive</td>\n      <td>False</td>\n      <td>91538</td>\n      <td>92712</td>\n      <td>1138</td>\n    </tr>\n    <tr>\n      <th>1</th>\n      <td>265</td>\n      <td>With the same humor and humanity he exuded in ...</td>\n      <td>977</td>\n      <td>TED2006</td>\n      <td>2006-02-25</td>\n      <td>43</td>\n      <td>Al Gore</td>\n      <td>Al Gore: Averting the climate crisis</td>\n      <td>1</td>\n      <td>2006-06-27 00:11:00</td>\n      <td>...</td>\n      <td>Climate advocate</td>\n      <td>['alternative energy', 'cars', 'climate change...</td>\n      <td>Averting the climate crisis</td>\n      <td>https://www.ted.com/talks/al_gore_on_averting_...</td>\n      <td>3200520</td>\n      <td>Funny, Informative, Inspiring</td>\n      <td>False</td>\n      <td>2169</td>\n      <td>2372</td>\n      <td>564</td>\n    </tr>\n    <tr>\n      <th>2</th>\n      <td>124</td>\n      <td>New York Times columnist David Pogue takes aim...</td>\n      <td>1286</td>\n      <td>TED2006</td>\n      <td>2006-02-24</td>\n      <td>26</td>\n      <td>David Pogue</td>\n      <td>David Pogue: Simplicity sells</td>\n      <td>1</td>\n      <td>2006-06-27 00:11:00</td>\n      <td>...</td>\n      <td>Technology columnist</td>\n      <td>['computers', 'entertainment', 'interface desi...</td>\n      <td>Simplicity sells</td>\n      <td>https://www.ted.com/talks/david_pogue_says_sim...</td>\n      <td>1636292</td>\n      <td>Funny, Informative, Inspiring</td>\n      <td>False</td>\n      <td>2327</td>\n      <td>2473</td>\n      <td>351</td>\n    </tr>\n    <tr>\n      <th>3</th>\n      <td>200</td>\n      <td>In an emotionally charged talk, MacArthur-winn...</td>\n      <td>1116</td>\n      <td>TED2006</td>\n      <td>2006-02-26</td>\n      <td>35</td>\n      <td>Majora Carter</td>\n      <td>Majora Carter: Greening the ghetto</td>\n      <td>1</td>\n      <td>2006-06-27 00:11:00</td>\n      <td>...</td>\n      <td>Activist for environmental justice</td>\n      <td>['MacArthur grant', 'activism', 'business', 'c...</td>\n      <td>Greening the ghetto</td>\n      <td>https://www.ted.com/talks/majora_carter_s_tale...</td>\n      <td>1697550</td>\n      <td>Inspiring, Courageous, Persuasive</td>\n      <td>False</td>\n      <td>3487</td>\n      <td>3572</td>\n      <td>156</td>\n    </tr>\n    <tr>\n      <th>4</th>\n      <td>593</td>\n      <td>You've never seen data presented like this. Wi...</td>\n      <td>1190</td>\n      <td>TED2006</td>\n      <td>2006-02-22</td>\n      <td>48</td>\n      <td>Hans Rosling</td>\n      <td>Hans Rosling: The best stats you've ever seen</td>\n      <td>1</td>\n      <td>2006-06-27 20:38:00</td>\n      <td>...</td>\n      <td>Global health expert; data visionary</td>\n      <td>['Africa', 'Asia', 'Google', 'demo', 'economic...</td>\n      <td>The best stats you've ever seen</td>\n      <td>https://www.ted.com/talks/hans_rosling_shows_t...</td>\n      <td>12005869</td>\n      <td>Informative, Fascinating, Jaw-dropping</td>\n      <td>True</td>\n      <td>25062</td>\n      <td>25310</td>\n      <td>310</td>\n    </tr>\n    <tr>\n      <th>...</th>\n      <td>...</td>\n      <td>...</td>\n      <td>...</td>\n      <td>...</td>\n      <td>...</td>\n      <td>...</td>\n      <td>...</td>\n      <td>...</td>\n      <td>...</td>\n      <td>...</td>\n      <td>...</td>\n      <td>...</td>\n      <td>...</td>\n      <td>...</td>\n      <td>...</td>\n      <td>...</td>\n      <td>...</td>\n      <td>...</td>\n      <td>...</td>\n      <td>...</td>\n      <td>...</td>\n    </tr>\n    <tr>\n      <th>2545</th>\n      <td>17</td>\n      <td>Between 2008 and 2016, the United States depor...</td>\n      <td>476</td>\n      <td>TED2017</td>\n      <td>2017-06-06</td>\n      <td>4</td>\n      <td>Duarte Geraldino</td>\n      <td>Duarte Geraldino: What we're missing in the de...</td>\n      <td>1</td>\n      <td>2017-09-19 20:00:16</td>\n      <td>...</td>\n      <td>Journalist</td>\n      <td>['TED Residency', 'United States', 'community'...</td>\n      <td>What we're missing in the debate about immigra...</td>\n      <td>https://www.ted.com/talks/duarte_geraldino_wha...</td>\n      <td>450430</td>\n      <td>Informative, Inspiring, Courageous</td>\n      <td>False</td>\n      <td>174</td>\n      <td>174</td>\n      <td>18</td>\n    </tr>\n    <tr>\n      <th>2546</th>\n      <td>6</td>\n      <td>How can you study Mars without a spaceship? He...</td>\n      <td>290</td>\n      <td>TED2017</td>\n      <td>2017-04-24</td>\n      <td>3</td>\n      <td>Armando Azua-Bustos</td>\n      <td>Armando Azua-Bustos: The most Martian place on...</td>\n      <td>1</td>\n      <td>2017-09-20 15:02:17</td>\n      <td>...</td>\n      <td>Astrobiologist</td>\n      <td>['Mars', 'South America', 'TED Fellows', 'astr...</td>\n      <td>The most Martian place on Earth</td>\n      <td>https://www.ted.com/talks/armando_azua_bustos_...</td>\n      <td>417470</td>\n      <td>Informative, Fascinating, Inspiring</td>\n      <td>False</td>\n      <td>137</td>\n      <td>150</td>\n      <td>1</td>\n    </tr>\n    <tr>\n      <th>2547</th>\n      <td>10</td>\n      <td>Science fiction visions of the future show us ...</td>\n      <td>651</td>\n      <td>TED2017</td>\n      <td>2017-04-24</td>\n      <td>1</td>\n      <td>Radhika Nagpal</td>\n      <td>Radhika Nagpal: What intelligent machines can ...</td>\n      <td>1</td>\n      <td>2017-09-21 15:01:35</td>\n      <td>...</td>\n      <td>Robotics engineer</td>\n      <td>['AI', 'ants', 'fish', 'future', 'innovation',...</td>\n      <td>What intelligent machines can learn from a sch...</td>\n      <td>https://www.ted.com/talks/radhika_nagpal_what_...</td>\n      <td>375647</td>\n      <td>Informative, Inspiring, Fascinating</td>\n      <td>False</td>\n      <td>126</td>\n      <td>130</td>\n      <td>6</td>\n    </tr>\n    <tr>\n      <th>2548</th>\n      <td>32</td>\n      <td>In an unmissable talk about race and politics ...</td>\n      <td>1100</td>\n      <td>TEDxMileHigh</td>\n      <td>2017-07-08</td>\n      <td>1</td>\n      <td>Theo E.J. Wilson</td>\n      <td>Theo E.J. Wilson: A black man goes undercover ...</td>\n      <td>1</td>\n      <td>2017-09-21 20:00:42</td>\n      <td>...</td>\n      <td>Public intellectual</td>\n      <td>['Internet', 'TEDx', 'United States', 'communi...</td>\n      <td>A black man goes undercover in the alt-right</td>\n      <td>https://www.ted.com/talks/theo_e_j_wilson_a_bl...</td>\n      <td>419309</td>\n      <td>Inspiring, Courageous, Informative</td>\n      <td>False</td>\n      <td>561</td>\n      <td>566</td>\n      <td>17</td>\n    </tr>\n    <tr>\n      <th>2549</th>\n      <td>8</td>\n      <td>With more than half of the world population li...</td>\n      <td>519</td>\n      <td>TED2017</td>\n      <td>2017-04-24</td>\n      <td>1</td>\n      <td>Karoliina Korppoo</td>\n      <td>Karoliina Korppoo: How a video game might help...</td>\n      <td>1</td>\n      <td>2017-09-22 15:00:22</td>\n      <td>...</td>\n      <td>Game designer</td>\n      <td>['cities', 'design', 'future', 'infrastructure...</td>\n      <td>How a video game might help us build better ci...</td>\n      <td>https://www.ted.com/talks/karoliina_korppoo_ho...</td>\n      <td>391721</td>\n      <td>Inspiring, Informative, Unconvincing</td>\n      <td>False</td>\n      <td>94</td>\n      <td>105</td>\n      <td>37</td>\n    </tr>\n  </tbody>\n</table>\n<p>2550 rows × 22 columns</p>\n</div>"
     },
     "execution_count": 221,
     "metadata": {},
     "output_type": "execute_result"
    }
   ],
   "source": [
    "ted "
   ],
   "metadata": {
    "collapsed": false,
    "ExecuteTime": {
     "end_time": "2024-02-21T09:53:04.926162Z",
     "start_time": "2024-02-21T09:53:04.816648900Z"
    }
   }
  },
  {
   "cell_type": "markdown",
   "metadata": {
    "pycharm": {
     "name": "#%% md\n"
    }
   },
   "source": [
    "### Task 3.4 Find speakers with the highest average number of positive ratings per talk"
   ]
  },
  {
   "cell_type": "code",
   "execution_count": 233,
   "outputs": [
    {
     "data": {
      "text/plain": "                   Sum of positive ratings  Talks_Count\nmain_speaker                                           \nKen Robinson                        131137            4\nBrené Brown                          73144            2\nSimon Sinek                          69920            2\nJill Bolte Taylor                    68436            1\nAmy Cuddy                            63814            1\n...                                    ...          ...\nKaroliina Korppoo                       94            1\nFrançoise Mouly                         93            1\nInara George                            77            1\nChance Coughenour                       68            1\nSō Percussion                           45            1\n\n[2156 rows x 2 columns]",
      "text/html": "<div>\n<style scoped>\n    .dataframe tbody tr th:only-of-type {\n        vertical-align: middle;\n    }\n\n    .dataframe tbody tr th {\n        vertical-align: top;\n    }\n\n    .dataframe thead th {\n        text-align: right;\n    }\n</style>\n<table border=\"1\" class=\"dataframe\">\n  <thead>\n    <tr style=\"text-align: right;\">\n      <th></th>\n      <th>Sum of positive ratings</th>\n      <th>Talks_Count</th>\n    </tr>\n    <tr>\n      <th>main_speaker</th>\n      <th></th>\n      <th></th>\n    </tr>\n  </thead>\n  <tbody>\n    <tr>\n      <th>Ken Robinson</th>\n      <td>131137</td>\n      <td>4</td>\n    </tr>\n    <tr>\n      <th>Brené Brown</th>\n      <td>73144</td>\n      <td>2</td>\n    </tr>\n    <tr>\n      <th>Simon Sinek</th>\n      <td>69920</td>\n      <td>2</td>\n    </tr>\n    <tr>\n      <th>Jill Bolte Taylor</th>\n      <td>68436</td>\n      <td>1</td>\n    </tr>\n    <tr>\n      <th>Amy Cuddy</th>\n      <td>63814</td>\n      <td>1</td>\n    </tr>\n    <tr>\n      <th>...</th>\n      <td>...</td>\n      <td>...</td>\n    </tr>\n    <tr>\n      <th>Karoliina Korppoo</th>\n      <td>94</td>\n      <td>1</td>\n    </tr>\n    <tr>\n      <th>Françoise Mouly</th>\n      <td>93</td>\n      <td>1</td>\n    </tr>\n    <tr>\n      <th>Inara George</th>\n      <td>77</td>\n      <td>1</td>\n    </tr>\n    <tr>\n      <th>Chance Coughenour</th>\n      <td>68</td>\n      <td>1</td>\n    </tr>\n    <tr>\n      <th>Sō Percussion</th>\n      <td>45</td>\n      <td>1</td>\n    </tr>\n  </tbody>\n</table>\n<p>2156 rows × 2 columns</p>\n</div>"
     },
     "execution_count": 233,
     "metadata": {},
     "output_type": "execute_result"
    }
   ],
   "source": [
    "speakers_positive =ted.groupby('main_speaker')['Positive'].agg(['sum','count']).sort_values(by='sum',ascending=False)\n",
    "speakers_positive.columns=['Sum of positive ratings','Talks_Count']\n",
    "speakers_positive"
   ],
   "metadata": {
    "collapsed": false,
    "ExecuteTime": {
     "end_time": "2024-02-21T09:56:38.083345400Z",
     "start_time": "2024-02-21T09:56:37.983086100Z"
    }
   }
  },
  {
   "cell_type": "code",
   "execution_count": 234,
   "outputs": [],
   "source": [
    "medina_talks = speakers_positive.describe().loc['50%','Talks_Count']"
   ],
   "metadata": {
    "collapsed": false,
    "ExecuteTime": {
     "end_time": "2024-02-21T09:56:50.924741700Z",
     "start_time": "2024-02-21T09:56:50.814203500Z"
    }
   }
  },
  {
   "cell_type": "code",
   "execution_count": 236,
   "outputs": [
    {
     "data": {
      "text/plain": "                          Sum of positive ratings  Talks_Count\nmain_speaker                                                  \nKen Robinson                               131137            4\nBrené Brown                                 73144            2\nSimon Sinek                                 69920            2\nHans Rosling                                61260            9\nDavid Gallo                                 32686            3\nChimamanda Ngozi Adichie                    30858            2\nJulian Treasure                             29752            5\nDan Gilbert                                 28587            3\nElizabeth Gilbert                           28099            2\nAndrew Solomon                              27785            3",
      "text/html": "<div>\n<style scoped>\n    .dataframe tbody tr th:only-of-type {\n        vertical-align: middle;\n    }\n\n    .dataframe tbody tr th {\n        vertical-align: top;\n    }\n\n    .dataframe thead th {\n        text-align: right;\n    }\n</style>\n<table border=\"1\" class=\"dataframe\">\n  <thead>\n    <tr style=\"text-align: right;\">\n      <th></th>\n      <th>Sum of positive ratings</th>\n      <th>Talks_Count</th>\n    </tr>\n    <tr>\n      <th>main_speaker</th>\n      <th></th>\n      <th></th>\n    </tr>\n  </thead>\n  <tbody>\n    <tr>\n      <th>Ken Robinson</th>\n      <td>131137</td>\n      <td>4</td>\n    </tr>\n    <tr>\n      <th>Brené Brown</th>\n      <td>73144</td>\n      <td>2</td>\n    </tr>\n    <tr>\n      <th>Simon Sinek</th>\n      <td>69920</td>\n      <td>2</td>\n    </tr>\n    <tr>\n      <th>Hans Rosling</th>\n      <td>61260</td>\n      <td>9</td>\n    </tr>\n    <tr>\n      <th>David Gallo</th>\n      <td>32686</td>\n      <td>3</td>\n    </tr>\n    <tr>\n      <th>Chimamanda Ngozi Adichie</th>\n      <td>30858</td>\n      <td>2</td>\n    </tr>\n    <tr>\n      <th>Julian Treasure</th>\n      <td>29752</td>\n      <td>5</td>\n    </tr>\n    <tr>\n      <th>Dan Gilbert</th>\n      <td>28587</td>\n      <td>3</td>\n    </tr>\n    <tr>\n      <th>Elizabeth Gilbert</th>\n      <td>28099</td>\n      <td>2</td>\n    </tr>\n    <tr>\n      <th>Andrew Solomon</th>\n      <td>27785</td>\n      <td>3</td>\n    </tr>\n  </tbody>\n</table>\n</div>"
     },
     "execution_count": 236,
     "metadata": {},
     "output_type": "execute_result"
    }
   ],
   "source": [
    "speakers_positive.loc[speakers_positive['Talks_Count']>medina_talks].head(10)"
   ],
   "metadata": {
    "collapsed": false,
    "ExecuteTime": {
     "end_time": "2024-02-21T09:57:43.890994Z",
     "start_time": "2024-02-21T09:57:43.759725800Z"
    }
   }
  },
  {
   "cell_type": "markdown",
   "metadata": {
    "pycharm": {
     "name": "#%% md\n"
    }
   },
   "source": [
    "### Task 3.5 Identify 10 speakers with the largest proportion of negative ratings "
   ]
  },
  {
   "cell_type": "code",
   "execution_count": 255,
   "outputs": [
    {
     "data": {
      "text/plain": "0       185388\n1         5105\n2         5151\n3         7215\n4        50682\n         ...  \n2545       366\n2546       288\n2547       262\n2548      1144\n2549       236\nName: Total, Length: 2550, dtype: int64"
     },
     "execution_count": 255,
     "metadata": {},
     "output_type": "execute_result"
    }
   ],
   "source": [
    "sum_of_ratings = ted[['Positive','Negative','Neutral']].sum(axis='columns')\n",
    "sum_of_ratings.name='Total'\n",
    "sum_of_ratings"
   ],
   "metadata": {
    "collapsed": false,
    "ExecuteTime": {
     "end_time": "2024-02-21T10:03:04.223315800Z",
     "start_time": "2024-02-21T10:03:04.108640400Z"
    }
   }
  },
  {
   "cell_type": "code",
   "execution_count": 257,
   "outputs": [],
   "source": [
    "ted = pd.concat([ted,sum_of_ratings],axis='columns')"
   ],
   "metadata": {
    "collapsed": false,
    "ExecuteTime": {
     "end_time": "2024-02-21T10:03:16.216073300Z",
     "start_time": "2024-02-21T10:03:16.084878800Z"
    }
   }
  },
  {
   "cell_type": "code",
   "execution_count": 260,
   "outputs": [],
   "source": [
    "ted['Negative_Prop']=ted['Negative']/ted['Total']"
   ],
   "metadata": {
    "collapsed": false,
    "ExecuteTime": {
     "end_time": "2024-02-21T10:05:07.217589800Z",
     "start_time": "2024-02-21T10:05:07.096054800Z"
    }
   }
  },
  {
   "cell_type": "code",
   "execution_count": 279,
   "outputs": [],
   "source": [
    "stats = ted.groupby('main_speaker')['Negative_Prop'].mean().sort_values(ascending=False).describe()\n",
    "median = stats.loc['50%']\n",
    "neg_prop = ted.groupby('main_speaker')['Negative_Prop'].mean().sort_values(ascending=False)"
   ],
   "metadata": {
    "collapsed": false,
    "ExecuteTime": {
     "end_time": "2024-02-21T10:09:51.955348700Z",
     "start_time": "2024-02-21T10:09:51.837521100Z"
    }
   }
  },
  {
   "cell_type": "markdown",
   "metadata": {
    "pycharm": {
     "name": "#%% md\n"
    }
   },
   "source": [
    "### Task 3.6 Which occupations deliver the funniest TED talks on average?\n",
    "\n",
    "(Consider also how well represented occupations are)"
   ]
  },
  {
   "cell_type": "markdown",
   "metadata": {
    "pycharm": {
     "name": "#%% md\n"
    }
   },
   "source": [
    "We'll start by computing the number of Funny ratings per talk and storing the results in the (new) column 'funny_ratings'"
   ]
  },
  {
   "cell_type": "code",
   "execution_count": 280,
   "outputs": [],
   "source": [
    "def funny_count(ratings):\n",
    "    funny_sum=0\n",
    "    for rating in ratings:\n",
    "        if rating['name'] == 'Funny':\n",
    "            funny_sum += rating['count']\n",
    "    return funny_sum"
   ],
   "metadata": {
    "collapsed": false,
    "ExecuteTime": {
     "end_time": "2024-02-21T10:38:43.915713200Z",
     "start_time": "2024-02-21T10:38:43.878287300Z"
    }
   }
  },
  {
   "cell_type": "code",
   "execution_count": 281,
   "outputs": [],
   "source": [
    "funny_list=[]\n",
    "for ratings in ted['ratings']:\n",
    "    funny_list.append(funny_count(ratings))\n",
    "    "
   ],
   "metadata": {
    "collapsed": false,
    "ExecuteTime": {
     "end_time": "2024-02-21T10:40:10.078797800Z",
     "start_time": "2024-02-21T10:40:09.818421800Z"
    }
   }
  },
  {
   "cell_type": "code",
   "execution_count": 297,
   "outputs": [
    {
     "data": {
      "text/plain": "0       19645\n1         544\n2         964\n3          59\n4        1390\n        ...  \n2545        1\n2546       20\n2547        1\n2548       63\n2549        0\nName: Funny, Length: 2550, dtype: int64"
     },
     "execution_count": 297,
     "metadata": {},
     "output_type": "execute_result"
    }
   ],
   "source": [
    "funny_series = pd.Series(funny_list)\n",
    "funny_series.name='Funny'\n",
    "funny_series"
   ],
   "metadata": {
    "collapsed": false,
    "ExecuteTime": {
     "end_time": "2024-02-21T10:45:21.474035200Z",
     "start_time": "2024-02-21T10:45:21.265019100Z"
    }
   }
  },
  {
   "cell_type": "code",
   "execution_count": 298,
   "outputs": [],
   "source": [
    "ted = pd.concat([ted, funny_series],axis='columns')"
   ],
   "metadata": {
    "collapsed": false,
    "ExecuteTime": {
     "end_time": "2024-02-21T10:45:24.831092Z",
     "start_time": "2024-02-21T10:45:24.824683800Z"
    }
   }
  },
  {
   "cell_type": "code",
   "execution_count": 315,
   "outputs": [
    {
     "data": {
      "text/plain": "                                            Sum of funny ratings  \\\nspeaker_occupation                                                 \nComedian                                                   11034   \nData scientist                                              6098   \nPerformance poet, multimedia artist                         5073   \nGlobal health expert; data visionary                        5401   \nPsychologist                                               11387   \n...                                                          ...   \nEnvironmentalist, futurist                                    44   \nSurgeon                                                       35   \nInvestor and advocate for moral leadership                    31   \nPhotojournalist                                               35   \nPhysician                                                     29   \n\n                                            Funny talks count  \\\nspeaker_occupation                                              \nComedian                                                    6   \nData scientist                                              5   \nPerformance poet, multimedia artist                         6   \nGlobal health expert; data visionary                       10   \nPsychologist                                               26   \n...                                                       ...   \nEnvironmentalist, futurist                                  5   \nSurgeon                                                     5   \nInvestor and advocate for moral leadership                  5   \nPhotojournalist                                             6   \nPhysician                                                   5   \n\n                                            Mean sum of funny ratings  \nspeaker_occupation                                                     \nComedian                                                  1839.000000  \nData scientist                                            1219.600000  \nPerformance poet, multimedia artist                        845.500000  \nGlobal health expert; data visionary                       540.100000  \nPsychologist                                               437.961538  \n...                                                               ...  \nEnvironmentalist, futurist                                   8.800000  \nSurgeon                                                      7.000000  \nInvestor and advocate for moral leadership                   6.200000  \nPhotojournalist                                              5.833333  \nPhysician                                                    5.800000  \n\n[69 rows x 3 columns]",
      "text/html": "<div>\n<style scoped>\n    .dataframe tbody tr th:only-of-type {\n        vertical-align: middle;\n    }\n\n    .dataframe tbody tr th {\n        vertical-align: top;\n    }\n\n    .dataframe thead th {\n        text-align: right;\n    }\n</style>\n<table border=\"1\" class=\"dataframe\">\n  <thead>\n    <tr style=\"text-align: right;\">\n      <th></th>\n      <th>Sum of funny ratings</th>\n      <th>Funny talks count</th>\n      <th>Mean sum of funny ratings</th>\n    </tr>\n    <tr>\n      <th>speaker_occupation</th>\n      <th></th>\n      <th></th>\n      <th></th>\n    </tr>\n  </thead>\n  <tbody>\n    <tr>\n      <th>Comedian</th>\n      <td>11034</td>\n      <td>6</td>\n      <td>1839.000000</td>\n    </tr>\n    <tr>\n      <th>Data scientist</th>\n      <td>6098</td>\n      <td>5</td>\n      <td>1219.600000</td>\n    </tr>\n    <tr>\n      <th>Performance poet, multimedia artist</th>\n      <td>5073</td>\n      <td>6</td>\n      <td>845.500000</td>\n    </tr>\n    <tr>\n      <th>Global health expert; data visionary</th>\n      <td>5401</td>\n      <td>10</td>\n      <td>540.100000</td>\n    </tr>\n    <tr>\n      <th>Psychologist</th>\n      <td>11387</td>\n      <td>26</td>\n      <td>437.961538</td>\n    </tr>\n    <tr>\n      <th>...</th>\n      <td>...</td>\n      <td>...</td>\n      <td>...</td>\n    </tr>\n    <tr>\n      <th>Environmentalist, futurist</th>\n      <td>44</td>\n      <td>5</td>\n      <td>8.800000</td>\n    </tr>\n    <tr>\n      <th>Surgeon</th>\n      <td>35</td>\n      <td>5</td>\n      <td>7.000000</td>\n    </tr>\n    <tr>\n      <th>Investor and advocate for moral leadership</th>\n      <td>31</td>\n      <td>5</td>\n      <td>6.200000</td>\n    </tr>\n    <tr>\n      <th>Photojournalist</th>\n      <td>35</td>\n      <td>6</td>\n      <td>5.833333</td>\n    </tr>\n    <tr>\n      <th>Physician</th>\n      <td>29</td>\n      <td>5</td>\n      <td>5.800000</td>\n    </tr>\n  </tbody>\n</table>\n<p>69 rows × 3 columns</p>\n</div>"
     },
     "execution_count": 315,
     "metadata": {},
     "output_type": "execute_result"
    }
   ],
   "source": [
    "occupation_funny = ted.groupby('speaker_occupation')['Funny'].agg(['sum','count','mean']) \n",
    "occupation_funny.columns = ['Sum of funny ratings','Funny talks count','Mean sum of funny ratings']\n",
    "occupation_funny.describe() # 75% okupacija ima samo jedan talk. Hajde da posmatramo one koje imaju više\n",
    "occupation_funny['Funny talks count'].quantile([0.75, 0.8, 0.9, 0.95]) # samo 5% okupacija ima vise od 4 talka\n",
    "occupation_funny.loc[occupation_funny['Funny talks count']>4].sort_values(by='Mean sum of funny ratings', ascending=False)"
   ],
   "metadata": {
    "collapsed": false,
    "ExecuteTime": {
     "end_time": "2024-02-21T10:53:00.551046200Z",
     "start_time": "2024-02-21T10:53:00.356047Z"
    }
   }
  },
  {
   "cell_type": "markdown",
   "metadata": {
    "pycharm": {
     "name": "#%% md\n"
    }
   },
   "source": [
    "### Task 4. Examine the topics of the top 100 'Inspiring' talks, present them in a tag cloud \n",
    "\n",
    "While talks can be ranked based on a variety of criteria, we will value and rank them based on the proportion of positive ratings"
   ]
  },
  {
   "cell_type": "code",
   "execution_count": 316,
   "outputs": [],
   "source": [
    "def is_inspiring(top3):\n",
    "    lst = top3.split(', ')\n",
    "    for rating in lst:\n",
    "        if rating =='Inspiring':\n",
    "            return True\n",
    "    return False "
   ],
   "metadata": {
    "collapsed": false,
    "ExecuteTime": {
     "end_time": "2024-02-21T10:58:07.118290700Z",
     "start_time": "2024-02-21T10:58:06.989110700Z"
    }
   }
  },
  {
   "cell_type": "code",
   "execution_count": 317,
   "outputs": [],
   "source": [
    "ted['Inspiring_Count'] = ted['Positive']/ted['Total']"
   ],
   "metadata": {
    "collapsed": false,
    "ExecuteTime": {
     "end_time": "2024-02-21T10:58:52.848167700Z",
     "start_time": "2024-02-21T10:58:52.686397300Z"
    }
   }
  },
  {
   "cell_type": "code",
   "execution_count": 318,
   "outputs": [],
   "source": [
    "insp_list = []\n",
    "for rating in ted['Top3_Ratings']:\n",
    "    insp_list.append(is_inspiring(rating))\n",
    "    "
   ],
   "metadata": {
    "collapsed": false,
    "ExecuteTime": {
     "end_time": "2024-02-21T11:00:25.540437100Z",
     "start_time": "2024-02-21T11:00:25.358835300Z"
    }
   }
  },
  {
   "cell_type": "code",
   "execution_count": 323,
   "outputs": [
    {
     "data": {
      "text/plain": "0        True\n1        True\n2        True\n3        True\n4       False\n        ...  \n2545     True\n2546     True\n2547     True\n2548     True\n2549     True\nName: Inspiring, Length: 2550, dtype: bool"
     },
     "execution_count": 323,
     "metadata": {},
     "output_type": "execute_result"
    }
   ],
   "source": [
    "isinsp = pd.Series(insp_list)\n",
    "isinsp.name=\"Inspiring\"\n",
    "isinsp"
   ],
   "metadata": {
    "collapsed": false,
    "ExecuteTime": {
     "end_time": "2024-02-21T11:01:08.946744600Z",
     "start_time": "2024-02-21T11:01:08.742464100Z"
    }
   }
  },
  {
   "cell_type": "code",
   "execution_count": 325,
   "outputs": [],
   "source": [
    "ted = pd.concat([ted,isinsp],axis='columns')"
   ],
   "metadata": {
    "collapsed": false,
    "ExecuteTime": {
     "end_time": "2024-02-21T11:01:35.598587300Z",
     "start_time": "2024-02-21T11:01:35.401509400Z"
    }
   }
  },
  {
   "cell_type": "code",
   "execution_count": 327,
   "outputs": [],
   "source": [
    "ted['PosProp']= ted['Positive']/ted['Total']"
   ],
   "metadata": {
    "collapsed": false,
    "ExecuteTime": {
     "end_time": "2024-02-21T11:02:54.938743700Z",
     "start_time": "2024-02-21T11:02:54.762978200Z"
    }
   }
  },
  {
   "cell_type": "code",
   "execution_count": 331,
   "outputs": [],
   "source": [
    "top100 = ted.loc[ted['Inspiring']==True].sort_values(by='PosProp',ascending=False).head(100)"
   ],
   "metadata": {
    "collapsed": false,
    "ExecuteTime": {
     "end_time": "2024-02-21T11:04:06.701238900Z",
     "start_time": "2024-02-21T11:04:06.516670400Z"
    }
   }
  },
  {
   "cell_type": "code",
   "execution_count": 340,
   "outputs": [],
   "source": [
    "top100.tags = top100.tags.apply(literal_eval)"
   ],
   "metadata": {
    "collapsed": false,
    "ExecuteTime": {
     "end_time": "2024-02-21T11:06:50.246659100Z",
     "start_time": "2024-02-21T11:06:50.068260400Z"
    }
   }
  },
  {
   "cell_type": "code",
   "execution_count": 342,
   "outputs": [],
   "source": [
    "set_tags = set()\n",
    "for tags in top100.tags:\n",
    "    for tag in tags:\n",
    "        set_tags.add(tag)"
   ],
   "metadata": {
    "collapsed": false,
    "ExecuteTime": {
     "end_time": "2024-02-21T11:07:07.220136700Z",
     "start_time": "2024-02-21T11:07:07.104380500Z"
    }
   }
  },
  {
   "cell_type": "code",
   "execution_count": 343,
   "outputs": [
    {
     "data": {
      "text/plain": "{'Addiction',\n 'Africa',\n 'Asia',\n 'Autism spectrum disorder',\n 'Bioethics',\n 'Blindness',\n 'Criminal Justice',\n 'DNA',\n 'Egypt',\n 'Europe',\n 'Gender equality',\n 'Google',\n 'Human body',\n 'Internet',\n 'LGBT',\n 'Middle East',\n 'PTSD',\n 'Senses',\n 'Slavery',\n 'TED Brain Trust',\n 'TED Fellows',\n 'TED Prize',\n 'TED Residency',\n 'TED en Español',\n 'TEDMED',\n 'TEDNYC',\n 'TEDYouth',\n 'TEDx',\n 'United States',\n 'activism',\n 'adventure',\n 'aging',\n 'agriculture',\n 'ancient world',\n 'animals',\n 'animation',\n 'archaeology',\n 'architecture',\n 'art',\n 'beauty',\n 'big problems',\n 'biodiversity',\n 'biology',\n 'biomechanics',\n 'biomimicry',\n 'biotech',\n 'body language',\n 'botany',\n 'brain',\n 'bullying',\n 'business',\n 'cancer',\n 'chemistry',\n 'children',\n 'choice',\n 'cities',\n 'climate change',\n 'code',\n 'cognitive science',\n 'collaboration',\n 'comedy',\n 'communication',\n 'community',\n 'compassion',\n 'composing',\n 'computers',\n 'conducting',\n 'conservation',\n 'creativity',\n 'crime',\n 'crowdsourcing',\n 'culture',\n 'curiosity',\n 'dance',\n 'data',\n 'death',\n 'decision-making',\n 'democracy',\n 'depression',\n 'design',\n 'disability',\n 'discovery',\n 'disease',\n 'drones',\n 'ecology',\n 'economics',\n 'education',\n 'empathy',\n 'engineering',\n 'entertainment',\n 'entrepreneur',\n 'environment',\n 'epidemiology',\n 'exoskeleton',\n 'exploration',\n 'failure',\n 'family',\n 'farming',\n 'fashion',\n 'fear',\n 'feminism',\n 'film',\n 'fish',\n 'food',\n 'future',\n 'garden',\n 'gender',\n 'genetics',\n 'global development',\n 'global issues',\n 'goal-setting',\n 'government',\n 'green',\n 'happiness',\n 'health',\n 'health care',\n 'history',\n 'humanity',\n 'humor',\n 'identity',\n 'illness',\n 'immigration',\n 'india',\n 'inequality',\n 'innovation',\n 'intelligence',\n 'interface design',\n 'invention',\n 'journalism',\n 'language',\n 'law',\n 'leadership',\n 'life',\n 'live music',\n 'love',\n 'manufacturing',\n 'map',\n 'materials',\n 'media',\n 'medical research',\n 'medicine',\n 'meditation',\n 'mental health',\n 'microbiology',\n 'military',\n 'mind',\n 'mindfulness',\n 'mission blue',\n 'motivation',\n 'movies',\n 'museums',\n 'music',\n 'nature',\n 'neuroscience',\n 'oceans',\n 'online video',\n 'open-source',\n 'pain',\n 'painting',\n 'parenting',\n 'peace',\n 'performance',\n 'personal growth',\n 'philosophy',\n 'photography',\n 'physics',\n 'plants',\n 'plastic',\n 'play',\n 'poetry',\n 'policy',\n 'politics',\n 'pollution',\n 'poverty',\n 'pregnancy',\n 'product design',\n 'productivity',\n 'prosthetics',\n 'psychology',\n 'public health',\n 'public spaces',\n 'race',\n 'refugees',\n 'relationships',\n 'religion',\n 'rivers',\n 'robots',\n 'sanitation',\n 'science',\n 'science and art',\n 'self',\n 'sex',\n 'sexual violence',\n 'sleep',\n 'smell',\n 'social change',\n 'social media',\n 'society',\n 'sociology',\n 'software',\n 'sound',\n 'speech',\n 'spoken word',\n 'statistics',\n 'storytelling',\n 'student',\n 'submarine',\n 'success',\n 'sustainability',\n 'teaching',\n 'technology',\n 'terrorism',\n 'testing',\n 'time',\n 'trafficking',\n 'trees',\n 'urban planning',\n 'violence',\n 'virtual reality',\n 'visualizations',\n 'vulnerability',\n 'war',\n 'water',\n 'wikipedia',\n 'women',\n 'work',\n 'work-life balance',\n 'writing'}"
     },
     "execution_count": 343,
     "metadata": {},
     "output_type": "execute_result"
    }
   ],
   "source": [
    "set_tags # svi tagovi iz top100 koji postoje"
   ],
   "metadata": {
    "collapsed": false,
    "ExecuteTime": {
     "end_time": "2024-02-21T11:07:09.852967100Z",
     "start_time": "2024-02-21T11:07:09.802375Z"
    }
   }
  },
  {
   "cell_type": "code",
   "execution_count": 346,
   "outputs": [],
   "source": [
    "dict_of_tags=defaultdict(int)\n",
    "for tags in top100.tags:\n",
    "    for tag in tags:\n",
    "        dict_of_tags[tag]+=1\n",
    "        "
   ],
   "metadata": {
    "collapsed": false,
    "ExecuteTime": {
     "end_time": "2024-02-21T11:09:13.520578900Z",
     "start_time": "2024-02-21T11:09:13.404864600Z"
    }
   }
  },
  {
   "cell_type": "code",
   "execution_count": 356,
   "outputs": [],
   "source": [
    "final_dict_tags = dict(sorted(dict_of_tags.items(),key=lambda el:el[1], reverse=True))"
   ],
   "metadata": {
    "collapsed": false,
    "ExecuteTime": {
     "end_time": "2024-02-21T11:13:08.306250400Z",
     "start_time": "2024-02-21T11:13:08.267835800Z"
    }
   }
  },
  {
   "cell_type": "code",
   "execution_count": 357,
   "outputs": [
    {
     "data": {
      "text/plain": "{'TEDx': 22,\n 'humanity': 18,\n 'health': 18,\n 'social change': 17,\n 'culture': 15,\n 'global issues': 15,\n 'education': 15,\n 'personal growth': 15,\n 'children': 14,\n 'technology': 13,\n 'science': 13,\n 'society': 12,\n 'community': 12,\n 'health care': 11,\n 'innovation': 10,\n 'design': 10,\n 'family': 10,\n 'TED Fellows': 9,\n 'medicine': 9,\n 'animals': 9,\n 'entertainment': 9,\n 'communication': 9,\n 'identity': 8,\n 'women': 8,\n 'creativity': 8,\n 'teaching': 8,\n 'brain': 7,\n 'motivation': 7,\n 'disability': 7,\n 'collaboration': 7,\n 'compassion': 7,\n 'music': 7,\n 'inequality': 6,\n 'invention': 6,\n 'photography': 6,\n 'biology': 6,\n 'environment': 6,\n 'Africa': 6,\n 'activism': 6,\n 'mental health': 6,\n 'fear': 6,\n 'illness': 6,\n 'business': 6,\n 'art': 6,\n 'work': 6,\n 'disease': 5,\n 'war': 5,\n 'psychology': 5,\n 'mind': 5,\n 'adventure': 5,\n 'goal-setting': 5,\n 'life': 5,\n 'parenting': 5,\n 'biodiversity': 5,\n 'cancer': 5,\n 'TEDMED': 5,\n 'writing': 4,\n 'history': 4,\n 'nature': 4,\n 'oceans': 4,\n 'water': 4,\n 'global development': 4,\n 'self': 4,\n 'garden': 4,\n 'choice': 4,\n 'success': 4,\n 'death': 4,\n 'happiness': 4,\n 'storytelling': 4,\n 'architecture': 4,\n 'medical research': 4,\n 'depression': 4,\n 'live music': 4,\n 'sustainability': 4,\n 'empathy': 4,\n 'violence': 4,\n 'poverty': 4,\n 'beauty': 4,\n 'visualizations': 4,\n 'Criminal Justice': 3,\n 'United States': 3,\n 'law': 3,\n 'government': 3,\n 'politics': 3,\n 'climate change': 3,\n 'exoskeleton': 3,\n 'pollution': 3,\n 'computers': 3,\n 'agriculture': 3,\n 'food': 3,\n 'comedy': 3,\n 'humor': 3,\n 'open-source': 3,\n 'entrepreneur': 3,\n 'cities': 3,\n 'TED Residency': 3,\n 'green': 3,\n 'conducting': 3,\n 'performance': 3,\n 'Middle East': 3,\n 'peace': 3,\n 'prosthetics': 3,\n 'future': 3,\n 'exploration': 3,\n 'leadership': 3,\n 'immigration': 2,\n 'journalism': 2,\n 'product design': 2,\n 'ancient world': 2,\n 'conservation': 2,\n 'terrorism': 2,\n 'microbiology': 2,\n 'Blindness': 2,\n 'cognitive science': 2,\n 'neuroscience': 2,\n 'curiosity': 2,\n 'failure': 2,\n 'sociology': 2,\n 'public spaces': 2,\n 'Gender equality': 2,\n 'film': 2,\n 'pain': 2,\n 'Internet': 2,\n 'language': 2,\n 'poetry': 2,\n 'mission blue': 2,\n 'drones': 2,\n 'online video': 2,\n 'TED Prize': 2,\n 'Asia': 2,\n 'decision-making': 2,\n 'race': 2,\n 'productivity': 2,\n 'science and art': 2,\n 'engineering': 2,\n 'public health': 2,\n 'ecology': 2,\n 'dance': 2,\n 'speech': 2,\n 'love': 2,\n 'relationships': 2,\n 'work-life balance': 2,\n 'aging': 2,\n 'Autism spectrum disorder': 2,\n 'DNA': 2,\n 'epidemiology': 2,\n 'fish': 2,\n 'TED en Español': 1,\n 'democracy': 1,\n 'archaeology': 1,\n 'museums': 1,\n 'Addiction': 1,\n 'interface design': 1,\n 'social media': 1,\n 'software': 1,\n 'refugees': 1,\n 'feminism': 1,\n 'rivers': 1,\n 'gender': 1,\n 'wikipedia': 1,\n 'bullying': 1,\n 'spoken word': 1,\n 'biomechanics': 1,\n 'chemistry': 1,\n 'crowdsourcing': 1,\n 'virtual reality': 1,\n 'Slavery': 1,\n 'sex': 1,\n 'sexual violence': 1,\n 'trafficking': 1,\n 'student': 1,\n 'testing': 1,\n 'big problems': 1,\n 'policy': 1,\n 'urban planning': 1,\n 'Egypt': 1,\n 'painting': 1,\n 'sanitation': 1,\n 'Google': 1,\n 'economics': 1,\n 'statistics': 1,\n 'smell': 1,\n 'Human body': 1,\n 'body language': 1,\n 'biomimicry': 1,\n 'farming': 1,\n 'manufacturing': 1,\n 'materials': 1,\n 'data': 1,\n 'map': 1,\n 'plastic': 1,\n 'plants': 1,\n 'trees': 1,\n 'Europe': 1,\n 'code': 1,\n 'robots': 1,\n 'religion': 1,\n 'meditation': 1,\n 'animation': 1,\n 'discovery': 1,\n 'Senses': 1,\n 'TEDNYC': 1,\n 'fashion': 1,\n 'LGBT': 1,\n 'TEDYouth': 1,\n 'PTSD': 1,\n 'physics': 1,\n 'pregnancy': 1,\n 'botany': 1,\n 'vulnerability': 1,\n 'philosophy': 1,\n 'play': 1,\n 'TED Brain Trust': 1,\n 'sleep': 1,\n 'Bioethics': 1,\n 'genetics': 1,\n 'biotech': 1,\n 'submarine': 1,\n 'time': 1,\n 'intelligence': 1,\n 'mindfulness': 1,\n 'composing': 1,\n 'sound': 1,\n 'india': 1,\n 'movies': 1,\n 'crime': 1,\n 'military': 1,\n 'media': 1}"
     },
     "execution_count": 357,
     "metadata": {},
     "output_type": "execute_result"
    }
   ],
   "source": [
    "final_dict_tags"
   ],
   "metadata": {
    "collapsed": false,
    "ExecuteTime": {
     "end_time": "2024-02-21T11:13:15.830732500Z",
     "start_time": "2024-02-21T11:13:15.652445400Z"
    }
   }
  },
  {
   "cell_type": "code",
   "execution_count": 365,
   "outputs": [],
   "source": [
    "top15 = pd.DataFrame(final_dict_tags.items(), columns=['tag','freq']).head(15)\n",
    "top15\n",
    "res_dict=dict()\n",
    "for key, val in zip(top15['tag'],top15['freq']):\n",
    "    res_dict[key]=val "
   ],
   "metadata": {
    "collapsed": false,
    "ExecuteTime": {
     "end_time": "2024-02-21T11:17:33.070801Z",
     "start_time": "2024-02-21T11:17:32.986400700Z"
    }
   }
  },
  {
   "cell_type": "code",
   "execution_count": 366,
   "outputs": [
    {
     "data": {
      "text/plain": "{'TEDx': 22,\n 'humanity': 18,\n 'health': 18,\n 'social change': 17,\n 'culture': 15,\n 'global issues': 15,\n 'education': 15,\n 'personal growth': 15,\n 'children': 14,\n 'technology': 13,\n 'science': 13,\n 'society': 12,\n 'community': 12,\n 'health care': 11,\n 'innovation': 10}"
     },
     "execution_count": 366,
     "metadata": {},
     "output_type": "execute_result"
    }
   ],
   "source": [
    "res_dict"
   ],
   "metadata": {
    "collapsed": false,
    "ExecuteTime": {
     "end_time": "2024-02-21T11:17:38.163695Z",
     "start_time": "2024-02-21T11:17:38.074193300Z"
    }
   }
  },
  {
   "cell_type": "code",
   "execution_count": 367,
   "metadata": {
    "pycharm": {
     "name": "#%%\n"
    },
    "ExecuteTime": {
     "end_time": "2024-02-21T11:17:53.492048700Z",
     "start_time": "2024-02-21T11:17:51.729671800Z"
    }
   },
   "outputs": [
    {
     "data": {
      "text/plain": "<Figure size 1500x900 with 1 Axes>",
      "image/png": "[encoded data removed]"
     },
     "metadata": {},
     "output_type": "display_data"
    }
   ],
   "source": [
    "from wordcloud import WordCloud\n",
    "word_cloud = WordCloud(background_color='white', width=1500, height=1000).generate_from_frequencies(res_dict)\n",
    "plt.figure(figsize=(15,9))\n",
    "plt.imshow(word_cloud, interpolation='bilinear')\n",
    "plt.axis('off')\n",
    "plt.show()"
   ]
  }
 ],
 "metadata": {
  "kernelspec": {
   "display_name": "Python 3 (ipykernel)",
   "language": "python",
   "name": "python3"
  },
  "language_info": {
   "codemirror_mode": {
    "name": "ipython",
    "version": 3
   },
   "file_extension": ".py",
   "mimetype": "text/x-python",
   "name": "python",
   "nbconvert_exporter": "python",
   "pygments_lexer": "ipython3",
   "version": "3.9.5"
  }
 },
 "nbformat": 4,
 "nbformat_minor": 4
}
